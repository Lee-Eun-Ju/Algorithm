{
 "cells": [
  {
   "cell_type": "markdown",
   "id": "3b4e1ff9",
   "metadata": {},
   "source": [
    "## 2. 조건문\n",
    "#### if ~ elif ~ else 문"
   ]
  },
  {
   "cell_type": "markdown",
   "id": "17b7b5fe",
   "metadata": {},
   "source": [
    "#### 1) 비교 연산자\n",
    "- X==Y, X!=Y\n",
    "- X>Y, X<Y\n",
    "- X>=Y, X<=Y"
   ]
  },
  {
   "cell_type": "markdown",
   "id": "2ea5bdd7",
   "metadata": {},
   "source": [
    "#### 2) 논리 연산자\n",
    "\n",
    "- X and Y : X와 Y 모두 True일 때 True\n",
    "- X or Y  : X와 Y 둘 중 하나만 True이어도 True\n",
    "- not X   : X가 Fasle일 때 True"
   ]
  },
  {
   "cell_type": "markdown",
   "id": "d213a06c",
   "metadata": {},
   "source": [
    "#### 3) 파이썬의 기타 연산자\n",
    "- X in 리스트 : 리스트 안에 X가 들어있을 때 True\n",
    "- X not in 리스트 : 리스트 안에 X가 들어있지 않을 때 True"
   ]
  },
  {
   "cell_type": "code",
   "execution_count": 1,
   "id": "ee4c0dd2",
   "metadata": {},
   "outputs": [
    {
     "name": "stdout",
     "output_type": "stream",
     "text": [
      "15\n"
     ]
    }
   ],
   "source": [
    "x = 15\n",
    "if x >= 10:\n",
    "    print(x)"
   ]
  },
  {
   "cell_type": "code",
   "execution_count": 2,
   "id": "366bd81a",
   "metadata": {},
   "outputs": [
    {
     "name": "stdout",
     "output_type": "stream",
     "text": [
      "C\n"
     ]
    }
   ],
   "source": [
    "x = 78\n",
    "\n",
    "if x >=90:\n",
    "    print(\"A\")\n",
    "elif x >=80:\n",
    "    print(\"B\")\n",
    "elif x >=70:\n",
    "    print(\"C\")\n",
    "else:\n",
    "    print(\"F\")"
   ]
  },
  {
   "cell_type": "code",
   "execution_count": 4,
   "id": "0afb1e23",
   "metadata": {},
   "outputs": [
    {
     "name": "stdout",
     "output_type": "stream",
     "text": [
      "성적이 70점 이상입니다.\n",
      "우수한 성적입니다.\n",
      "프로그램을 종료합니다.\n"
     ]
    }
   ],
   "source": [
    "x = 90\n",
    "\n",
    "if x >=70:\n",
    "    print(\"성적이 70점 이상입니다.\")\n",
    "    if x >=90:\n",
    "        print(\"우수한 성적입니다.\")\n",
    "else: \n",
    "    print(\"성적이 70점 미만입니다.\")\n",
    "    print(\"조금 더 분발하세요.\")\n",
    "    \n",
    "print(\"프로그램을 종료합니다.\")"
   ]
  },
  {
   "cell_type": "markdown",
   "id": "9de98138",
   "metadata": {},
   "source": [
    "- pass : 조건문이 True일 때, 아무것도 처리하지 않고 싶을 경우"
   ]
  },
  {
   "cell_type": "code",
   "execution_count": 9,
   "id": "c9cda0f4",
   "metadata": {},
   "outputs": [
    {
     "name": "stdout",
     "output_type": "stream",
     "text": [
      "프로그램을 종료합니다.\n"
     ]
    }
   ],
   "source": [
    "x = 85\n",
    "if x>=80:\n",
    "    pass\n",
    "else:\n",
    "    print(\"성적이 80점 미만입니다.\")\n",
    "print(\"프로그램을 종료합니다.\")"
   ]
  },
  {
   "cell_type": "markdown",
   "id": "2c812f22",
   "metadata": {},
   "source": [
    "- 실행될 코드가 한 줄인 경우 : 줄 바꿈을 하지 않고 간략하게 표현"
   ]
  },
  {
   "cell_type": "code",
   "execution_count": 12,
   "id": "2f43f9a5",
   "metadata": {},
   "outputs": [
    {
     "name": "stdout",
     "output_type": "stream",
     "text": [
      "Success\n"
     ]
    }
   ],
   "source": [
    "x = 85\n",
    "if x>=80: result=\"Success\"\n",
    "else: result=\"Fail\"\n",
    "print(result)"
   ]
  },
  {
   "cell_type": "markdown",
   "id": "4ca4f7ce",
   "metadata": {},
   "source": [
    "- 조건부 표현식 : if ~ else문을 한 줄에 작성"
   ]
  },
  {
   "cell_type": "code",
   "execution_count": 13,
   "id": "de5c19b2",
   "metadata": {},
   "outputs": [
    {
     "name": "stdout",
     "output_type": "stream",
     "text": [
      "Success\n"
     ]
    }
   ],
   "source": [
    "x = 85\n",
    "result = \"Success\" if x>=80 else \"Fail\"\n",
    "print(result)"
   ]
  },
  {
   "cell_type": "code",
   "execution_count": 14,
   "id": "f1cc1c26",
   "metadata": {},
   "outputs": [
    {
     "name": "stdout",
     "output_type": "stream",
     "text": [
      "[1, 2, 4]\n"
     ]
    }
   ],
   "source": [
    "# 일반적인 형태의 조건문 이용\n",
    "a = [1,2,3,4,5,5,5]\n",
    "remove_set = {3,5}\n",
    "\n",
    "result = []\n",
    "for i in a:\n",
    "    if i not in remove_set:\n",
    "        result.append(i)\n",
    "print(result)"
   ]
  },
  {
   "cell_type": "code",
   "execution_count": 15,
   "id": "25cdfc3a",
   "metadata": {},
   "outputs": [
    {
     "name": "stdout",
     "output_type": "stream",
     "text": [
      "[1, 2, 4]\n"
     ]
    }
   ],
   "source": [
    "# 조건부 표현식 이용\n",
    "a = [1,2,3,4,5,5,5]\n",
    "remove_set = {3,5}\n",
    "result = [i for i in a if i not in remove_set]\n",
    "print(result)"
   ]
  },
  {
   "cell_type": "code",
   "execution_count": null,
   "id": "1304876a",
   "metadata": {},
   "outputs": [],
   "source": []
  }
 ],
 "metadata": {
  "kernelspec": {
   "display_name": "Python 3",
   "language": "python",
   "name": "python3"
  },
  "language_info": {
   "codemirror_mode": {
    "name": "ipython",
    "version": 3
   },
   "file_extension": ".py",
   "mimetype": "text/x-python",
   "name": "python",
   "nbconvert_exporter": "python",
   "pygments_lexer": "ipython3",
   "version": "3.8.8"
  }
 },
 "nbformat": 4,
 "nbformat_minor": 5
}
