{
 "cells": [
  {
   "cell_type": "markdown",
   "id": "bb425098",
   "metadata": {},
   "source": [
    "## 3. 반복문\n",
    "\n",
    "#### 1) While문"
   ]
  },
  {
   "cell_type": "code",
   "execution_count": 1,
   "id": "80279481",
   "metadata": {},
   "outputs": [
    {
     "name": "stdout",
     "output_type": "stream",
     "text": [
      "45\n"
     ]
    }
   ],
   "source": [
    "i=1\n",
    "result=0\n",
    "\n",
    "while i <=9:\n",
    "    result += i\n",
    "    i += 1\n",
    "print(result)"
   ]
  },
  {
   "cell_type": "code",
   "execution_count": 3,
   "id": "d1263be1",
   "metadata": {},
   "outputs": [
    {
     "name": "stdout",
     "output_type": "stream",
     "text": [
      "25\n"
     ]
    }
   ],
   "source": [
    "i=1\n",
    "result=0\n",
    "\n",
    "while i <=9:\n",
    "    if i%2==1:result += i\n",
    "    i +=1\n",
    "print(result)"
   ]
  },
  {
   "cell_type": "markdown",
   "id": "f60d03ea",
   "metadata": {},
   "source": [
    "#### 2) for문\n",
    "\n",
    "- range(시작 값, 끝 값+1)\n",
    "- range(끝 값+1) : 시작값은 자동으로 0"
   ]
  },
  {
   "cell_type": "code",
   "execution_count": 5,
   "id": "6bfd8f6f",
   "metadata": {},
   "outputs": [
    {
     "name": "stdout",
     "output_type": "stream",
     "text": [
      "45\n"
     ]
    }
   ],
   "source": [
    "result = 0\n",
    "for i in range(1, 10):\n",
    "    result += i\n",
    "print(result)"
   ]
  },
  {
   "cell_type": "code",
   "execution_count": 7,
   "id": "82588122",
   "metadata": {},
   "outputs": [
    {
     "name": "stdout",
     "output_type": "stream",
     "text": [
      "1 번 학생은 합격\n",
      "2 번 학생은 합격\n",
      "5 번 학생은 합격\n"
     ]
    }
   ],
   "source": [
    "score = [90, 85, 77, 65, 97]\n",
    "for i in range(5):\n",
    "    if score[i] >=80:\n",
    "        print(i+1, \"번 학생은 합격\")"
   ]
  },
  {
   "cell_type": "markdown",
   "id": "f79ea719",
   "metadata": {},
   "source": [
    "- continue : 해당 반복문 무시하고 처음으로"
   ]
  },
  {
   "cell_type": "code",
   "execution_count": 9,
   "id": "edd510cf",
   "metadata": {},
   "outputs": [
    {
     "name": "stdout",
     "output_type": "stream",
     "text": [
      "1 번 학생은 합격\n",
      "5 번 학생은 합격\n"
     ]
    }
   ],
   "source": [
    "score = [90, 85, 77, 65, 97]\n",
    "cheating_list = {2,4} #집합\n",
    "\n",
    "for i in range(5):\n",
    "    if i+1 in cheating_list: #2번째, 4번째 학생은 무시\n",
    "        continue \n",
    "    if score[i]>=80:\n",
    "        print(i+1, \"번 학생은 합격\")"
   ]
  },
  {
   "cell_type": "code",
   "execution_count": 11,
   "id": "6b859b87",
   "metadata": {
    "collapsed": true
   },
   "outputs": [
    {
     "name": "stdout",
     "output_type": "stream",
     "text": [
      "2\n",
      "4\n",
      "6\n",
      "8\n",
      "10\n",
      "12\n",
      "14\n",
      "16\n",
      "18\n",
      "3\n",
      "6\n",
      "9\n",
      "12\n",
      "15\n",
      "18\n",
      "21\n",
      "24\n",
      "27\n",
      "4\n",
      "8\n",
      "12\n",
      "16\n",
      "20\n",
      "24\n",
      "28\n",
      "32\n",
      "36\n",
      "5\n",
      "10\n",
      "15\n",
      "20\n",
      "25\n",
      "30\n",
      "35\n",
      "40\n",
      "45\n",
      "6\n",
      "12\n",
      "18\n",
      "24\n",
      "30\n",
      "36\n",
      "42\n",
      "48\n",
      "54\n",
      "7\n",
      "14\n",
      "21\n",
      "28\n",
      "35\n",
      "42\n",
      "49\n",
      "56\n",
      "63\n",
      "8\n",
      "16\n",
      "24\n",
      "32\n",
      "40\n",
      "48\n",
      "56\n",
      "64\n",
      "72\n",
      "9\n",
      "18\n",
      "27\n",
      "36\n",
      "45\n",
      "54\n",
      "63\n",
      "72\n",
      "81\n"
     ]
    }
   ],
   "source": [
    "for i in range(2,10):\n",
    "    for j in range(1,10):\n",
    "        print(i*j)"
   ]
  },
  {
   "cell_type": "code",
   "execution_count": null,
   "id": "7aefb0df",
   "metadata": {},
   "outputs": [],
   "source": []
  }
 ],
 "metadata": {
  "kernelspec": {
   "display_name": "Python 3",
   "language": "python",
   "name": "python3"
  },
  "language_info": {
   "codemirror_mode": {
    "name": "ipython",
    "version": 3
   },
   "file_extension": ".py",
   "mimetype": "text/x-python",
   "name": "python",
   "nbconvert_exporter": "python",
   "pygments_lexer": "ipython3",
   "version": "3.8.8"
  }
 },
 "nbformat": 4,
 "nbformat_minor": 5
}
