{
 "cells": [
  {
   "cell_type": "markdown",
   "id": "29c597b1",
   "metadata": {},
   "source": [
    "## 4. 함수\n",
    "\n",
    "def 함수명(매개변수):  \n",
    "　　실행할 소스코드  \n",
    "　　return 반환 값\n",
    "\n",
    "- 함수 내에 결과 출력하도록 하는 경우, return문 없이 가능\n",
    "- 파라미터 변수 직접 지정하는 경우, 순서 상관없음"
   ]
  },
  {
   "cell_type": "code",
   "execution_count": 1,
   "id": "08acb9d0",
   "metadata": {},
   "outputs": [
    {
     "data": {
      "text/plain": [
       "10"
      ]
     },
     "execution_count": 1,
     "metadata": {},
     "output_type": "execute_result"
    }
   ],
   "source": [
    "def add(a,b):\n",
    "    return(a+b)\n",
    "add(7,3)"
   ]
  },
  {
   "cell_type": "code",
   "execution_count": 2,
   "id": "46e08384",
   "metadata": {},
   "outputs": [
    {
     "name": "stdout",
     "output_type": "stream",
     "text": [
      "10\n"
     ]
    }
   ],
   "source": [
    "def add(a,b):\n",
    "    print(a+b)\n",
    "add(7,3)"
   ]
  },
  {
   "cell_type": "code",
   "execution_count": 3,
   "id": "0b6c7383",
   "metadata": {},
   "outputs": [
    {
     "name": "stdout",
     "output_type": "stream",
     "text": [
      "10\n"
     ]
    }
   ],
   "source": [
    "add(b=3, a=7)"
   ]
  },
  {
   "cell_type": "markdown",
   "id": "ae5cdee3",
   "metadata": {},
   "source": [
    "- global : 함수 안에서 함수 밖의 변수 데이터를 변경해야하는 경우"
   ]
  },
  {
   "cell_type": "code",
   "execution_count": 4,
   "id": "4d27ade9",
   "metadata": {},
   "outputs": [
    {
     "name": "stdout",
     "output_type": "stream",
     "text": [
      "10\n"
     ]
    }
   ],
   "source": [
    "a = 0\n",
    "def func():\n",
    "    global a\n",
    "    a +=1\n",
    "\n",
    "for i in range(10):\n",
    "    func()\n",
    "    \n",
    "print(a)"
   ]
  },
  {
   "cell_type": "markdown",
   "id": "e7eca7d3",
   "metadata": {},
   "source": [
    "- 람다 표현식 : 간단하게 작성 시 유용"
   ]
  },
  {
   "cell_type": "code",
   "execution_count": 5,
   "id": "bf1d2511",
   "metadata": {},
   "outputs": [
    {
     "data": {
      "text/plain": [
       "10"
      ]
     },
     "execution_count": 5,
     "metadata": {},
     "output_type": "execute_result"
    }
   ],
   "source": [
    "(lambda a, b: a+b)(3,7)"
   ]
  },
  {
   "cell_type": "code",
   "execution_count": null,
   "id": "20dda459",
   "metadata": {},
   "outputs": [],
   "source": []
  }
 ],
 "metadata": {
  "kernelspec": {
   "display_name": "Python 3",
   "language": "python",
   "name": "python3"
  },
  "language_info": {
   "codemirror_mode": {
    "name": "ipython",
    "version": 3
   },
   "file_extension": ".py",
   "mimetype": "text/x-python",
   "name": "python",
   "nbconvert_exporter": "python",
   "pygments_lexer": "ipython3",
   "version": "3.8.8"
  }
 },
 "nbformat": 4,
 "nbformat_minor": 5
}
