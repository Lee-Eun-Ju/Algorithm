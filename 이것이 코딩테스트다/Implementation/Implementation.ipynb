{
 "cells": [
  {
   "cell_type": "code",
   "execution_count": 1,
   "id": "d0b2710d",
   "metadata": {},
   "outputs": [
    {
     "data": {
      "text/html": [
       "<style>.container { width:90% !important; }</style>"
      ],
      "text/plain": [
       "<IPython.core.display.HTML object>"
      ]
     },
     "metadata": {},
     "output_type": "display_data"
    }
   ],
   "source": [
    "#창 맞추기위함\n",
    "from IPython.core.display import display, HTML\n",
    "display(HTML(\"<style>.container { width:90% !important; }</style>\"))"
   ]
  },
  {
   "cell_type": "markdown",
   "id": "2f5c1675",
   "metadata": {},
   "source": [
    "## 구현\n",
    "\n",
    "- 머릿속에 있는 알고리즘을 소스코드로 바꾸는 과정\n",
    "- 프로그래밍 문법이나 라이브러리 사용 경험이 필요"
   ]
  },
  {
   "cell_type": "markdown",
   "id": "71f7ddbe",
   "metadata": {},
   "source": [
    "#### 구현 유형 종류 : 완전 탐색, 시뮬레이션\n",
    "- 1) 완전 탐색 : 모든 경우의 수를 주저 없이 다 계산하는 해결 방법\n",
    "- 2) 시뮬레이션 : 문제에서 제시한 알고리즘을 한 단계씩 차례대로 직접 수행"
   ]
  },
  {
   "cell_type": "markdown",
   "id": "8244afa2",
   "metadata": {},
   "source": [
    "#### 구현 제약 : 리스트 크기\n",
    "- 메모리 제한 (128 ~ 512MB)을 염두에 두고 코딩\n",
    "  - 리스트 길이가 1000개인 경우 : 메모리 약 4KB\n",
    "  - 1000만 이상의 리스트는 X\n",
    "  \n",
    "- 일반적으로 메모리 사용량 제한보다 더 적은 크기의 메모리를 사용"
   ]
  },
  {
   "cell_type": "markdown",
   "id": "ede64295",
   "metadata": {},
   "source": [
    "## 1. 상하좌우\n",
    "- 일련의 명령에 따라 개체를 차례대로 이동 : 시뮬레이션\n",
    "\n",
    "#### Try"
   ]
  },
  {
   "cell_type": "code",
   "execution_count": 5,
   "id": "021e99ff",
   "metadata": {},
   "outputs": [
    {
     "name": "stdout",
     "output_type": "stream",
     "text": [
      "5\n",
      "R R R U D D\n",
      "3 4\n"
     ]
    }
   ],
   "source": [
    "n = int(input())\n",
    "direction = list(input().split())\n",
    "\n",
    "x=1; y=1\n",
    "for d in direction:\n",
    "    if d==\"L\": \n",
    "        y-=1 \n",
    "        if y==0: y+=1\n",
    "        else: pass\n",
    "    elif d==\"R\": \n",
    "        y+=1\n",
    "        if y==0: y-=1\n",
    "        else: pass\n",
    "    elif d==\"U\": \n",
    "        x-=1\n",
    "        if x==0: x+=1\n",
    "        else: pass\n",
    "    else: \n",
    "        x+=1\n",
    "        if x==0: x-=1\n",
    "        else: pass\n",
    "\n",
    "print(x, y)"
   ]
  },
  {
   "cell_type": "markdown",
   "id": "d1d1ada3",
   "metadata": {},
   "source": [
    "#### Answer\n",
    "- 이동 후 좌표를 구한 후, 해당 좌표가 구간을 벗어나면 이동을 시행하지 않기\n",
    "- dx, dy 리스트를 선언하여 이동할 방향 기록 **"
   ]
  },
  {
   "cell_type": "code",
   "execution_count": 1,
   "id": "f421bfeb",
   "metadata": {},
   "outputs": [
    {
     "name": "stdout",
     "output_type": "stream",
     "text": [
      "5\n",
      "R R R U D D\n",
      "3 4\n"
     ]
    }
   ],
   "source": [
    "n = int(input())\n",
    "x, y = 1, 1\n",
    "plans = input().split()\n",
    "\n",
    "# L, R, U, D\n",
    "dx = [0,0,-1,1]\n",
    "dy = [-1,1,0,0]\n",
    "move_types = ['L','R','U','D']\n",
    "\n",
    "for plan in plans:\n",
    "    for i in range(len(move_types)):\n",
    "        if plan == move_types[i]:\n",
    "            nx = x + dx[i] # 이동 후 x좌표\n",
    "            ny = y + dy[i] # 이동 후 y좌표\n",
    "    \n",
    "    # 이동 후 좌표가 구간을 벗어나는 경우 좌표이동을 수행하지 X\n",
    "    if nx <1 or ny<1 or nx >n or ny>n:\n",
    "        continue\n",
    "        \n",
    "    # 좌표 이동\n",
    "    x, y = nx, ny\n",
    "\n",
    "print(x, y)"
   ]
  },
  {
   "cell_type": "markdown",
   "id": "bea2e501",
   "metadata": {},
   "source": [
    "## 2. 시각\n",
    "- 완전 탐색 : 가능한 경우의 수를 모두 검사해보는 탐색\n",
    "- 시간 제한으로 전체 데이터 개수가 100만 개 이하일 때, 완전 탐색 사용하면 적절\n",
    "\n",
    "#### Try"
   ]
  },
  {
   "cell_type": "code",
   "execution_count": 9,
   "id": "12fdeb69",
   "metadata": {},
   "outputs": [
    {
     "name": "stdout",
     "output_type": "stream",
     "text": [
      "5\n",
      "11475\n"
     ]
    }
   ],
   "source": [
    "n = int(input())\n",
    "\n",
    "# 3,13,23,30,31,32,33,34,35,36,37,38,39,43,53\n",
    "count_in_1hour = 45*15 + 15*60 # => (분,초) 실수 가능성 높다.\n",
    "count_3_13_23 = 60*60\n",
    "\n",
    "if n==0:\n",
    "    result=0\n",
    "elif n in range(1,3):\n",
    "    result=count_in_1hour*(n+1)\n",
    "elif n in range(3,13):\n",
    "    result=count_in_1hour*(n) + count_3_13_23\n",
    "elif n in range(13,23):\n",
    "    result=count_in_1hour*(n-1) + count_3_13_23*2\n",
    "else:\n",
    "    result=count_in_1hour*(n-2) + count_3_13_23*3\n",
    "\n",
    "print(result)"
   ]
  },
  {
   "cell_type": "markdown",
   "id": "be14d9c2",
   "metadata": {},
   "source": [
    "#### Answer\n",
    "- 시간의 모든 경우에서, 문자열 자료형 변형을 통해 체크"
   ]
  },
  {
   "cell_type": "code",
   "execution_count": 3,
   "id": "f9d82118",
   "metadata": {},
   "outputs": [
    {
     "name": "stdout",
     "output_type": "stream",
     "text": [
      "5\n",
      "11475\n"
     ]
    }
   ],
   "source": [
    "h = int(input())\n",
    "count = 0\n",
    "\n",
    "for i in range(h+1): # 시간\n",
    "    for j in range(60): # 분\n",
    "        for k in range(60): # 초\n",
    "            if \"3\" in str(i) + str(j) + str(k):\n",
    "                count +=1\n",
    "\n",
    "print(count)"
   ]
  },
  {
   "cell_type": "markdown",
   "id": "fd2570d1",
   "metadata": {},
   "source": [
    "## 3. 왕실의 나이트\n",
    "#### Try"
   ]
  },
  {
   "cell_type": "code",
   "execution_count": 25,
   "id": "c950fd0e",
   "metadata": {},
   "outputs": [
    {
     "name": "stdout",
     "output_type": "stream",
     "text": [
      "c2\n",
      "6\n"
     ]
    }
   ],
   "source": [
    "x = input()\n",
    "row_all = ['a', 'b', 'c', 'd', 'e', 'f', 'g', 'h']\n",
    "row = row_all.index(x[0]) +1\n",
    "column = int(x[1])\n",
    "\n",
    "move = [(-1, +2),(+1, +2),(-2,+1),(+2,+1),(-2,-1),(+2,-1),(-1,-2),(+1,-2)] #Answer 참고\n",
    "result = 0\n",
    "for i in move:\n",
    "    a = row + i[0]\n",
    "    b = column + i[1]\n",
    "    if ((a>0)&(a<9))&((b>0)&(b<9)):\n",
    "        result+=1\n",
    "    else:\n",
    "        pass\n",
    "print(result)"
   ]
  },
  {
   "cell_type": "markdown",
   "id": "55f48354",
   "metadata": {},
   "source": [
    "#### Answer\n",
    "- ord : 문자를 유니코드 정수로 반환\n",
    "  - 'a' : 97로 반환\n",
    "- steps 변수로 이동할 방향을 기록 (상하좌우 문제의 dx, dy와 같은 역할) **"
   ]
  },
  {
   "cell_type": "code",
   "execution_count": 6,
   "id": "6a442fe9",
   "metadata": {},
   "outputs": [
    {
     "name": "stdout",
     "output_type": "stream",
     "text": [
      "c2\n",
      "6\n"
     ]
    }
   ],
   "source": [
    "input_data = input()\n",
    "row = int(input_data[1])\n",
    "column = int(ord(input_data[0])) - int(ord('a')) +1\n",
    "\n",
    "steps = [(-1, +2),(+1, +2),(-2,+1),(+2,+1),(-2,-1),(+2,-1),(-1,-2),(+1,-2)]\n",
    "\n",
    "result = 0\n",
    "for step in steps:\n",
    "    next_row = row + step[0]\n",
    "    next_column = column + step[1]\n",
    "    if next_row>=1 and next_row<=8 and next_column>=1 and next_column<=8:\n",
    "        result += 1\n",
    "print(result)"
   ]
  },
  {
   "cell_type": "markdown",
   "id": "9e4379ea",
   "metadata": {},
   "source": [
    "## 4. 게임 개발\n",
    "#### Try"
   ]
  },
  {
   "cell_type": "code",
   "execution_count": 20,
   "id": "a6c96702",
   "metadata": {},
   "outputs": [
    {
     "name": "stdout",
     "output_type": "stream",
     "text": [
      "4 4\n",
      "1 1 0\n",
      "1 1 1 1\n",
      "1 0 0 1\n",
      "1 1 0 1\n",
      "1 1 1 1\n",
      "3\n"
     ]
    }
   ],
   "source": [
    "n, m = map(int, input().split())\n",
    "a, b, d = map(int, input().split())\n",
    "\n",
    "map_data = []\n",
    "for _ in range(n):     \n",
    "    map_data.append(list(map(int, input().split())))\n",
    "    \n",
    "step = [(-1,0),(0,1),(1,0),(0,-1)] # 이동 좌표\n",
    "d_type = [d-1, d-2, d-3, d-4] # 방향\n",
    "went = [(a,b)] # 갔던 좌표\n",
    "result = 0 # 이동 횟수\n",
    "\n",
    "while True:\n",
    "    for i in d_type:\n",
    "        ax = a + step[i][0] # 이동된 좌표 x\n",
    "        by = b + step[i][1] # 이동된 좌표 y\n",
    "        if ((ax,by) not in went) and map_data[ax][by] ==0: # 육지이고, 가보지 않은 장소\n",
    "            a_i,b_i,d_i = ax,by,i # 이동(임시 저장)\n",
    "            result += 1 # 이동 횟수\n",
    "            went.append((a_i,b_i)) # 가본 좌표로 기록\n",
    "            break\n",
    "        else:\n",
    "            a_i,b_i =a,b # 이동하지 않은 경우(임시 저장)\n",
    "            continue\n",
    "    \n",
    "    # 모든 방향에서 이동하지 않은 경우 (임시 저장한 값과 기존 값에 차이가 없는 경우)\n",
    "    if (a_i==a) and (b_i==b):\n",
    "        if map_data[a_i+step[d-2][0]][b_i+step[d-2][1]]==1:\n",
    "            break\n",
    "        else:\n",
    "            a_i = step[d-2][0]\n",
    "            b_i = step[d-2][1]\n",
    "            result += 1\n",
    "    a,b,d = a_i, b_i, d_i\n",
    "        \n",
    "print(result)"
   ]
  },
  {
   "cell_type": "markdown",
   "id": "8fb33b59",
   "metadata": {},
   "source": [
    "#### Answer\n",
    "- 방향을 설정해 이동하는 문제 유형: dx,dy라는 별도의 리스트를 만들어 방향을 정하는 것\n",
    "- 리스트 컴프리헨션: 리스트를 생성하는 것 ex) [[0]*m for _ in range(n)] 으로 2차원 리스트 초기화"
   ]
  },
  {
   "cell_type": "code",
   "execution_count": 22,
   "id": "d7de2343",
   "metadata": {},
   "outputs": [
    {
     "name": "stdout",
     "output_type": "stream",
     "text": [
      "4 4\n",
      "1 1 0\n",
      "1 1 1 1\n",
      "1 0 0 1\n",
      "1 1 0 1\n",
      "1 1 1 1\n",
      "3\n"
     ]
    }
   ],
   "source": [
    "n, m = map(int, input().split())\n",
    "x, y, direction = map(int, input().split())\n",
    "\n",
    "# 방문 위치를 저장하기 위해 0으로 초기화\n",
    "d = [[0]*m for _ in range(n)] \n",
    "d[x][y] = 1 # 현재 좌표 방문 처리\n",
    "\n",
    "# 전체 맵 정보를 입력받기\n",
    "array = []\n",
    "for i in range(n):\n",
    "    array.append(list(map(int, input().split())))\n",
    "\n",
    "# 북, 동, 남, 서 방향\n",
    "dx = [-1, 0, 1, 0]\n",
    "dy = [0, 1, 0, -1]\n",
    "\n",
    "# 왼쪽으로 회전 (0-1 방향 = 3)\n",
    "def turn_left():\n",
    "    global direction\n",
    "    direction -= 1 \n",
    "    if direction ==-1:\n",
    "        direction = 3 \n",
    "        \n",
    "# 시뮬레이션\n",
    "count =1\n",
    "turn_time =0\n",
    "\n",
    "while True:\n",
    "    # 왼쪽으로 회전\n",
    "    turn_left()\n",
    "    nx = x + dx[direction]\n",
    "    ny = y + dy[direction]\n",
    "    \n",
    "    # 회전 시, 이동할 수 있는 경우\n",
    "    if d[nx][ny]==0 and array[nx][ny]==0:\n",
    "        d[nx][ny]=1\n",
    "        x = nx\n",
    "        y = ny\n",
    "        count += 1\n",
    "        turn_time =0\n",
    "        continue\n",
    "        \n",
    "    else:\n",
    "        turn_time += 1 \n",
    "        \n",
    "    # 4 방향을 모두 갈 수 없는 경우\n",
    "    if turn_time ==4:\n",
    "        nx = x - dx[direction] # - 앞 방향 = 뒷 방향\n",
    "        ny = y - dx[direction]\n",
    "        if array[nx][ny] ==0: # 육지이면 이동\n",
    "            x = nx\n",
    "            y = ny\n",
    "        else:\n",
    "            break\n",
    "        turn_time =0\n",
    "\n",
    "print(count)"
   ]
  },
  {
   "cell_type": "code",
   "execution_count": null,
   "id": "7d3347bf",
   "metadata": {},
   "outputs": [],
   "source": []
  }
 ],
 "metadata": {
  "kernelspec": {
   "display_name": "Python 3",
   "language": "python",
   "name": "python3"
  },
  "language_info": {
   "codemirror_mode": {
    "name": "ipython",
    "version": 3
   },
   "file_extension": ".py",
   "mimetype": "text/x-python",
   "name": "python",
   "nbconvert_exporter": "python",
   "pygments_lexer": "ipython3",
   "version": "3.8.8"
  }
 },
 "nbformat": 4,
 "nbformat_minor": 5
}
