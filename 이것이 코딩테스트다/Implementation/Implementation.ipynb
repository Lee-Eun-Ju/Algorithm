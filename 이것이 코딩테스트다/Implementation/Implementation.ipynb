{
 "cells": [
  {
   "cell_type": "code",
   "execution_count": 1,
   "id": "d0b2710d",
   "metadata": {},
   "outputs": [
    {
     "data": {
      "text/html": [
       "<style>.container { width:90% !important; }</style>"
      ],
      "text/plain": [
       "<IPython.core.display.HTML object>"
      ]
     },
     "metadata": {},
     "output_type": "display_data"
    }
   ],
   "source": [
    "#창 맞추기위함\n",
    "from IPython.core.display import display, HTML\n",
    "display(HTML(\"<style>.container { width:90% !important; }</style>\"))"
   ]
  },
  {
   "cell_type": "markdown",
   "id": "2f5c1675",
   "metadata": {},
   "source": [
    "## 구현\n",
    "\n",
    "- 머릿속에 있는 알고리즘을 소스코드로 바꾸는 과정\n",
    "- 프로그래밍 문법이나 라이브러리 사용 경험이 필요"
   ]
  },
  {
   "cell_type": "markdown",
   "id": "71f7ddbe",
   "metadata": {},
   "source": [
    "#### 구현 유형 종류 : 완전 탐색, 시뮬레이션\n",
    "- 1) 완전 탐색 : 모든 경우의 수를 주저 없이 다 계산하는 해결 방법\n",
    "- 2) 시뮬레이션 : 문제에서 제시한 알고리즘을 한 단계씩 차례대로 직접 수행"
   ]
  },
  {
   "cell_type": "markdown",
   "id": "8244afa2",
   "metadata": {},
   "source": [
    "#### 구현 제약 : 리스트 크기\n",
    "- 메모리 제한 (128 ~ 512MB)을 염두에 두고 코딩\n",
    "  - 리스트 길이가 1000개인 경우 : 메모리 약 4KB\n",
    "  - 1000만 이상의 리스트는 X\n",
    "  \n",
    "- 일반적으로 메모리 사용량 제한보다 더 적은 크기의 메모리를 사용"
   ]
  },
  {
   "cell_type": "markdown",
   "id": "ede64295",
   "metadata": {},
   "source": [
    "## 1. 상하좌우\n",
    "#### Try"
   ]
  },
  {
   "cell_type": "code",
   "execution_count": 5,
   "id": "021e99ff",
   "metadata": {},
   "outputs": [
    {
     "name": "stdout",
     "output_type": "stream",
     "text": [
      "5\n",
      "R R R U D D\n",
      "3 4\n"
     ]
    }
   ],
   "source": [
    "n = int(input())\n",
    "direction = list(input().split())\n",
    "\n",
    "x=1; y=1\n",
    "for d in direction:\n",
    "    if d==\"L\": \n",
    "        y-=1 \n",
    "        if y==0: y+=1\n",
    "        else: pass\n",
    "    elif d==\"R\": \n",
    "        y+=1\n",
    "        if y==0: y-=1\n",
    "        else: pass\n",
    "    elif d==\"U\": \n",
    "        x-=1\n",
    "        if x==0: x+=1\n",
    "        else: pass\n",
    "    else: \n",
    "        x+=1\n",
    "        if x==0: x-=1\n",
    "        else: pass\n",
    "\n",
    "print(x, y)"
   ]
  },
  {
   "cell_type": "markdown",
   "id": "d1d1ada3",
   "metadata": {},
   "source": [
    "#### Answer"
   ]
  },
  {
   "cell_type": "code",
   "execution_count": null,
   "id": "f421bfeb",
   "metadata": {},
   "outputs": [],
   "source": []
  },
  {
   "cell_type": "markdown",
   "id": "bea2e501",
   "metadata": {},
   "source": [
    "## 2. 시각\n",
    "#### Try"
   ]
  },
  {
   "cell_type": "code",
   "execution_count": 9,
   "id": "12fdeb69",
   "metadata": {},
   "outputs": [
    {
     "name": "stdout",
     "output_type": "stream",
     "text": [
      "5\n",
      "11475\n"
     ]
    }
   ],
   "source": [
    "n = int(input())\n",
    "\n",
    "# 3,13,23,30,31,32,33,34,35,36,37,38,39,43,53\n",
    "count_in_1hour = 45*15 + 15*60 # => (분,초) 실수 가능성 높다.\n",
    "count_3_13_23 = 60*60\n",
    "\n",
    "if n==0:\n",
    "    result=0\n",
    "elif n in range(1,3):\n",
    "    result=count_in_1hour*(n+1)\n",
    "elif n in range(3,13):\n",
    "    result=count_in_1hour*(n) + count_3_13_23\n",
    "elif n in range(13,23):\n",
    "    result=count_in_1hour*(n-1) + count_3_13_23*2\n",
    "else:\n",
    "    result=count_in_1hour*(n-2) + count_3_13_23*3\n",
    "\n",
    "print(result)"
   ]
  },
  {
   "cell_type": "markdown",
   "id": "be14d9c2",
   "metadata": {},
   "source": [
    "#### Answer"
   ]
  },
  {
   "cell_type": "code",
   "execution_count": null,
   "id": "f9d82118",
   "metadata": {},
   "outputs": [],
   "source": []
  },
  {
   "cell_type": "markdown",
   "id": "fd2570d1",
   "metadata": {},
   "source": [
    "## 3. 왕실의 나이트\n",
    "#### Try"
   ]
  },
  {
   "cell_type": "code",
   "execution_count": 25,
   "id": "c950fd0e",
   "metadata": {},
   "outputs": [
    {
     "name": "stdout",
     "output_type": "stream",
     "text": [
      "c2\n",
      "6\n"
     ]
    }
   ],
   "source": [
    "x = input()\n",
    "row_all = ['a', 'b', 'c', 'd', 'e', 'f', 'g', 'h']\n",
    "row = row_all.index(x[0]) +1\n",
    "column = int(x[1])\n",
    "\n",
    "move = [(-1, +2),(+1, +2),(-2,+1),(+2,+1),(-2,-1),(+2,-1),(-1,-2),(+1,-2)] #Answer 참고\n",
    "result = 0\n",
    "for i in move:\n",
    "    a = row + i[0]\n",
    "    b = column + i[1]\n",
    "    if ((a>0)&(a<9))&((b>0)&(b<9)):\n",
    "        result+=1\n",
    "    else:\n",
    "        pass\n",
    "print(result)"
   ]
  },
  {
   "cell_type": "markdown",
   "id": "55f48354",
   "metadata": {},
   "source": [
    "#### Answer"
   ]
  },
  {
   "cell_type": "code",
   "execution_count": null,
   "id": "6a442fe9",
   "metadata": {},
   "outputs": [],
   "source": []
  },
  {
   "cell_type": "markdown",
   "id": "9e4379ea",
   "metadata": {},
   "source": [
    "## 4. 게임 개발\n",
    "#### Try"
   ]
  },
  {
   "cell_type": "code",
   "execution_count": null,
   "id": "a6c96702",
   "metadata": {},
   "outputs": [],
   "source": [
    "n, m =map(int, input().split())\n",
    "a, b, d = map(int, input().split())\n",
    "\n",
    "map = []\n",
    "for _ in n:\n",
    "    list = list(map(int, input().split()))\n",
    "    map.append(list)\n",
    "\n",
    "now = map[a][b] #아이디어가 떠오르지 않는다... 내일 answer과 복습하며 다시 공부 후 풀어보겠다!\n"
   ]
  },
  {
   "cell_type": "markdown",
   "id": "8fb33b59",
   "metadata": {},
   "source": [
    "#### Answer"
   ]
  },
  {
   "cell_type": "code",
   "execution_count": null,
   "id": "7df57f56",
   "metadata": {},
   "outputs": [],
   "source": []
  }
 ],
 "metadata": {
  "kernelspec": {
   "display_name": "Python 3",
   "language": "python",
   "name": "python3"
  },
  "language_info": {
   "codemirror_mode": {
    "name": "ipython",
    "version": 3
   },
   "file_extension": ".py",
   "mimetype": "text/x-python",
   "name": "python",
   "nbconvert_exporter": "python",
   "pygments_lexer": "ipython3",
   "version": "3.8.8"
  }
 },
 "nbformat": 4,
 "nbformat_minor": 5
}
