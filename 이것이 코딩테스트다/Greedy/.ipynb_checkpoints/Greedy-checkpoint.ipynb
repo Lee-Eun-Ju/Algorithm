{
 "cells": [
  {
   "cell_type": "code",
   "execution_count": 1,
   "id": "49ddb0d7",
   "metadata": {},
   "outputs": [
    {
     "data": {
      "text/html": [
       "<style>.container { width:90% !important; }</style>"
      ],
      "text/plain": [
       "<IPython.core.display.HTML object>"
      ]
     },
     "metadata": {},
     "output_type": "display_data"
    }
   ],
   "source": [
    "#창 맞추기위함\n",
    "from IPython.core.display import display, HTML\n",
    "display(HTML(\"<style>.container { width:90% !important; }</style>\"))"
   ]
  },
  {
   "cell_type": "markdown",
   "id": "665a0cc5",
   "metadata": {},
   "source": [
    "## 그리디\n",
    "\n",
    "#### 그리디란?\n",
    "- 탐욕법 : 현재 상황에서 지금 당장 좋은 것만 고르는 방법\n",
    "- 현재의 선택이 나중에 미칠 영향은 고려하지 않는다"
   ]
  },
  {
   "cell_type": "markdown",
   "id": "6d461e40",
   "metadata": {},
   "source": [
    "### 1. 거스름돈\n",
    "\n",
    "- 예시) N=1260 : [최소 6개] 500원 2개→100원 2개→50원 1개→10원 1개 "
   ]
  },
  {
   "cell_type": "markdown",
   "id": "d13b50c7",
   "metadata": {},
   "source": [
    "#### Try"
   ]
  },
  {
   "cell_type": "code",
   "execution_count": 6,
   "id": "300a5b9a",
   "metadata": {},
   "outputs": [
    {
     "name": "stdout",
     "output_type": "stream",
     "text": [
      "6\n"
     ]
    }
   ],
   "source": [
    "N=1260\n",
    "\n",
    "def money(n):\n",
    "    a = n//500\n",
    "    b = (n-a*500)//100\n",
    "    c = (n-a*500-b*100)//50\n",
    "    d = (n-a*500-b*100-c*50)//10\n",
    "    return(a+b+c+d)\n",
    "\n",
    "count= money(N); print(count) "
   ]
  },
  {
   "cell_type": "markdown",
   "id": "41da2287",
   "metadata": {},
   "source": [
    "#### Answer\n",
    "<figure class=\"align-left\" style=\"width: 400px\"> \n",
    "    <img src=\"./참고/연산자.png\" alt=\"\"> \n",
    "</figure> "
   ]
  },
  {
   "cell_type": "code",
   "execution_count": 17,
   "id": "8a356ae4",
   "metadata": {},
   "outputs": [
    {
     "name": "stdout",
     "output_type": "stream",
     "text": [
      "6\n"
     ]
    }
   ],
   "source": [
    "# 시간복잡도 : O(K)로 동전의 종류에만 영향을 받음\n",
    "\n",
    "n=1260\n",
    "count=0\n",
    "\n",
    "coin_type = [500,100,50,10]\n",
    "for coin in coin_type:\n",
    "    count += n // coin\n",
    "    n %= coin\n",
    "\n",
    "print(count)    "
   ]
  },
  {
   "cell_type": "markdown",
   "id": "f2c2baca",
   "metadata": {},
   "source": [
    "### 2. 큰 수의 법칙\n",
    "\n",
    "- 큰 수의 법칙 : 다양한 수로 이루어진 배열있을 때, 주어진 수들을 M번 더하여 가장 큰 수를 만드는 법칙\n",
    "- 단, 특정 인덱스에 해당하는 수가 연속하여 K번 초과해 더해질 수 없다.\n",
    "- Ex) 2,4,5,4,6 (M=8, K=3) : 6+6+6+5+6+6+6+5 (서로 다른 인덱스에 있는 같은 수 -> 다른 것으로 간주)"
   ]
  },
  {
   "cell_type": "markdown",
   "id": "01a7867c",
   "metadata": {},
   "source": [
    "#### Try"
   ]
  },
  {
   "cell_type": "code",
   "execution_count": 11,
   "id": "08da7b20",
   "metadata": {},
   "outputs": [
    {
     "name": "stdout",
     "output_type": "stream",
     "text": [
      "8 9 2\n",
      "5 6 8 9 4 5 2 3\n"
     ]
    },
    {
     "data": {
      "text/plain": [
       "78"
      ]
     },
     "execution_count": 11,
     "metadata": {},
     "output_type": "execute_result"
    }
   ],
   "source": [
    "n, m, k = map(int, input().split())\n",
    "x = list(map(int, input().split()))\n",
    "\n",
    "def number(n, m, k, x):\n",
    "    x.sort(reverse=True)\n",
    "    max1 = x[0]\n",
    "    max2 = x[1]\n",
    "    \n",
    "    group = (max1*k + max2) # 가장 큰 값 k번 + 두번째 큰 값 1번\n",
    "    group_n = m//(k+1)      # group을 몇 번 반복할 것인가\n",
    "    rest_n = m%(k+1)        # m번 중 group 최대한 포함한 이후 나머지는 가장 큰 값\n",
    "    total = group*group_n + max1*rest_n # 총 합\n",
    "    return(total)\n",
    "\n",
    "number(n, m, k, x)"
   ]
  },
  {
   "cell_type": "markdown",
   "id": "c4a89370",
   "metadata": {},
   "source": [
    "#### Answer 1 \n",
    "- m의 크기가 커지면 시간 초과 판정 받을 수 있다"
   ]
  },
  {
   "cell_type": "code",
   "execution_count": 12,
   "id": "267eaed1",
   "metadata": {},
   "outputs": [
    {
     "name": "stdout",
     "output_type": "stream",
     "text": [
      "8 9 2\n",
      "5 6 8 9 4 5 2 3\n",
      "78\n"
     ]
    }
   ],
   "source": [
    "n, m, k = map(int, input().split())\n",
    "data = list(map(int, input().split()))\n",
    "\n",
    "data.sort()\n",
    "first = data[n-1]\n",
    "second = data[n-2]\n",
    "result = 0\n",
    "\n",
    "while True:\n",
    "    for _ in range(k):\n",
    "        if m ==0: break\n",
    "        result += first\n",
    "        m -= 1\n",
    "    if m==0: break\n",
    "    result += second\n",
    "    m-=1\n",
    "\n",
    "print(result)"
   ]
  },
  {
   "cell_type": "markdown",
   "id": "1e8e98ac",
   "metadata": {},
   "source": [
    "#### Answer 2"
   ]
  },
  {
   "cell_type": "code",
   "execution_count": 13,
   "id": "372c6797",
   "metadata": {},
   "outputs": [
    {
     "name": "stdout",
     "output_type": "stream",
     "text": [
      "8 9 2\n",
      "5 6 8 9 4 5 2 3\n",
      "78\n"
     ]
    }
   ],
   "source": [
    "n, m, k = map(int, input().split())\n",
    "data = list(map(int, input().split()))\n",
    "\n",
    "data.sort()\n",
    "first = data[n-1]\n",
    "second = data[n-2]\n",
    "\n",
    "count = (m//(k+1))*k\n",
    "count += m%(k+1)\n",
    "\n",
    "result = count*first + (m-count)*second\n",
    "print(result)"
   ]
  },
  {
   "cell_type": "markdown",
   "id": "80ca3f08",
   "metadata": {},
   "source": [
    "## 3. 숫자 카드 게임\n",
    "- 여러 개의 숫자 카드 중 가장 높은 숫자가 쓰인 카드 한 장을 뽑는 게임\n",
    "  - 1) N(행) * M(열) 형태의 숫자 카드\n",
    "  - 2) 뽑고자 하는 카드가 포함된 행 선택\n",
    "  - 3) 선택된 행에 포함된 카드들 중 가장 숫자가 낮은 카드 선택\n",
    "  - 4) 즉, 처음 행 선택 시 가장 숫자가 낮은 카드를 선택하는 것을 고려하여 최종적으로 가장 높은 숫자의 카드를 뽑을 수 있도록 고려"
   ]
  },
  {
   "cell_type": "markdown",
   "id": "0425c897",
   "metadata": {},
   "source": [
    "#### Try"
   ]
  },
  {
   "cell_type": "code",
   "execution_count": 44,
   "id": "d0c77f35",
   "metadata": {},
   "outputs": [
    {
     "name": "stdout",
     "output_type": "stream",
     "text": [
      "3 3\n",
      "3 1 2\n",
      "4 1 4\n",
      "2 2 2\n",
      "[[3, 1, 2], [4, 1, 4], [2, 2, 2]]\n"
     ]
    },
    {
     "data": {
      "text/plain": [
       "2"
      ]
     },
     "execution_count": 44,
     "metadata": {},
     "output_type": "execute_result"
    }
   ],
   "source": [
    "n, m = map(int, input().split())\n",
    "data = []\n",
    "for _ in range(n):\n",
    "    x = list(map(int, input().split()))\n",
    "    data.append(x)\n",
    "\n",
    "import pandas as pd\n",
    "data = pd.DataFrame(data)\n",
    "row_min = data.apply(lambda x: min(x), axis=1)\n",
    "max(row_min)"
   ]
  },
  {
   "cell_type": "markdown",
   "id": "df398b8e",
   "metadata": {},
   "source": [
    "#### Answer 1 - min()함수를 이용"
   ]
  },
  {
   "cell_type": "code",
   "execution_count": 18,
   "id": "37349e50",
   "metadata": {},
   "outputs": [
    {
     "name": "stdout",
     "output_type": "stream",
     "text": [
      "3 3\n",
      "3 1 2\n",
      "4 1 4\n",
      "2 2 2\n",
      "2\n"
     ]
    }
   ],
   "source": [
    "n, m= map(int, input().split())\n",
    "result=0\n",
    "\n",
    "for _ in range(n):\n",
    "    data = list(map(int, input().split()))\n",
    "    min_value = min(data)\n",
    "    result = max(result, min_value)\n",
    "\n",
    "print(result)"
   ]
  },
  {
   "cell_type": "markdown",
   "id": "1cddbd0d",
   "metadata": {},
   "source": [
    "#### Answer 2 - 2중 반복문 구조"
   ]
  },
  {
   "cell_type": "code",
   "execution_count": 19,
   "id": "9c7cebd7",
   "metadata": {},
   "outputs": [
    {
     "name": "stdout",
     "output_type": "stream",
     "text": [
      "3 3\n",
      "3 1 2\n",
      "4 1 4\n",
      "2 2 2\n",
      "2\n"
     ]
    }
   ],
   "source": [
    "n, m= map(int, input().split())\n",
    "result=0\n",
    "\n",
    "for _ in range(n):\n",
    "    data = list(map(int, input().split()))\n",
    "    min_value = 10001 # 주어진 최대값 + 1 (최소값을 찾기 위한 기본값)\n",
    "    for i in data:\n",
    "        min_value = min(min_value, i)\n",
    "    result= max(result, min_value)\n",
    "\n",
    "print(result)"
   ]
  },
  {
   "cell_type": "markdown",
   "id": "4f8d903b",
   "metadata": {},
   "source": [
    "## 4. 1이 될 때까지\n",
    "- N이 1이 될 때까지 다음의 두 과정 중 하나를 반복적으로 선택하여 수행하는 최소 횟수\n",
    "  - 1) N에서 1을 뺀다\n",
    "  - 2) N을 K로 나눈다 (단, N이 K로 나누어떨어질 때만 선택 가능)"
   ]
  },
  {
   "cell_type": "markdown",
   "id": "21b1789c",
   "metadata": {},
   "source": [
    "#### Try"
   ]
  },
  {
   "cell_type": "code",
   "execution_count": 17,
   "id": "5ef4b123",
   "metadata": {},
   "outputs": [
    {
     "name": "stdout",
     "output_type": "stream",
     "text": [
      "17 4\n",
      "3\n"
     ]
    }
   ],
   "source": [
    "n, k = map(int, input().split())\n",
    "count = 0\n",
    "\n",
    "while True:\n",
    "    if n%k != 0:\n",
    "        n -= 1\n",
    "        count += 1\n",
    "    else:\n",
    "        n = n//k\n",
    "        count += 1\n",
    "    if n==1: break\n",
    "    \n",
    "print(count)"
   ]
  },
  {
   "cell_type": "markdown",
   "id": "4c1b3e66",
   "metadata": {},
   "source": [
    "#### Answer 1\n",
    "- 시간 초과 판정 가능성이 있다"
   ]
  },
  {
   "cell_type": "code",
   "execution_count": 20,
   "id": "923eab1f",
   "metadata": {},
   "outputs": [
    {
     "name": "stdout",
     "output_type": "stream",
     "text": [
      "17 4\n",
      "3\n"
     ]
    }
   ],
   "source": [
    "n, k = map(int, input().split())\n",
    "result = 0\n",
    "\n",
    "while n>=k:        # k 배수 이상일 때\n",
    "    while n%k !=0:\n",
    "        n-=1\n",
    "        result+=1\n",
    "    n//=k          # n=n//k와 동일한 수식\n",
    "    result+=1\n",
    "\n",
    "while n>1:        # 모두 나누기 후, 남은 수\n",
    "    n-=1\n",
    "    result+=1\n",
    "\n",
    "print(result)"
   ]
  },
  {
   "cell_type": "markdown",
   "id": "fe20e33c",
   "metadata": {},
   "source": [
    "#### Answer 2"
   ]
  },
  {
   "cell_type": "code",
   "execution_count": 22,
   "id": "36f89dcf",
   "metadata": {},
   "outputs": [
    {
     "name": "stdout",
     "output_type": "stream",
     "text": [
      "17 4\n",
      "3\n"
     ]
    }
   ],
   "source": [
    "n, k = map(int, input().split())\n",
    "result = 0\n",
    "\n",
    "while True:\n",
    "    target = (n//k)*k    # n에서 k배수가 최대로 들어갈 수 있는 횟수 (n/k의 몫) * K\n",
    "    result += (n-target) # 나머지는 1을 빼야 한다\n",
    "    n = target\n",
    "    \n",
    "    if n<k: break\n",
    "    result += 1\n",
    "    n //= k\n",
    "\n",
    "result += (n-1)          # k보다 작아진 경우, 그만큼 1을 빼야 한다\n",
    "print(result)"
   ]
  },
  {
   "cell_type": "code",
   "execution_count": null,
   "id": "7b4bccbc",
   "metadata": {},
   "outputs": [],
   "source": []
  }
 ],
 "metadata": {
  "kernelspec": {
   "display_name": "Python 3",
   "language": "python",
   "name": "python3"
  },
  "language_info": {
   "codemirror_mode": {
    "name": "ipython",
    "version": 3
   },
   "file_extension": ".py",
   "mimetype": "text/x-python",
   "name": "python",
   "nbconvert_exporter": "python",
   "pygments_lexer": "ipython3",
   "version": "3.8.8"
  }
 },
 "nbformat": 4,
 "nbformat_minor": 5
}
