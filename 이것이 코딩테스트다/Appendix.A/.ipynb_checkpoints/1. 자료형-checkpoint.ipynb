{
 "cells": [
  {
   "cell_type": "markdown",
   "id": "8f146111",
   "metadata": {},
   "source": [
    "## 1. 수 자료형"
   ]
  },
  {
   "cell_type": "markdown",
   "id": "2ee81ce9",
   "metadata": {},
   "source": [
    "#### 1) 정수형"
   ]
  },
  {
   "cell_type": "code",
   "execution_count": 4,
   "id": "72d4574e",
   "metadata": {},
   "outputs": [
    {
     "name": "stdout",
     "output_type": "stream",
     "text": [
      "100\n",
      "-7\n",
      "0\n"
     ]
    }
   ],
   "source": [
    "a=100; print(a)\n",
    "a=-7; print(a)\n",
    "a=0; print(a)"
   ]
  },
  {
   "cell_type": "markdown",
   "id": "b5c7185a",
   "metadata": {},
   "source": [
    "#### 2) 실수형"
   ]
  },
  {
   "cell_type": "code",
   "execution_count": 5,
   "id": "e58f0952",
   "metadata": {},
   "outputs": [
    {
     "name": "stdout",
     "output_type": "stream",
     "text": [
      "157.93\n",
      "-1837.2\n",
      "5.0\n",
      "-0.7\n"
     ]
    }
   ],
   "source": [
    "a=157.93; print(a)\n",
    "a=-1837.2; print(a)\n",
    "a=5.; print(a)\n",
    "a=-.7; print(a)"
   ]
  },
  {
   "cell_type": "markdown",
   "id": "7debdf3d",
   "metadata": {},
   "source": [
    "- 지수표현 방식"
   ]
  },
  {
   "cell_type": "code",
   "execution_count": 6,
   "id": "2a61c3d6",
   "metadata": {},
   "outputs": [
    {
     "name": "stdout",
     "output_type": "stream",
     "text": [
      "1000000000.0\n",
      "752.5\n",
      "3.594\n"
     ]
    }
   ],
   "source": [
    "a=1e9; print(a)\n",
    "a=75.25e1; print(a)\n",
    "a=3594e-3; print(a)"
   ]
  },
  {
   "cell_type": "markdown",
   "id": "dc2ad157",
   "metadata": {},
   "source": [
    "- 컴퓨터는 2진수 체계 : 소수점 값 비교시, round()함수 사용"
   ]
  },
  {
   "cell_type": "code",
   "execution_count": 8,
   "id": "af4d188d",
   "metadata": {},
   "outputs": [
    {
     "name": "stdout",
     "output_type": "stream",
     "text": [
      "0.8999999999999999\n",
      "False\n"
     ]
    }
   ],
   "source": [
    "a=0.3+0.6; print(a)\n",
    "\n",
    "if a==0.9:\n",
    "    print(True)\n",
    "else:\n",
    "    print(False)"
   ]
  },
  {
   "cell_type": "code",
   "execution_count": 9,
   "id": "bd253fa7",
   "metadata": {},
   "outputs": [
    {
     "name": "stdout",
     "output_type": "stream",
     "text": [
      "0.9\n",
      "True\n"
     ]
    }
   ],
   "source": [
    "a=.3+.6; print(round(a,4))\n",
    "\n",
    "if round(a,4)==0.9:\n",
    "    print(True)\n",
    "else:\n",
    "    print(False)"
   ]
  },
  {
   "cell_type": "markdown",
   "id": "9a0d123b",
   "metadata": {},
   "source": [
    "#### 3) 수 자료형의 연산"
   ]
  },
  {
   "cell_type": "code",
   "execution_count": 12,
   "id": "0c70db11",
   "metadata": {},
   "outputs": [
    {
     "name": "stdout",
     "output_type": "stream",
     "text": [
      "2.3333333333333335\n",
      "2\n",
      "1\n",
      "343\n"
     ]
    }
   ],
   "source": [
    "a=7; b=3\n",
    "\n",
    "print(a/b)  #나누기(실수형)\n",
    "print(a//b) #몫\n",
    "print(a%b)  #나머지\n",
    "\n",
    "print(a**b) #거듭제곱(a^b)"
   ]
  },
  {
   "cell_type": "markdown",
   "id": "1daf1634",
   "metadata": {},
   "source": [
    "## 2. 리스트 자료형\n",
    "#### 1) 리스트 만들기"
   ]
  },
  {
   "cell_type": "code",
   "execution_count": 15,
   "id": "8b7be2af",
   "metadata": {},
   "outputs": [
    {
     "name": "stdout",
     "output_type": "stream",
     "text": [
      "[1, 2, 3, 4, 5, 6, 7, 8, 9]\n",
      "5\n"
     ]
    }
   ],
   "source": [
    "a = [1,2,3,4,5,6,7,8,9]\n",
    "print(a)\n",
    "print(a[4])"
   ]
  },
  {
   "cell_type": "markdown",
   "id": "6517c0ea",
   "metadata": {},
   "source": [
    "- 빈 리스트 선언"
   ]
  },
  {
   "cell_type": "code",
   "execution_count": 16,
   "id": "7243d0c7",
   "metadata": {},
   "outputs": [
    {
     "name": "stdout",
     "output_type": "stream",
     "text": [
      "[]\n",
      "[]\n"
     ]
    }
   ],
   "source": [
    "a=list(); print(a)\n",
    "a=[]; print(a)"
   ]
  },
  {
   "cell_type": "markdown",
   "id": "6f4fc59d",
   "metadata": {},
   "source": [
    "- 크기가 n인, 모든 값이 0인 리스트"
   ]
  },
  {
   "cell_type": "code",
   "execution_count": 17,
   "id": "588ab8d3",
   "metadata": {},
   "outputs": [
    {
     "name": "stdout",
     "output_type": "stream",
     "text": [
      "[0, 0, 0, 0, 0, 0, 0, 0, 0, 0]\n"
     ]
    }
   ],
   "source": [
    "n=10\n",
    "a=[0]*n\n",
    "print(a)"
   ]
  },
  {
   "cell_type": "markdown",
   "id": "c0769762",
   "metadata": {},
   "source": [
    "#### 2) 리스트의 인덱싱과 슬라이싱"
   ]
  },
  {
   "cell_type": "code",
   "execution_count": 2,
   "id": "bc95b9f2",
   "metadata": {},
   "outputs": [],
   "source": [
    "a = [1,2,3,4,5,6,7,8,9]"
   ]
  },
  {
   "cell_type": "code",
   "execution_count": 8,
   "id": "2327bad6",
   "metadata": {},
   "outputs": [
    {
     "name": "stdout",
     "output_type": "stream",
     "text": [
      "9\n",
      "7\n",
      "[1, 2, 3, 7, 5, 6, 7, 8, 9]\n"
     ]
    }
   ],
   "source": [
    "print(a[-1])\n",
    "print(a[-3])\n",
    "a[3] = 7; print(a)"
   ]
  },
  {
   "cell_type": "code",
   "execution_count": 11,
   "id": "41f4a1fb",
   "metadata": {},
   "outputs": [
    {
     "data": {
      "text/plain": [
       "[2, 3, 7]"
      ]
     },
     "execution_count": 11,
     "metadata": {},
     "output_type": "execute_result"
    }
   ],
   "source": [
    "# 두 번째 원소(1)부터 네 번째 원소(4-1)까지\n",
    "a[1:4]"
   ]
  },
  {
   "cell_type": "markdown",
   "id": "99d50ccf",
   "metadata": {},
   "source": [
    "#### 3) 리스트 컴프리헨션"
   ]
  },
  {
   "cell_type": "code",
   "execution_count": 15,
   "id": "5a86272e",
   "metadata": {},
   "outputs": [
    {
     "name": "stdout",
     "output_type": "stream",
     "text": [
      "[1, 3, 5, 7, 9, 11, 13, 15, 17, 19]\n"
     ]
    }
   ],
   "source": [
    "array = [i for i in range(20) if i%2 == 1]\n",
    "print(array)"
   ]
  },
  {
   "cell_type": "code",
   "execution_count": 16,
   "id": "71757e32",
   "metadata": {},
   "outputs": [
    {
     "name": "stdout",
     "output_type": "stream",
     "text": [
      "[1, 3, 5, 7, 9, 11, 13, 15, 17, 19]\n"
     ]
    }
   ],
   "source": [
    "# 같은 구문\n",
    "array = []\n",
    "for i in range(20):\n",
    "    if i%2 == 1:\n",
    "        array.append(i)\n",
    "print(array)"
   ]
  },
  {
   "cell_type": "code",
   "execution_count": 18,
   "id": "fdb5e75a",
   "metadata": {},
   "outputs": [
    {
     "name": "stdout",
     "output_type": "stream",
     "text": [
      "[1, 4, 9, 16, 25, 36, 49, 64, 81]\n"
     ]
    }
   ],
   "source": [
    "array = [i*i for i in range(1,10)]\n",
    "print(array)"
   ]
  },
  {
   "cell_type": "code",
   "execution_count": 19,
   "id": "7ef7c62c",
   "metadata": {},
   "outputs": [
    {
     "name": "stdout",
     "output_type": "stream",
     "text": [
      "[[0, 0, 0, 0], [0, 0, 0, 0], [0, 0, 0, 0]]\n"
     ]
    }
   ],
   "source": [
    "n=3; m=4\n",
    "array = [[0]*m for _ in range(n)]\n",
    "print(array)"
   ]
  },
  {
   "cell_type": "code",
   "execution_count": 21,
   "id": "fafc8bf6",
   "metadata": {},
   "outputs": [
    {
     "data": {
      "text/plain": [
       "[[0, 0, 0, 0], [0, 4, 0, 0], [0, 0, 0, 0]]"
      ]
     },
     "execution_count": 21,
     "metadata": {},
     "output_type": "execute_result"
    }
   ],
   "source": [
    "array[1][1] = 4\n",
    "array"
   ]
  },
  {
   "cell_type": "markdown",
   "id": "d4093a09",
   "metadata": {},
   "source": [
    "#### 4) 리스트 관련 기타 메서드"
   ]
  },
  {
   "cell_type": "code",
   "execution_count": 32,
   "id": "a7abd146",
   "metadata": {},
   "outputs": [],
   "source": [
    "a = [1,2,3,4,5]"
   ]
  },
  {
   "cell_type": "markdown",
   "id": "35bf2bea",
   "metadata": {},
   "source": [
    "- 삽입 : append, insert"
   ]
  },
  {
   "cell_type": "code",
   "execution_count": 33,
   "id": "4a2def7f",
   "metadata": {},
   "outputs": [
    {
     "data": {
      "text/plain": [
       "[1, 2, 3, 4, 5, 2]"
      ]
     },
     "execution_count": 33,
     "metadata": {},
     "output_type": "execute_result"
    }
   ],
   "source": [
    "# 특정 원소 하나의 값 삽입\n",
    "a.append(2); a"
   ]
  },
  {
   "cell_type": "code",
   "execution_count": 37,
   "id": "9a41a3f1",
   "metadata": {},
   "outputs": [
    {
     "data": {
      "text/plain": [
       "[1, 2, 3, 2, 3, 4, 5]"
      ]
     },
     "execution_count": 37,
     "metadata": {},
     "output_type": "execute_result"
    }
   ],
   "source": [
    "# 해당 인덱스(2번째) 값에 특정값(3) 추가 \n",
    "# 변경이 아니라 추가!\n",
    "a.insert(2, 3); a"
   ]
  },
  {
   "cell_type": "markdown",
   "id": "6f2201ad",
   "metadata": {},
   "source": [
    "- 정렬 : sort, reverse"
   ]
  },
  {
   "cell_type": "code",
   "execution_count": 34,
   "id": "0cf4385e",
   "metadata": {},
   "outputs": [
    {
     "data": {
      "text/plain": [
       "[1, 2, 2, 3, 4, 5]"
      ]
     },
     "execution_count": 34,
     "metadata": {},
     "output_type": "execute_result"
    }
   ],
   "source": [
    "# 오름차순 정렬\n",
    "a.sort(); a"
   ]
  },
  {
   "cell_type": "code",
   "execution_count": 35,
   "id": "92260ae0",
   "metadata": {},
   "outputs": [
    {
     "data": {
      "text/plain": [
       "[5, 4, 3, 2, 2, 1]"
      ]
     },
     "execution_count": 35,
     "metadata": {},
     "output_type": "execute_result"
    }
   ],
   "source": [
    "# 내림차순 정렬\n",
    "a.sort(reverse=True); a"
   ]
  },
  {
   "cell_type": "code",
   "execution_count": 36,
   "id": "9fc149c0",
   "metadata": {},
   "outputs": [
    {
     "data": {
      "text/plain": [
       "[1, 2, 2, 3, 4, 5]"
      ]
     },
     "execution_count": 36,
     "metadata": {},
     "output_type": "execute_result"
    }
   ],
   "source": [
    "# 원소 순서 뒤집기\n",
    "a.reverse(); a"
   ]
  },
  {
   "cell_type": "markdown",
   "id": "2f690385",
   "metadata": {},
   "source": [
    "- 원소 개수 : count"
   ]
  },
  {
   "cell_type": "code",
   "execution_count": 38,
   "id": "da6886d0",
   "metadata": {},
   "outputs": [
    {
     "data": {
      "text/plain": [
       "2"
      ]
     },
     "execution_count": 38,
     "metadata": {},
     "output_type": "execute_result"
    }
   ],
   "source": [
    "# 특정 값(3)의 개수\n",
    "a.count(3)"
   ]
  },
  {
   "cell_type": "markdown",
   "id": "bc151f4d",
   "metadata": {},
   "source": [
    "- 원소 제거 : remove, 리스트 컴프리헨션 이용"
   ]
  },
  {
   "cell_type": "code",
   "execution_count": 39,
   "id": "e61864bc",
   "metadata": {},
   "outputs": [
    {
     "data": {
      "text/plain": [
       "[2, 3, 2, 3, 4, 5]"
      ]
     },
     "execution_count": 39,
     "metadata": {},
     "output_type": "execute_result"
    }
   ],
   "source": [
    "# 특정 값(1) 제거\n",
    "a.remove(1); a"
   ]
  },
  {
   "cell_type": "code",
   "execution_count": 43,
   "id": "fa0ffd86",
   "metadata": {},
   "outputs": [
    {
     "data": {
      "text/plain": [
       "[1, 2, 3, 4, 5, 5]"
      ]
     },
     "execution_count": 43,
     "metadata": {},
     "output_type": "execute_result"
    }
   ],
   "source": [
    "# remove 사용 시, 해당 값의 하나만 제거됨\n",
    "a = [1, 2, 3, 4, 5, 5, 5]\n",
    "a.remove(5); a "
   ]
  },
  {
   "cell_type": "code",
   "execution_count": 40,
   "id": "d6b1104a",
   "metadata": {},
   "outputs": [
    {
     "name": "stdout",
     "output_type": "stream",
     "text": [
      "[1, 2, 4]\n"
     ]
    }
   ],
   "source": [
    "# 특정한 값을 모두 제거하는 경우\n",
    "a = [1, 2, 3, 4, 5, 5, 5]\n",
    "remove_set ={3, 5}\n",
    "\n",
    "result = [i for i in a if i not in remove_set]\n",
    "print(result)"
   ]
  },
  {
   "cell_type": "markdown",
   "id": "ad153f46",
   "metadata": {},
   "source": [
    "## 3. 문자열 자료형\n",
    "#### 1) 문자열 초기화"
   ]
  },
  {
   "cell_type": "code",
   "execution_count": 44,
   "id": "6d20d8c4",
   "metadata": {},
   "outputs": [
    {
     "name": "stdout",
     "output_type": "stream",
     "text": [
      "Hello World\n",
      "Don't you know \"Python\"?\n"
     ]
    }
   ],
   "source": [
    "data = \"Hello World\"; print(data)\n",
    "data = \"Don't you know \\\"Python\\\"?\"; print(data)"
   ]
  },
  {
   "cell_type": "markdown",
   "id": "dd88d539",
   "metadata": {},
   "source": [
    "#### 2) 문자열 연산"
   ]
  },
  {
   "cell_type": "code",
   "execution_count": 45,
   "id": "831d793a",
   "metadata": {},
   "outputs": [
    {
     "name": "stdout",
     "output_type": "stream",
     "text": [
      "Hello World\n"
     ]
    }
   ],
   "source": [
    "a = \"Hello\"\n",
    "b = \"World\"\n",
    "print(a + \" \" + b)"
   ]
  },
  {
   "cell_type": "code",
   "execution_count": 47,
   "id": "362fc773",
   "metadata": {},
   "outputs": [
    {
     "name": "stdout",
     "output_type": "stream",
     "text": [
      "String String String \n"
     ]
    }
   ],
   "source": [
    "a = \"String\"\n",
    "print ((a + \" \")*3)"
   ]
  },
  {
   "cell_type": "code",
   "execution_count": 49,
   "id": "7b30c726",
   "metadata": {},
   "outputs": [
    {
     "name": "stdout",
     "output_type": "stream",
     "text": [
      "CD\n"
     ]
    }
   ],
   "source": [
    "a = \"ABCDEF\"\n",
    "print(a[2:4])"
   ]
  },
  {
   "cell_type": "markdown",
   "id": "84082c6e",
   "metadata": {},
   "source": [
    "## 4. 튜플 자료형"
   ]
  },
  {
   "cell_type": "code",
   "execution_count": 50,
   "id": "4c853639",
   "metadata": {},
   "outputs": [
    {
     "name": "stdout",
     "output_type": "stream",
     "text": [
      "(1, 2, 3, 4)\n"
     ]
    },
    {
     "ename": "TypeError",
     "evalue": "'tuple' object does not support item assignment",
     "output_type": "error",
     "traceback": [
      "\u001b[1;31m---------------------------------------------------------------------------\u001b[0m",
      "\u001b[1;31mTypeError\u001b[0m                                 Traceback (most recent call last)",
      "\u001b[1;32m<ipython-input-50-cb8356000b23>\u001b[0m in \u001b[0;36m<module>\u001b[1;34m\u001b[0m\n\u001b[0;32m      2\u001b[0m \u001b[0mprint\u001b[0m\u001b[1;33m(\u001b[0m\u001b[0ma\u001b[0m\u001b[1;33m)\u001b[0m\u001b[1;33m\u001b[0m\u001b[1;33m\u001b[0m\u001b[0m\n\u001b[0;32m      3\u001b[0m \u001b[1;33m\u001b[0m\u001b[0m\n\u001b[1;32m----> 4\u001b[1;33m \u001b[0ma\u001b[0m\u001b[1;33m[\u001b[0m\u001b[1;36m2\u001b[0m\u001b[1;33m]\u001b[0m\u001b[1;33m=\u001b[0m\u001b[1;36m7\u001b[0m\u001b[1;33m\u001b[0m\u001b[1;33m\u001b[0m\u001b[0m\n\u001b[0m",
      "\u001b[1;31mTypeError\u001b[0m: 'tuple' object does not support item assignment"
     ]
    }
   ],
   "source": [
    "a = (1,2,3,4)\n",
    "print(a)\n",
    "\n",
    "a[2]=7"
   ]
  },
  {
   "cell_type": "markdown",
   "id": "9e8e6799",
   "metadata": {},
   "source": [
    "## 5. 사전 자료형\n",
    "#### 1) 사전 자료형 소개"
   ]
  },
  {
   "cell_type": "code",
   "execution_count": 51,
   "id": "a464d18d",
   "metadata": {},
   "outputs": [
    {
     "name": "stdout",
     "output_type": "stream",
     "text": [
      "{'사과': 'Apple', '바나나': 'Banana', '코코넛': 'Coconut'}\n"
     ]
    }
   ],
   "source": [
    "data = dict()\n",
    "\n",
    "# data[key] = value\n",
    "data['사과'] = 'Apple'\n",
    "data[\"바나나\"] = \"Banana\"\n",
    "data[\"코코넛\"] = 'Coconut'\n",
    "\n",
    "print(data)"
   ]
  },
  {
   "cell_type": "code",
   "execution_count": 52,
   "id": "2a1ce70c",
   "metadata": {},
   "outputs": [
    {
     "name": "stdout",
     "output_type": "stream",
     "text": [
      "사과가 존재합니다.\n"
     ]
    }
   ],
   "source": [
    "if '사과' in data:\n",
    "    print(\"사과가 존재합니다.\")"
   ]
  },
  {
   "cell_type": "markdown",
   "id": "6dbe02de",
   "metadata": {},
   "source": [
    "#### 2) 사전 자료형 관련 함수"
   ]
  },
  {
   "cell_type": "code",
   "execution_count": 54,
   "id": "3e27b981",
   "metadata": {},
   "outputs": [
    {
     "name": "stdout",
     "output_type": "stream",
     "text": [
      "dict_keys(['사과', '바나나', '코코넛'])\n",
      "dict_values(['Apple', 'Banana', 'Coconut'])\n",
      "Apple\n",
      "Banana\n",
      "Coconut\n"
     ]
    }
   ],
   "source": [
    "key_list = data.keys()\n",
    "value_list = data.values()\n",
    "print(key_list); print(value_list)\n",
    "\n",
    "for key in key_list:\n",
    "    print(data[key]) "
   ]
  },
  {
   "cell_type": "markdown",
   "id": "9286ed1c",
   "metadata": {},
   "source": [
    "## 6. 집합 자료형\n",
    "#### 1) 집합 자료형 소개\n",
    "- 중복을 허용하지 않음, 순서가 없음"
   ]
  },
  {
   "cell_type": "code",
   "execution_count": 55,
   "id": "57c3611c",
   "metadata": {},
   "outputs": [
    {
     "name": "stdout",
     "output_type": "stream",
     "text": [
      "{1, 2, 3, 4, 5}\n",
      "{1, 2, 3, 4, 5}\n"
     ]
    }
   ],
   "source": [
    "data = set([1,1,2,3,4,5,5])\n",
    "print(data)\n",
    "\n",
    "data = {1,1,2,3,4,4,4,5}\n",
    "print(data)"
   ]
  },
  {
   "cell_type": "markdown",
   "id": "e5099cb3",
   "metadata": {},
   "source": [
    "#### 2) 집합 자료형의 연산"
   ]
  },
  {
   "cell_type": "code",
   "execution_count": 57,
   "id": "899a9818",
   "metadata": {},
   "outputs": [
    {
     "name": "stdout",
     "output_type": "stream",
     "text": [
      "{1, 2, 3, 4, 5, 6, 7}\n",
      "{3, 4, 5}\n",
      "{1, 2}\n"
     ]
    }
   ],
   "source": [
    "a = {1,2,3,4,5}\n",
    "b = {3,4,5,6,7}\n",
    "\n",
    "print(a | b) #합집합\n",
    "print(a & b) #교집합\n",
    "print(a - b) #차집합"
   ]
  },
  {
   "cell_type": "markdown",
   "id": "b25f6ea5",
   "metadata": {},
   "source": [
    "#### 3) 집합 자료형 관련 함수"
   ]
  },
  {
   "cell_type": "code",
   "execution_count": 58,
   "id": "3b9d7186",
   "metadata": {},
   "outputs": [
    {
     "name": "stdout",
     "output_type": "stream",
     "text": [
      "{1, 2, 3}\n"
     ]
    }
   ],
   "source": [
    "data = {1,2,3}; print(data)"
   ]
  },
  {
   "cell_type": "markdown",
   "id": "4aec8b7a",
   "metadata": {},
   "source": [
    "- 새로운 원소 추가"
   ]
  },
  {
   "cell_type": "code",
   "execution_count": 59,
   "id": "079f4152",
   "metadata": {},
   "outputs": [
    {
     "name": "stdout",
     "output_type": "stream",
     "text": [
      "{1, 2, 3, 4}\n"
     ]
    }
   ],
   "source": [
    "data.add(4); print(data)"
   ]
  },
  {
   "cell_type": "markdown",
   "id": "84748df4",
   "metadata": {},
   "source": [
    "- 새로운 원소 여러개 추가"
   ]
  },
  {
   "cell_type": "code",
   "execution_count": 60,
   "id": "10066ef5",
   "metadata": {},
   "outputs": [
    {
     "name": "stdout",
     "output_type": "stream",
     "text": [
      "{1, 2, 3, 4, 5, 6}\n"
     ]
    }
   ],
   "source": [
    "data.update([5,6]); print(data)"
   ]
  },
  {
   "cell_type": "markdown",
   "id": "70104499",
   "metadata": {},
   "source": [
    "- 특정 값의 원소 제거"
   ]
  },
  {
   "cell_type": "code",
   "execution_count": 61,
   "id": "009a060b",
   "metadata": {},
   "outputs": [
    {
     "name": "stdout",
     "output_type": "stream",
     "text": [
      "{1, 2, 3, 4, 6}\n"
     ]
    }
   ],
   "source": [
    "data.remove(5); print(data)"
   ]
  },
  {
   "cell_type": "code",
   "execution_count": null,
   "id": "cbd37e43",
   "metadata": {},
   "outputs": [],
   "source": []
  }
 ],
 "metadata": {
  "kernelspec": {
   "display_name": "Python 3",
   "language": "python",
   "name": "python3"
  },
  "language_info": {
   "codemirror_mode": {
    "name": "ipython",
    "version": 3
   },
   "file_extension": ".py",
   "mimetype": "text/x-python",
   "name": "python",
   "nbconvert_exporter": "python",
   "pygments_lexer": "ipython3",
   "version": "3.8.8"
  }
 },
 "nbformat": 4,
 "nbformat_minor": 5
}
