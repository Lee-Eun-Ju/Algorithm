{
 "cells": [
  {
   "cell_type": "markdown",
   "id": "a3410784",
   "metadata": {},
   "source": [
    "## 5. 입출력"
   ]
  },
  {
   "cell_type": "markdown",
   "id": "b018551c",
   "metadata": {},
   "source": [
    "- input: 한 줄의 문자열 입력\n",
    "- 정수형으로 처리하기 위해서는 int()함수 이용\n",
    "- 여러개의 데이터 입력받을 경우, 공백으로 구분"
   ]
  },
  {
   "cell_type": "code",
   "execution_count": 6,
   "id": "88d4bf9d",
   "metadata": {},
   "outputs": [
    {
     "name": "stdout",
     "output_type": "stream",
     "text": [
      "5\n"
     ]
    }
   ],
   "source": [
    "# 데이터 개수 입력\n",
    "n = int(input())"
   ]
  },
  {
   "cell_type": "code",
   "execution_count": 7,
   "id": "11be1685",
   "metadata": {},
   "outputs": [
    {
     "name": "stdout",
     "output_type": "stream",
     "text": [
      "65 78 99 50 56\n"
     ]
    }
   ],
   "source": [
    "# 각 데이터를 공백으로 구분하여 입력\n",
    "data = list(map(int, input().split()))"
   ]
  },
  {
   "cell_type": "code",
   "execution_count": 8,
   "id": "1d5ac15f",
   "metadata": {},
   "outputs": [
    {
     "data": {
      "text/plain": [
       "[99, 78, 65, 56, 50]"
      ]
     },
     "execution_count": 8,
     "metadata": {},
     "output_type": "execute_result"
    }
   ],
   "source": [
    "data.sort(reverse=True)\n",
    "data"
   ]
  },
  {
   "cell_type": "code",
   "execution_count": 9,
   "id": "150811f4",
   "metadata": {},
   "outputs": [
    {
     "name": "stdout",
     "output_type": "stream",
     "text": [
      "2 4 5\n",
      "2 4 5\n"
     ]
    }
   ],
   "source": [
    "n, m, k = map(int, input().split())\n",
    "print(n, m, k)"
   ]
  },
  {
   "cell_type": "markdown",
   "id": "af9f3f48",
   "metadata": {},
   "source": [
    "- 입력의 개수가 많은 경우 (해당 소스코드, 주피터에서 작용X)"
   ]
  },
  {
   "cell_type": "code",
   "execution_count": 13,
   "id": "e6b14337",
   "metadata": {},
   "outputs": [
    {
     "data": {
      "text/plain": [
       "''"
      ]
     },
     "execution_count": 13,
     "metadata": {},
     "output_type": "execute_result"
    }
   ],
   "source": [
    "import sys\n",
    "sys.stdin.readline().rstrip()"
   ]
  },
  {
   "cell_type": "code",
   "execution_count": 18,
   "id": "a1cae659",
   "metadata": {},
   "outputs": [
    {
     "name": "stdout",
     "output_type": "stream",
     "text": [
      "\n"
     ]
    }
   ],
   "source": [
    "import sys\n",
    "\n",
    "data = sys.stdin.readline().rstrip()\n",
    "print(data)"
   ]
  },
  {
   "cell_type": "markdown",
   "id": "35540c84",
   "metadata": {},
   "source": [
    "- 변수 출력"
   ]
  },
  {
   "cell_type": "code",
   "execution_count": 19,
   "id": "f6e0825f",
   "metadata": {},
   "outputs": [
    {
     "name": "stdout",
     "output_type": "stream",
     "text": [
      "1 2\n",
      "1\n",
      "2\n"
     ]
    }
   ],
   "source": [
    "a=1; b=2\n",
    "print(a, b)\n",
    "print(a)\n",
    "print(b)"
   ]
  },
  {
   "cell_type": "code",
   "execution_count": 27,
   "id": "8ea0d4c1",
   "metadata": {},
   "outputs": [
    {
     "name": "stdout",
     "output_type": "stream",
     "text": [
      "정답은 7입니다.\n"
     ]
    }
   ],
   "source": [
    "answer=7\n",
    "# print(\"정답은\"+ answer + \"입니다.\") : 문자열끼리만 더하기 연산 가능\n",
    "print(\"정답은 \"+ str(answer) + \"입니다.\") # 문자형으로 변경"
   ]
  },
  {
   "cell_type": "code",
   "execution_count": 28,
   "id": "a3382241",
   "metadata": {},
   "outputs": [
    {
     "name": "stdout",
     "output_type": "stream",
     "text": [
      "정답은 7 입니다.\n",
      "정답은 7입니다.\n"
     ]
    }
   ],
   "source": [
    "# 콤마이용 (띄어쓰기)\n",
    "print(\"정답은\", answer, \"입니다.\")\n",
    "\n",
    "# f-string문법\n",
    "print(f\"정답은 {answer}입니다.\")"
   ]
  },
  {
   "cell_type": "code",
   "execution_count": null,
   "id": "cac34a71",
   "metadata": {},
   "outputs": [],
   "source": []
  }
 ],
 "metadata": {
  "kernelspec": {
   "display_name": "Python 3",
   "language": "python",
   "name": "python3"
  },
  "language_info": {
   "codemirror_mode": {
    "name": "ipython",
    "version": 3
   },
   "file_extension": ".py",
   "mimetype": "text/x-python",
   "name": "python",
   "nbconvert_exporter": "python",
   "pygments_lexer": "ipython3",
   "version": "3.8.8"
  }
 },
 "nbformat": 4,
 "nbformat_minor": 5
}
