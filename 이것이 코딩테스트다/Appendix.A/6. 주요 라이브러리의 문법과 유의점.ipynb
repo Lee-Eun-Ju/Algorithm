{
 "cells": [
  {
   "cell_type": "markdown",
   "id": "5861e090",
   "metadata": {},
   "source": [
    "## 6. 주요 라이브러리의 문법과 유의점"
   ]
  },
  {
   "cell_type": "markdown",
   "id": "d22ff821",
   "metadata": {},
   "source": [
    "#### 표준 라이브러리\n",
    "- 특정 프로그래밍 언어에서 자주 사용되는 표준 소스코들를 미리 구현해 놓은 라이브러리\n",
    "- 코딩 테스트에서 대부분 사용 가능"
   ]
  },
  {
   "cell_type": "markdown",
   "id": "5cea0954",
   "metadata": {},
   "source": [
    "#### 주요 라이브러리\n",
    "- 내장 함수: 입출력 기능(print, input), 정렬(sorted)\n",
    "- itertools: 반복되는 형태의 데이터 처리 (순열,조합)\n",
    "- headq : 힙 기능 (우선순위 큐 구현)\n",
    "- bisect: 이진 탐색 기능\n",
    "- collections: 덱(deque), 카운터(Counter) 등 자료구조 포함\n",
    "- math : 필수적 수학적 기능 (팩토리얼, 제곱근, 최대공약수, 삼각함수, 파이)"
   ]
  },
  {
   "cell_type": "markdown",
   "id": "4e1c0c45",
   "metadata": {},
   "source": [
    "#### 1. 내장 함수\n",
    "- sum(), max(), min()\n",
    "- eval(): 문자형 형태의 수식 계산\n",
    "- sorted(): 정렬(오름차순), reverse=True(내림차순)\n",
    "- sort(): 객체에 내장된 함수로 정렬, data.sort()"
   ]
  },
  {
   "cell_type": "code",
   "execution_count": 9,
   "id": "4e66422c",
   "metadata": {},
   "outputs": [
    {
     "name": "stdout",
     "output_type": "stream",
     "text": [
      "15\n",
      "1\n"
     ]
    }
   ],
   "source": [
    "result = sum([1,2,3,4,5]); print(result)\n",
    "result = min([3,5,6,1]); print(result)"
   ]
  },
  {
   "cell_type": "code",
   "execution_count": 10,
   "id": "6f7fe99a",
   "metadata": {},
   "outputs": [
    {
     "name": "stdout",
     "output_type": "stream",
     "text": [
      "25\n"
     ]
    }
   ],
   "source": [
    "result = eval(\"(3*8)+1\"); print(result)"
   ]
  },
  {
   "cell_type": "code",
   "execution_count": 8,
   "id": "200dffb3",
   "metadata": {},
   "outputs": [
    {
     "name": "stdout",
     "output_type": "stream",
     "text": [
      "[1, 4, 5, 8, 9]\n",
      "[9, 8, 5, 4, 1]\n",
      "[1, 4, 5, 8, 9]\n"
     ]
    }
   ],
   "source": [
    "a = [9,1,8,5,4]\n",
    "result = sorted(a); print(result)\n",
    "result = sorted(a, reverse=True); print(result)\n",
    "a.sort(); print(a)"
   ]
  },
  {
   "cell_type": "code",
   "execution_count": 23,
   "id": "8aae317a",
   "metadata": {},
   "outputs": [
    {
     "name": "stdout",
     "output_type": "stream",
     "text": [
      "[('윤함수', 87), ('이기웅', 66), ('홍길동', 56)]\n"
     ]
    }
   ],
   "source": [
    "# key 속성을 활용한 sorted 함수\n",
    "data = [(\"이기웅\",66), (\"윤함수\",87), (\"홍길동\",56)] #3*2차원의 데이터\n",
    "result = sorted(data, key=lambda x: x[1], reverse=True) #두번째 원소(성적)을 key로 설정 후, key 순으로 정렬\n",
    "print(result)"
   ]
  },
  {
   "cell_type": "markdown",
   "id": "5b8a2e60",
   "metadata": {},
   "source": [
    "#### 2. itertools\n",
    "- permuations(순열) : r개의 데이터를 뽑아 일렬로 나열하는 모든 경우 => 중복허용: product\n",
    "- combinations(조합) : r개의 데이터를 뽑아 순서를 고려하지 않고 나열하는 모든 경우 => 중복허용: combinations_with_replacement"
   ]
  },
  {
   "cell_type": "code",
   "execution_count": 25,
   "id": "6675f9a8",
   "metadata": {},
   "outputs": [
    {
     "name": "stdout",
     "output_type": "stream",
     "text": [
      "[('A', 'B'), ('A', 'C'), ('B', 'A'), ('B', 'C'), ('C', 'A'), ('C', 'B')]\n",
      "[('A', 'B'), ('A', 'C'), ('B', 'C')]\n"
     ]
    }
   ],
   "source": [
    "from itertools import permutations\n",
    "from itertools import combinations\n",
    "\n",
    "data = [\"A\", \"B\", \"C\"]\n",
    "result = list(permutations(data, 2)); print(result)\n",
    "result = list(combinations(data, 2)); print(result)"
   ]
  },
  {
   "cell_type": "code",
   "execution_count": 35,
   "id": "24f97379",
   "metadata": {},
   "outputs": [
    {
     "name": "stdout",
     "output_type": "stream",
     "text": [
      "[('A', 'A'), ('A', 'B'), ('A', 'C'), ('B', 'A'), ('B', 'B'), ('B', 'C'), ('C', 'A'), ('C', 'B'), ('C', 'C')]\n",
      "[('A', 'A'), ('A', 'B'), ('A', 'C'), ('B', 'B'), ('B', 'C'), ('C', 'C')]\n"
     ]
    }
   ],
   "source": [
    "from itertools import product\n",
    "from itertools import combinations_with_replacement\n",
    "\n",
    "result = list(product(data, repeat=2)); print(result)\n",
    "result = list(combinations_with_replacement(data, 2)); print(result)"
   ]
  },
  {
   "cell_type": "markdown",
   "id": "8b4d5242",
   "metadata": {},
   "source": [
    "#### 3. headq\n",
    "- headq.heappush(): 원소 삽입\n",
    "- headq.heappop(): 원소 꺼내기"
   ]
  },
  {
   "cell_type": "markdown",
   "id": "a7c15ef1",
   "metadata": {},
   "source": [
    "- 큐 : 먼저 들어오는 데이터가 먼저 나가는 형식\n",
    "- 우선순위 큐 : 우선순위가 높은 데이터가 먼저 나가는 형태\n",
    "- 힙 : 우선순위 큐 기능을 위해 고안된 자료구조 (완전이진트리)\n",
    " - 부모노드-서브트리 간 대소관계 존재, 중복된 값 허용\n",
    " - in Python: Min Heap으로 부모노드가 가장 작은 원소"
   ]
  },
  {
   "cell_type": "code",
   "execution_count": 37,
   "id": "e3f8c928",
   "metadata": {},
   "outputs": [
    {
     "data": {
      "text/plain": [
       "[1, 5, 6, 6, 7, 99, 789]"
      ]
     },
     "execution_count": 37,
     "metadata": {},
     "output_type": "execute_result"
    }
   ],
   "source": [
    "import heapq\n",
    "\n",
    "def heapsort(iterable):\n",
    "    h = []\n",
    "    result = []\n",
    "    \n",
    "    # 힙에 원소 삽입\n",
    "    for value in iterable:\n",
    "        heapq.heappush(h, value) #최대힙 사용: -value\n",
    "    \n",
    "    # 힙에 삽입된 원소 차례대로 꺼내어 담기\n",
    "    for _ in range(len(h)):\n",
    "        result.append(heapq.heappop(h)) #최대힙 사용: -heapq.heappop(h)\n",
    "    return(result)\n",
    "\n",
    "x = [1,6,789,5,6,7,99]\n",
    "heapsort(x)"
   ]
  },
  {
   "cell_type": "markdown",
   "id": "9c8250ac",
   "metadata": {},
   "source": [
    "#### 4. bisect\n",
    "- 정렬된 배열에서 특정 원소 찾아야 하는 경우 or 값이 특정 범위에 속하는 원소의 개수 찾아야 하는 경우\n",
    "- bisect_left(a, x): 리스트 a에 데이터 x를 삽입할 가장 왼쪽 인덱스\n",
    "- bisect_right(a, x): 리스트 a에 데이터 x를 삽입할 가장 오른쪽 인덱스"
   ]
  },
  {
   "cell_type": "code",
   "execution_count": 40,
   "id": "13751fca",
   "metadata": {},
   "outputs": [
    {
     "name": "stdout",
     "output_type": "stream",
     "text": [
      "2\n",
      "4\n"
     ]
    }
   ],
   "source": [
    "from bisect import bisect_left, bisect_right\n",
    "\n",
    "a = [1,3,4,4,6,8] #1,3,4,4,6,8\n",
    "x = 4\n",
    "\n",
    "print(bisect_left(a,x))\n",
    "print(bisect_right(a,x))"
   ]
  },
  {
   "cell_type": "code",
   "execution_count": 45,
   "id": "1ee7016d",
   "metadata": {},
   "outputs": [
    {
     "name": "stdout",
     "output_type": "stream",
     "text": [
      "3\n",
      "5\n"
     ]
    }
   ],
   "source": [
    "def count_range(a, left, right):\n",
    "    left_index = bisect_left(a, left)\n",
    "    right_index = bisect_right(a, right)\n",
    "    return right_index - left_index\n",
    "\n",
    "print(count_range([1,2,3,3,3,4,5,5,5,6,7,8],3,3))\n",
    "print(count_range([1,2,3,3,3,4,5,5,5,6,7,8],2,4))"
   ]
  },
  {
   "cell_type": "markdown",
   "id": "272e70c8",
   "metadata": {},
   "source": [
    "#### 5. collections\n",
    "- 유용한 자료구조를 제공\n",
    "- deque()\n",
    " - 인덱싱, 슬라이싱 기능은 사용할 수 없음\n",
    " - appendleft(), popleft(): 첫번째 원소 기준으로 추가, 삭제 기능\n",
    " \n",
    "- counter()\n",
    " - 등장 횟수 세는 기능"
   ]
  },
  {
   "cell_type": "code",
   "execution_count": 46,
   "id": "f3a323d1",
   "metadata": {},
   "outputs": [
    {
     "name": "stdout",
     "output_type": "stream",
     "text": [
      "[1, 2, 3, 4, 5]\n"
     ]
    }
   ],
   "source": [
    "from collections import deque, Counter\n",
    "\n",
    "data=deque([2,3,4])\n",
    "data.appendleft(1)\n",
    "data.append(5)\n",
    "\n",
    "print(list(data))"
   ]
  },
  {
   "cell_type": "code",
   "execution_count": 49,
   "id": "6868d3b8",
   "metadata": {},
   "outputs": [
    {
     "name": "stdout",
     "output_type": "stream",
     "text": [
      "1\n",
      "3\n",
      "{'red': 3, 'blue': 1, 'green': 1}\n"
     ]
    }
   ],
   "source": [
    "data=Counter([\"red\", \"blue\", \"red\", \"red\",\"green\"])\n",
    "print(data[\"blue\"]); print(data[\"red\"])\n",
    "print(dict(data)) #사전 자료형으로 변경시, category : 등장횟수"
   ]
  },
  {
   "cell_type": "markdown",
   "id": "7ea5f3e6",
   "metadata": {},
   "source": [
    "#### 6. math\n",
    "- 수학적 기능 (팩토리얼, 제곱근, 최대공약수(gcd) 등)"
   ]
  },
  {
   "cell_type": "code",
   "execution_count": 42,
   "id": "12be8cca",
   "metadata": {},
   "outputs": [
    {
     "name": "stdout",
     "output_type": "stream",
     "text": [
      "120\n",
      "3.1622776601683795\n",
      "2\n",
      "3.141592653589793\n",
      "2.718281828459045\n"
     ]
    }
   ],
   "source": [
    "import math\n",
    "\n",
    "print(math.factorial(5))\n",
    "print(math.sqrt(10))\n",
    "print(math.gcd(58,96))\n",
    "\n",
    "print(math.pi); print(math.e)"
   ]
  },
  {
   "cell_type": "code",
   "execution_count": null,
   "id": "5ee463d0",
   "metadata": {},
   "outputs": [],
   "source": []
  }
 ],
 "metadata": {
  "kernelspec": {
   "display_name": "Python 3",
   "language": "python",
   "name": "python3"
  },
  "language_info": {
   "codemirror_mode": {
    "name": "ipython",
    "version": 3
   },
   "file_extension": ".py",
   "mimetype": "text/x-python",
   "name": "python",
   "nbconvert_exporter": "python",
   "pygments_lexer": "ipython3",
   "version": "3.8.8"
  }
 },
 "nbformat": 4,
 "nbformat_minor": 5
}
