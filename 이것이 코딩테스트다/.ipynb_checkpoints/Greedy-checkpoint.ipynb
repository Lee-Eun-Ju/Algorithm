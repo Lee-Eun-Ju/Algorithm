{
 "cells": [
  {
   "cell_type": "markdown",
   "id": "665a0cc5",
   "metadata": {},
   "source": [
    "## 그리디\n",
    "\n",
    "#### 그리디란?\n",
    "- 탐욕법\n",
    "- 현재 상황에서 지금 당장 좋은 것만 고르는 방법\n",
    "- 나중에 미칠 영향은 고려하지 않는다"
   ]
  },
  {
   "cell_type": "markdown",
   "id": "6d461e40",
   "metadata": {},
   "source": [
    "#### 1. 거스름돈"
   ]
  },
  {
   "cell_type": "code",
   "execution_count": null,
   "id": "300a5b9a",
   "metadata": {},
   "outputs": [],
   "source": [
    "N=1260\n",
    "\n",
    "def money(n):\n",
    "    n\n",
    "    "
   ]
  }
 ],
 "metadata": {
  "kernelspec": {
   "display_name": "Python 3",
   "language": "python",
   "name": "python3"
  },
  "language_info": {
   "codemirror_mode": {
    "name": "ipython",
    "version": 3
   },
   "file_extension": ".py",
   "mimetype": "text/x-python",
   "name": "python",
   "nbconvert_exporter": "python",
   "pygments_lexer": "ipython3",
   "version": "3.8.8"
  }
 },
 "nbformat": 4,
 "nbformat_minor": 5
}
