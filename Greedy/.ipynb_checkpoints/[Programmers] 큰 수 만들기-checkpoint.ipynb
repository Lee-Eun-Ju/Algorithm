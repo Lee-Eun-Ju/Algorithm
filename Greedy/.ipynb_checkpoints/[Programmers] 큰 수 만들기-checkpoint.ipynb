{
 "cells": [
  {
   "cell_type": "markdown",
   "metadata": {},
   "source": [
    "### 큰 수 만들기"
   ]
  },
  {
   "cell_type": "markdown",
   "metadata": {},
   "source": [
    "#### 1. 문제 이해\n",
    "\n",
    "- 제한사항\n",
    "- 1 number는 1자리 이상, 1000,000자리 이하의 숫자\n",
    "- 2 k는 1 이상 number의 자릿수 미만인 자연수"
   ]
  },
  {
   "cell_type": "markdown",
   "metadata": {},
   "source": [
    "#### 2. 문제 해결\n",
    "\n",
    "- 앞 자리에 큰 수가 오는 것이 전체를 크게 만든다 (큰 것을 우선해 골라 담기)\n",
    "- \"4177252841\" => 4,1,2,2를 제외하여 775841 생성"
   ]
  },
  {
   "cell_type": "markdown",
   "metadata": {},
   "source": [
    "##### 1) 방법\n",
    "- 1 앞 자리에서부터 하나씩 골라서 담되\n",
    "- 2 모아둔 것 중에 지금 담으려는 것보다 작은 것들이 있으면 빼기 (단, k개까지)\n",
    "  - 이때, 지금까지 모아둔 것에 대해 맨 오른쪽부터 살펴보기\n",
    "\n",
    "* 주의할 점 : \"98765\", k=2 => 이미 정렬되어있으므로 뒤에서 2개 제외\n",
    "  - 뺄 개수를 채우지 못한 경우, 맨 끝에서 제외\n",
    "  - 몇 개의 자릿수를 제외할 것이지도 고민해보기\n",
    "\n",
    "- (복잡도) 자릿수를 n이라고 할 때 O(n)*2"
   ]
  },
  {
   "cell_type": "markdown",
   "metadata": {},
   "source": [
    "##### 2) Greedy 적용 가능\n",
    "- 앞 단계에서의 선택이 이후 단계에서의 동작에 의한 해의 최적성에 영향을 주지 않는다"
   ]
  },
  {
   "cell_type": "markdown",
   "metadata": {},
   "source": [
    "#### 3. 문제 풀이\n",
    "\n",
    "- 강의 수강 전 문제 풀이"
   ]
  },
  {
   "cell_type": "code",
   "execution_count": null,
   "metadata": {},
   "outputs": [],
   "source": [
    "def solution(number, k):\n",
    "\n",
    "    # 가장 단순 무식한 방법\n",
    "    import itertools\n",
    "    result = list(itertools.combinations(number, len(number)-k))\n",
    "\n",
    "    answers = []\n",
    "    for i in result:\n",
    "        answers.append(\"\".join(i))\n",
    "    \n",
    "    answer = max(answers)\n",
    "    return answer"
   ]
  },
  {
   "cell_type": "markdown",
   "metadata": {},
   "source": [
    "- 강의 수강 후 Retry"
   ]
  },
  {
   "cell_type": "code",
   "execution_count": 74,
   "metadata": {},
   "outputs": [
    {
     "data": {
      "text/plain": [
       "'775841'"
      ]
     },
     "execution_count": 74,
     "metadata": {},
     "output_type": "execute_result"
    }
   ],
   "source": [
    "number = \"4177252841\" #775841\n",
    "k = 4\n",
    "\n",
    "def solution(number, k):\n",
    "    \n",
    "    number = [int(x) for x in number]\n",
    "    data = []\n",
    "    for i in range(len(number)):\n",
    "        # k가 0인 경우, 더이상 제외할 수 없음 (0이 아닌 경우 +i)\n",
    "        if k==0:\n",
    "            data.extend(number[i:])\n",
    "            break\n",
    "        else:\n",
    "            data.append(number[i])\n",
    "\n",
    "        # 이때, 더한 i가 기존 j보다 크면 기존 j를 제거\n",
    "        # 오른쪽부터 확인하여 1:1로 제거 --------------------- **\n",
    "        for j in range(-2, -len(data)-1,-1):\n",
    "            if data[j]<number[i]:\n",
    "                data.pop(j)\n",
    "                k -= 1\n",
    "                break\n",
    "        \n",
    "    if k!=0:\n",
    "       data.remove(data[-1-k:-1])\n",
    "\n",
    "    return \"\".join([str(x) for x in data])\n",
    "\n",
    "solution(number, k)"
   ]
  },
  {
   "cell_type": "markdown",
   "metadata": {},
   "source": [
    "- 강사의 문제 풀이"
   ]
  },
  {
   "cell_type": "code",
   "execution_count": 75,
   "metadata": {},
   "outputs": [
    {
     "data": {
      "text/plain": [
       "'775841'"
      ]
     },
     "execution_count": 75,
     "metadata": {},
     "output_type": "execute_result"
    }
   ],
   "source": [
    "number = \"4177252841\" #775841\n",
    "k = 4\n",
    "\n",
    "\n",
    "def solution(number,k):\n",
    "    # list가 mutable(변하기 쉬운)므로 문자열이 아닌 list로!\n",
    "    collected = []\n",
    "\n",
    "    # enumerate => index, value 반환\n",
    "    # collected[-1] < num :\n",
    "        # 마지막 문자가 넣으려고 하는 문자보다 작은 경우 ------------ **\n",
    "        # (지금까지 내림차순으로 정렬해왔으므로 마지막 문자만 확인!)\n",
    "        # 문자열의 대소관계 => 알파벳 순서 (한 글자 숫자일때, 수의 대소관계와 동일)\n",
    "\n",
    "    for i, num in enumerate(number):        \n",
    "        while len(collected) > 0 and collected[-1] < num and k > 0:\n",
    "            collected.pop() # pop : 선입후출\n",
    "            k -=1\n",
    "        if k==0: # k>0조건이 있어 if문 없어도 되나, 한번에 붙이기 위한 코드\n",
    "            collected += list(number[i:])\n",
    "            break\n",
    "        collected.append(num)\n",
    "    \n",
    "    # k>0이면 collected[:-k]까지이고, 아니면 collected\n",
    "    collected = collected[:-k] if k>0 else collected\n",
    "\n",
    "    return \"\".join(collected)\n",
    "\n",
    "\n",
    "solution(number, k)"
   ]
  },
  {
   "cell_type": "markdown",
   "metadata": {},
   "source": [
    "- (복잡도) number의 길이 n에 대한 이중순환문  \n",
    "=> 2번째 순환문이 얼마나 실행되느냐의 문제  \n",
    "=> 한 번 들어갔다 나와도 한 번 나오므로 O(n) : 선형복잡도"
   ]
  }
 ],
 "metadata": {
  "kernelspec": {
   "display_name": "Python 3",
   "language": "python",
   "name": "python3"
  },
  "language_info": {
   "codemirror_mode": {
    "name": "ipython",
    "version": 3
   },
   "file_extension": ".py",
   "mimetype": "text/x-python",
   "name": "python",
   "nbconvert_exporter": "python",
   "pygments_lexer": "ipython3",
   "version": "3.8.8"
  }
 },
 "nbformat": 4,
 "nbformat_minor": 2
}
