{
 "cells": [
  {
   "cell_type": "markdown",
   "id": "11304cb4",
   "metadata": {},
   "source": [
    "### 소수 만들기"
   ]
  },
  {
   "cell_type": "code",
   "execution_count": 60,
   "id": "ff0d1210",
   "metadata": {},
   "outputs": [
    {
     "data": {
      "text/plain": [
       "[9, 7, 11, 13, 12, 17]"
      ]
     },
     "execution_count": 60,
     "metadata": {},
     "output_type": "execute_result"
    }
   ],
   "source": [
    "nums = [1,2,7,6,4]\n",
    "\n",
    "import itertools\n",
    "data = list(itertools.combinations(nums,3))\n",
    "\n",
    "result = []\n",
    "for sum_3 in data:\n",
    "    result.append(sum_3[0] +sum_3[1] +sum_3[2] )\n",
    "\n",
    "not_answer = []\n",
    "for i in result:\n",
    "    for j in range(2,i):\n",
    "        if i%j ==0:\n",
    "            not_answer.append(i)\n",
    "            break\n",
    "\n",
    "answer = [k for k in result if k not in not_answer]"
   ]
  },
  {
   "cell_type": "markdown",
   "id": "d7c18b2f",
   "metadata": {},
   "source": [
    "### 명예의 전당"
   ]
  },
  {
   "cell_type": "code",
   "execution_count": 108,
   "id": "18a5b83a",
   "metadata": {},
   "outputs": [
    {
     "data": {
      "text/plain": [
       "[0, 0, 0, 0, 20, 40, 70, 70, 150, 300]"
      ]
     },
     "execution_count": 108,
     "metadata": {},
     "output_type": "execute_result"
    }
   ],
   "source": [
    "k = 4\n",
    "score = [0, 300, 40, 300, 20, 70, 150, 50, 500, 1000]\n",
    "\n",
    "answer = []\n",
    "for j in range(1,k+1):\n",
    "    answer.append(min(score[0:j]))\n",
    "\n",
    "for i in range(k+1,len(score)+1):\n",
    "    data = sorted(score[0:i], reverse=True)\n",
    "    answer.append(data[k-1])\n",
    "\n",
    "answer"
   ]
  },
  {
   "cell_type": "markdown",
   "id": "da48f5ac",
   "metadata": {},
   "source": [
    "### 키패드 누르기 ***"
   ]
  },
  {
   "cell_type": "code",
   "execution_count": null,
   "id": "865f0c3e",
   "metadata": {},
   "outputs": [],
   "source": [
    "def solution(numbers, hand):\n",
    "    answer = []   \n",
    "    pad = {1:(1,1), 2:(1,2), 3:(1,3), 4:(2,1), 5:(2,2), 6:(2,3), 7:(3,1), 8:(3,2), 9:(3,3), \"*\":(4,1), 0:(4,2), \"#\":(4,3)}\n",
    "\n",
    "    l_start_x, l_start_y = 4,1\n",
    "    r_start_x, r_start_y = 4,3\n",
    "\n",
    "    for i in numbers:\n",
    "        if i in [1,4,7,'*']:\n",
    "            answer.append('L')\n",
    "            l_start_x, l_start_y = pad[i]\n",
    "\n",
    "        elif i in [3,6,9,'#']:\n",
    "            answer.append('R')\n",
    "            r_start_x, r_start_y = pad[i]\n",
    "        else:\n",
    "            a,b = pad[i]\n",
    "            if abs(a-l_start_x) + abs(b-l_start_y) > abs(a-r_start_x) + abs(b-r_start_y):\n",
    "                answer.append('R')\n",
    "            elif abs(a-l_start_x) + abs(b-l_start_y) < abs(a-r_start_x) + abs(b-r_start_y):\n",
    "                answer.append('L')\n",
    "            else:\n",
    "                if hand == 'left':\n",
    "                    answer.append('L')\n",
    "                else:\n",
    "                    answer.append('R')\n",
    "    answer = \"\".join(answer)\n",
    "    return answer"
   ]
  },
  {
   "cell_type": "code",
   "execution_count": 177,
   "id": "e3bce031",
   "metadata": {},
   "outputs": [
    {
     "data": {
      "text/plain": [
       "'LRLLLRLLLRL'"
      ]
     },
     "execution_count": 177,
     "metadata": {},
     "output_type": "execute_result"
    }
   ],
   "source": [
    "import numpy as np\n",
    "\n",
    "def solution(numbers, hand):\n",
    "    answer = []   \n",
    "    pad = {1:(1,1), 2:(1,2), 3:(1,3), 4:(2,1), 5:(2,2), 6:(2,3), 7:(3,1), 8:(3,2), 9:(3,3), \"*\":(4,1), 0:(4,2), \"#\":(4,3)}\n",
    "\n",
    "    for num in numbers:\n",
    "        if num in [1,4,7,\"*\"]:\n",
    "            answer.append(\"L\")\n",
    "            \n",
    "        elif num in [3,6,9,\"#\"]:\n",
    "            answer.append(\"R\")\n",
    "            \n",
    "        else:\n",
    "            # 이전 왼쪽엄지값, 오른쪽엄지값\n",
    "            if \"L\" not in answer:\n",
    "                l = \"*\"\n",
    "            else:\n",
    "                which_left = np.where(np.array(answer)=='L')[0][-1]\n",
    "                l = numbers[which_left]\n",
    "            if \"R\" not in answer:\n",
    "                r = \"#\"\n",
    "            else:\n",
    "                which_right = np.where(np.array(answer)=='R')[0][-1]\n",
    "                r = numbers[which_right]\n",
    "            \n",
    "            # 키패드 거리\n",
    "            distance_left = abs((pad[l][0]-pad[num][0])) + abs((pad[l][1]-pad[num][1]))\n",
    "            distance_right = abs((pad[r][0]-pad[num][0])) + abs((pad[r][1]-pad[num][1]))\n",
    "            \n",
    "            # 어떤 엄지로 키패드를 누를까?\n",
    "            if (distance_left == distance_right)&(hand==\"right\"):\n",
    "                answer.append(\"R\")\n",
    "            elif (distance_left == distance_right)&(hand==\"left\"):\n",
    "                answer.append(\"L\")\n",
    "            elif distance_left > distance_right:\n",
    "                answer.append(\"R\")\n",
    "            elif distance_left < distance_right:\n",
    "                answer.append(\"L\")\n",
    "            else:\n",
    "                answer.append(\" \")\n",
    "                \n",
    "    answer = \"\".join(answer)\n",
    "    return answer\n",
    "\n",
    "numbers = [1, 3, 4, 5, 8, 2, 1, 4, 5, 9, 5]\n",
    "hand = \"right\"\n",
    "solution(numbers,hand)"
   ]
  },
  {
   "cell_type": "markdown",
   "id": "5c5a8194",
   "metadata": {},
   "source": [
    "### 둘만의 암호"
   ]
  },
  {
   "cell_type": "code",
   "execution_count": 62,
   "id": "26afe837",
   "metadata": {},
   "outputs": [
    {
     "data": {
      "text/plain": [
       "'n'"
      ]
     },
     "execution_count": 62,
     "metadata": {},
     "output_type": "execute_result"
    }
   ],
   "source": [
    "skip = 'abcdefghij'; s = \"z\"; index = 20\n",
    "\n",
    "english = \"a b c d e f g h i j k l m n o p q r s t u v w x y z\"\n",
    "english = english.split()\n",
    "english_skip = [i for i in english if i not in skip]\n",
    "\n",
    "answer=''\n",
    "for j in s:\n",
    "    k = english_skip.index(j)\n",
    "    if (k+index)>(2*len(english_skip)-1):\n",
    "        answer += english_skip[(k+index)-2*len(english_skip)]\n",
    "    elif (k+index)>(len(english_skip)-1):\n",
    "        answer += english_skip[(k+index)-len(english_skip)]\n",
    "    else:\n",
    "        answer += english_skip[(k+index)]\n",
    "\n",
    "answer    "
   ]
  },
  {
   "cell_type": "markdown",
   "id": "8c9325a6",
   "metadata": {},
   "source": [
    "### 혼자 놀기의 달인"
   ]
  },
  {
   "cell_type": "code",
   "execution_count": 64,
   "id": "100912df",
   "metadata": {},
   "outputs": [
    {
     "data": {
      "text/plain": [
       "8"
      ]
     },
     "execution_count": 64,
     "metadata": {},
     "output_type": "execute_result"
    }
   ],
   "source": [
    "cards = [8,6,3,7,2,5,1,4]\n",
    "\n",
    "def search(x):\n",
    "    if (x-1) not in num:\n",
    "        num.append(x-1)\n",
    "        search(num[-1])\n",
    "    else:\n",
    "        True\n",
    "    \n",
    "group = []\n",
    "for i in range(len(cards)):\n",
    "    group[i] = \n",
    "    \n",
    "    group[idx].append(num)\n",
    "cards[0]"
   ]
  },
  {
   "cell_type": "code",
   "execution_count": 1,
   "id": "f026eb90",
   "metadata": {},
   "outputs": [
    {
     "ename": "TypeError",
     "evalue": "unsupported operand type(s) for -: 'list' and 'int'",
     "output_type": "error",
     "traceback": [
      "\u001b[1;31m---------------------------------------------------------------------------\u001b[0m",
      "\u001b[1;31mTypeError\u001b[0m                                 Traceback (most recent call last)",
      "\u001b[1;32m<ipython-input-1-2fb889d8d01b>\u001b[0m in \u001b[0;36m<module>\u001b[1;34m\u001b[0m\n\u001b[0;32m     11\u001b[0m         \u001b[1;32mreturn\u001b[0m \u001b[0mnum\u001b[0m\u001b[1;33m\u001b[0m\u001b[1;33m\u001b[0m\u001b[0m\n\u001b[0;32m     12\u001b[0m \u001b[1;33m\u001b[0m\u001b[0m\n\u001b[1;32m---> 13\u001b[1;33m \u001b[0msearch\u001b[0m\u001b[1;33m(\u001b[0m\u001b[0mnum\u001b[0m\u001b[1;33m-\u001b[0m\u001b[1;36m1\u001b[0m\u001b[1;33m)\u001b[0m\u001b[1;33m\u001b[0m\u001b[1;33m\u001b[0m\u001b[0m\n\u001b[0m",
      "\u001b[1;31mTypeError\u001b[0m: unsupported operand type(s) for -: 'list' and 'int'"
     ]
    }
   ],
   "source": [
    "cards = [8,6,3,7,2,5,1,4]\n",
    "idx = [0]\n",
    "num = [cards[0]]\n",
    "\n",
    "def search(x):\n",
    "    global num, idx, cards\n",
    "    if (x not in idx)  and (x in range(len(cards))):\n",
    "        num.append(cards[x])\n",
    "        search(num[-1]-1)\n",
    "    else:\n",
    "        return num\n",
    "        \n",
    "search(num-1)"
   ]
  },
  {
   "cell_type": "code",
   "execution_count": 68,
   "id": "1a2e9817",
   "metadata": {},
   "outputs": [
    {
     "data": {
      "text/plain": [
       "0"
      ]
     },
     "execution_count": 68,
     "metadata": {},
     "output_type": "execute_result"
    }
   ],
   "source": [
    "idx[0]"
   ]
  },
  {
   "cell_type": "code",
   "execution_count": 28,
   "id": "e1d7692a",
   "metadata": {},
   "outputs": [
    {
     "ename": "ValueError",
     "evalue": "The truth value of an array with more than one element is ambiguous. Use a.any() or a.all()",
     "output_type": "error",
     "traceback": [
      "\u001b[1;31m---------------------------------------------------------------------------\u001b[0m",
      "\u001b[1;31mValueError\u001b[0m                                Traceback (most recent call last)",
      "\u001b[1;32m<ipython-input-28-81e91bf8a245>\u001b[0m in \u001b[0;36m<module>\u001b[1;34m\u001b[0m\n\u001b[0;32m     12\u001b[0m     \u001b[1;32mfor\u001b[0m \u001b[0mj\u001b[0m \u001b[1;32min\u001b[0m \u001b[0mrange\u001b[0m\u001b[1;33m(\u001b[0m\u001b[0mlen\u001b[0m\u001b[1;33m(\u001b[0m\u001b[0mdata\u001b[0m\u001b[1;33m)\u001b[0m\u001b[1;33m)\u001b[0m\u001b[1;33m:\u001b[0m\u001b[1;33m\u001b[0m\u001b[1;33m\u001b[0m\u001b[0m\n\u001b[0;32m     13\u001b[0m         \u001b[0mx\u001b[0m \u001b[1;33m+=\u001b[0m \u001b[1;36m1\u001b[0m\u001b[1;33m*\u001b[0m\u001b[1;33m(\u001b[0m\u001b[1;36m2\u001b[0m\u001b[1;33m**\u001b[0m\u001b[1;33m(\u001b[0m\u001b[0mj\u001b[0m\u001b[1;33m)\u001b[0m\u001b[1;33m)\u001b[0m\u001b[1;33m\u001b[0m\u001b[1;33m\u001b[0m\u001b[0m\n\u001b[1;32m---> 14\u001b[1;33m     \u001b[1;32mif\u001b[0m \u001b[0mnp\u001b[0m\u001b[1;33m.\u001b[0m\u001b[0munique\u001b[0m\u001b[1;33m(\u001b[0m\u001b[0mlist\u001b[0m\u001b[1;33m(\u001b[0m\u001b[0mstr\u001b[0m\u001b[1;33m(\u001b[0m\u001b[0mx\u001b[0m\u001b[1;33m)\u001b[0m\u001b[1;33m)\u001b[0m\u001b[1;33m)\u001b[0m \u001b[1;33m==\u001b[0m \u001b[0mnp\u001b[0m\u001b[1;33m.\u001b[0m\u001b[0marray\u001b[0m\u001b[1;33m(\u001b[0m\u001b[1;33m[\u001b[0m\u001b[1;34m\"1\"\u001b[0m\u001b[1;33m]\u001b[0m\u001b[1;33m)\u001b[0m\u001b[1;33m:\u001b[0m\u001b[1;33m\u001b[0m\u001b[1;33m\u001b[0m\u001b[0m\n\u001b[0m\u001b[0;32m     15\u001b[0m         \u001b[1;32mbreak\u001b[0m\u001b[1;33m\u001b[0m\u001b[1;33m\u001b[0m\u001b[0m\n\u001b[0;32m     16\u001b[0m     \u001b[0mx\u001b[0m \u001b[1;33m=\u001b[0m \u001b[0mlist\u001b[0m\u001b[1;33m(\u001b[0m\u001b[0mmap\u001b[0m\u001b[1;33m(\u001b[0m\u001b[0mint\u001b[0m\u001b[1;33m,\u001b[0m \u001b[0mlist\u001b[0m\u001b[1;33m(\u001b[0m\u001b[0mstr\u001b[0m\u001b[1;33m(\u001b[0m\u001b[0mx\u001b[0m\u001b[1;33m)\u001b[0m\u001b[1;33m)\u001b[0m\u001b[1;33m)\u001b[0m\u001b[1;33m)\u001b[0m\u001b[1;33m\u001b[0m\u001b[1;33m\u001b[0m\u001b[0m\n",
      "\u001b[1;31mValueError\u001b[0m: The truth value of an array with more than one element is ambiguous. Use a.any() or a.all()"
     ]
    }
   ],
   "source": [
    "s = \"110010101001\"\n",
    "x = list(map(int, list(s)))\n",
    "\n",
    "result = 0\n",
    "zero_count = 0\n",
    "\n",
    "while True:\n",
    "    data = [i for i in x if i==1]\n",
    "    zero_count += len(x) - len(data)\n",
    "    result += 1\n",
    "    x = 0\n",
    "    for j in range(len(data)):\n",
    "        x += 1*(2**(j))\n",
    "    for k in list(str(x)):\n",
    "        if k != 1:\n",
    "            break\n",
    "        else:\n",
    "            \n",
    "    x = list(map(int, list(str(x))))\n",
    "\n",
    "print(result); print(zero_count)\n"
   ]
  },
  {
   "cell_type": "code",
   "execution_count": 29,
   "id": "598d938d",
   "metadata": {},
   "outputs": [],
   "source": [
    "numbers = [1,2,3,4,6,7,8,0]\n",
    "data = [0,1,2,3,4,5,6,7,8,9]\n",
    "not_numbers = [i for i in data if i not in numbers]"
   ]
  },
  {
   "cell_type": "code",
   "execution_count": 27,
   "id": "9c067689",
   "metadata": {},
   "outputs": [
    {
     "name": "stdout",
     "output_type": "stream",
     "text": [
      "Yese\n"
     ]
    }
   ],
   "source": [
    "x = 11\n",
    "import numpy as np\n",
    "if np.unique(list(str(x))) == np.array([\"1\"]):\n",
    "    print(\"Yese\")"
   ]
  },
  {
   "cell_type": "code",
   "execution_count": null,
   "id": "7cbf5cb3",
   "metadata": {},
   "outputs": [],
   "source": []
  }
 ],
 "metadata": {
  "kernelspec": {
   "display_name": "Python 3",
   "language": "python",
   "name": "python3"
  },
  "language_info": {
   "codemirror_mode": {
    "name": "ipython",
    "version": 3
   },
   "file_extension": ".py",
   "mimetype": "text/x-python",
   "name": "python",
   "nbconvert_exporter": "python",
   "pygments_lexer": "ipython3",
   "version": "3.8.8"
  }
 },
 "nbformat": 4,
 "nbformat_minor": 5
}
