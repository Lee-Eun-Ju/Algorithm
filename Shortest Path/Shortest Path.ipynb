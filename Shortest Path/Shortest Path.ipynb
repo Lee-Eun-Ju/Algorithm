{
 "cells": [
  {
   "attachments": {},
   "cell_type": "markdown",
   "metadata": {},
   "source": [
    "## 최단 경로"
   ]
  },
  {
   "attachments": {},
   "cell_type": "markdown",
   "metadata": {},
   "source": [
    "#### 1. 가장 빠른 길 찾기\n",
    "\n",
    "##### 1) 가장 빠르게 도달하는 방법\n",
    "\n",
    "- 최단 경로 알고리즘 : 가장 짧은 경로를 찾는 알고리즘\n",
    "- 지점:노드, 도로:간선 => 한 노드에서 다른 특정 노드까지의 최단 경로 구하기\n",
    "- 최단 거리 알고리즘 : 1) 다익스트라 최단 경로 2) 플로이드 워셜 3) 벨만 포드"
   ]
  },
  {
   "attachments": {},
   "cell_type": "markdown",
   "metadata": {},
   "source": [
    "##### 2) 다익스트라 최단 경로 알고리즘\n",
    "\n",
    "- 다익스트라 최단 경로 알고리즘 : 그래프에 여러 개의 노드가 있을 때, 특정 노드에서 출발하여 다른 노드로 가는 각각의 최단 경로를 찾는 알고리즘    \n",
    "- 조건: 음의 간선(0보다 작은 값을 가지는 간선)이 없을 때 정상 동작  \n",
    "- 특징 : 각 노드에 대한 현재까지의 최단 거리 정보를 항상 저장하여 갱신 (매번 현재 처리하고 있는 노드 기준으로 주변 간선 확인)  \n",
    "         즉, 한 단계에서 선택된 노드는 최단 거리가 완전히 선택된다"
   ]
  },
  {
   "attachments": {},
   "cell_type": "markdown",
   "metadata": {},
   "source": [
    "- 그리디 알고리즘의 한 유형 : 매번 가장 비용이 적은 노드를 선택\n",
    "  - 1 출발 노드 설정\n",
    "  - 2 최단 거리 테이블 초기화\n",
    "  - 3 방문하지 않은 노드 중 최단 거리가 가장 짧은 노드 선택\n",
    "  - 4 해당 노드를 거쳐 다른 노드로 가는 비용을 계산하여 최단 거리 테이블을 갱신\n",
    "    - 이때, 거리가 같은 경우, 번호가 작은 노드를 선택\n",
    "  - 5 3,4를 반복"
   ]
  },
  {
   "attachments": {},
   "cell_type": "markdown",
   "metadata": {},
   "source": [
    "- 방법1. 간단한 다익스트라 알고리즘\n",
    "  - 구현하기 쉽지만 느리게 동작\n",
    "  - 현재 노드와 연결된 노드를 매번 확인하여 선형 탐색하므로 시간 복잡도가 높음"
   ]
  },
  {
   "cell_type": "code",
   "execution_count": 1,
   "metadata": {},
   "outputs": [],
   "source": [
    "import sys\n",
    "input = sys.stdin.readline\n",
    "INF = int(1e9)\n",
    "\n",
    "# 노드의 개수, 간선의 개수 입력\n",
    "n,m = map(int, input().split())\n",
    "# 시작 노드\n",
    "start = int(input())\n",
    "# 각 노드에 연결되어 있는 노드에 대한 정보 (a번 노드->b번 노드: 비용이 c)\n",
    "graph = [[] for i in range(n+1)]\n",
    "for _ in range(m):\n",
    "    a, b, c= map(int,input().split())\n",
    "    graph[a].append((b,c))\n",
    "\n",
    "# 방문 기록 리스트\n",
    "visited = [False]*(n+1)\n",
    "# 최단 거리 테이블 (무한으로 초기화)\n",
    "distance = [INF]*(n+1)\n",
    "\n",
    "\n",
    "# 방문하지 않은 노드 중, 가장 최단 거리가 짧은 노드의 번호 반환\n",
    "def get_smallest_node():\n",
    "    min_value = INF # 가장 짧은 거리를 찾기 위한 변수\n",
    "    index = 0 # 가장 거리가 짧은 노드를 반환할 변수\n",
    "\n",
    "    for i in range(1,n+1): #노드 1부터 n까지\n",
    "        if distance[i]<min_value and not visited[i]: #방문한 적이 없고, 현재 찾은 distance보다 더 짧은 distance가 있는 경우\n",
    "            min_value = distance[i] # 해당 거리 반환 <- distance값을 어디에서 불러오는 가?\n",
    "            index = i # 해당 노드 반환\n",
    "    return index\n",
    "\n",
    "# 최단 경로 탐색하는 함수 작성\n",
    "def dijkstra(start):\n",
    "\n",
    "    # 시작 노드 초기화 및 방문 처리\n",
    "    distance[start]=0 \n",
    "    visited[start]=True\n",
    "\n",
    "    # 시작 노드에서 j[0] 노드로 가는 비용 : j[1] <- start 노드에서 연결된 노드에 대한 distance값 입력\n",
    "    for j in graph[start]:\n",
    "        distance[j[0]] = j[1]\n",
    "    \n",
    "    # 시작 노드를 제외한 n-1개의 노드에 대해 반복\n",
    "    for i in range(n-1):\n",
    "        now = get_smallest_node() # 가장 짧은 거리의 노드\n",
    "        visited[now] = True # 해당 노드에 방문 처리\n",
    "\n",
    "        # 현재 노드와 연결된 다른 노드 확인\n",
    "        for j in graph[now]:\n",
    "            cost = distance[now] + j[1] # 지금까지의 비용 + 연결된 다른 노드까지의 비용 합\n",
    "            if cost < distance[j[0]]: # 합(cost)이, 지금까지 찾은 distance보다 작은 경우\n",
    "                distance[j[0]] = cost # distance 변경 <- distance 계속해서 갱신\n",
    "\n",
    "# 다익스트라 알고리즘 수행\n",
    "dijkstra(start)\n",
    "\n",
    "# distance 출력\n",
    "for i in range(1,n+1):\n",
    "    if distance[i]==INF:\n",
    "        print(\"INFINITY\")\n",
    "    else:\n",
    "        print(distance[i])"
   ]
  },
  {
   "attachments": {},
   "cell_type": "markdown",
   "metadata": {},
   "source": [
    "- 방법2. 개선된 다익스트라 알고리즘\n",
    "  - 구현하기 조금 더 까다롭지만 빠르게 동작\n",
    "  - 현재 가장 가까운 노드를 저장하기 위한 목적으로 우선순위 큐 이용"
   ]
  },
  {
   "attachments": {},
   "cell_type": "markdown",
   "metadata": {},
   "source": [
    "- 자료구조\n",
    "  1) 스택 : 선입후출 - 가장 나중에 삽입된 데이터가 추출\n",
    "  2) 큐 : 선입선출 - 가장 먼저 삽입된 데이터가 추출\n",
    "  3) 우선순위 큐 : 가장 우선순위가 높은 데이터가 추출 (PriorityQueue or heapq)  "
   ]
  },
  {
   "attachments": {},
   "cell_type": "markdown",
   "metadata": {},
   "source": [
    "\n",
    "- 힙 자료구조 (-> 간단한 다익스트라 알고리즘에서 사용된 리스트와 같은 자료구조의 한 유형이고 시간복잡도가 매우 낮음)\n",
    "  - 우선순위 큐를 구현하기 위해 사용되는 자료구조\n",
    "  - 최소힙 : 값이 낮은 데이터가 먼저 삭제 (다익스크라 최단 경로 알고리즘에서 비용이 적은 노드를 우선하여 방문하므로 최소힙을 이용)\n",
    "  - 최대힙 : 값이 큰 데이터가 먼저 삭제 (우선순위 값에 음수 부호를 붙여 최소힙으로 최대힙을 구현)\n"
   ]
  },
  {
   "cell_type": "code",
   "execution_count": 4,
   "metadata": {},
   "outputs": [],
   "source": [
    "import heapq\n",
    "import sys\n",
    "input = sys.stdin.readline\n",
    "INF = int(1e9)\n",
    "\n",
    "n,m = map(int, input().split())\n",
    "start = int(input())\n",
    "distance = [INF]*(n+1)\n",
    "\n",
    "graph = [[] for i in range(n+1)]\n",
    "for i in range(m):\n",
    "    a,b,c = map(int, inpu().split())\n",
    "    graph[a].append((b,c))\n",
    "\n",
    "def dijkstra(start):\n",
    "    q = []\n",
    "    \n",
    "    # 우선순위 큐에 시작노드에 대한 정보 삽입\n",
    "    heapq.heappush(q, (0,start))\n",
    "\n",
    "    while q: # 큐가 비어있을 때까지\n",
    "        \n",
    "        # 최상위 우선순위의 거리와 노드 추출\n",
    "        dist, now = heapq.heappop(q)\n",
    "        # 추출된 거리가 현재 노드의 거리보다 큰 경우 Pass\n",
    "        if distance[now] < dist:\n",
    "            continue\n",
    "        \n",
    "        # 현재 노드와 연결된 다른 노드들과 해당 비용 총합\n",
    "        for i in graph[now]:\n",
    "            cost = dist +i[1]\n",
    "            # 구한 비용이 현재 distance보다 작은 경우 갱신\n",
    "            if cost < distance[i[0]]:\n",
    "                distance[i[0]] = cost\n",
    "                heapq.heappush(q, (cost, i[0]))\n",
    "\n",
    "dijkstra(start)\n",
    "\n",
    "# distance 출력\n",
    "for i in range(1,n+1):\n",
    "    if distance[i]==INF:\n",
    "        print(\"INFINITY\")\n",
    "    else:\n",
    "        print(distance[i])"
   ]
  },
  {
   "attachments": {},
   "cell_type": "markdown",
   "metadata": {},
   "source": [
    "##### 3) 플로이드 워셜 알고리즘\n",
    "\n",
    "- 플로이드 워셜 알고리즘 : 모든 지점에서 다른 모든 지점까지의 최단 경로를 모두 구해야 하는 경우 \n",
    "- 특징 : '거쳐 가는 노드'를 기준으로 알고리즘을 수행하나, 매번 방문하지 않은 노드 중에서 최단 거리를 갖는 노드를 찾을 필요가 없다\n"
   ]
  },
  {
   "attachments": {},
   "cell_type": "markdown",
   "metadata": {},
   "source": [
    "- 다이나믹 프로그래밍 중 한 유형 \n",
    "  - N번만큼 단계 반복하며, 점화식에 맞게 2차원 리스트에 최단 거리 정보 저장\n",
    "  - 1 현재 확인하고 있는 노드를 제외한 N-1개의 노드 중에서 서로 다른 노드 (A,B)쌍 선택\n",
    "  - 2 A->1번노드->B 비용 확인 후 A->B 비용보다 짧으면 최단 거리 갱신\n",
    "  - 1,2를 N번 반복"
   ]
  },
  {
   "cell_type": "code",
   "execution_count": 3,
   "metadata": {},
   "outputs": [
    {
     "name": "stdout",
     "output_type": "stream",
     "text": [
      "0 4 8 6 3 0 7 9 5 9 0 4 7 11 2 0 "
     ]
    }
   ],
   "source": [
    "INF = int(1e9)\n",
    "\n",
    "# 노드의 개수와 간선의 개수 \n",
    "n,m = map(int, input().split())\n",
    "# 출발/도착 노드에 따른 거리 반환하기 위한 2차원 리스트\n",
    "graph = [[INF]*(n+1) for i in range(n+1)]\n",
    "\n",
    "# 자기자신->자기자신 : 비용=0\n",
    "for a in range(1,n+1):\n",
    "    for b in range(1,n+1):\n",
    "        if a==b:\n",
    "            graph[a][b]=0\n",
    "\n",
    "# 간선(거리)에 대한 정보 입력\n",
    "for _ in range(m):\n",
    "    a,b,c=map(int,input().split())\n",
    "    graph[a][b]=c\n",
    "\n",
    "# 점화식에 따른 플로이드 워셜 알고리즘 수행\n",
    "for k in range(1,n+1): # 각 노드에 대해\n",
    "    for a in range(1,n+1): # a에서 출발\n",
    "        for b in range(1,n+1): # b에 도착\n",
    "            graph[a][b] = min(graph[a][b], graph[a][k] + graph[k][b])\n",
    "\n",
    "# 결과 출력\n",
    "for a in range(1,n+1):\n",
    "    for b in range(1,n+1):\n",
    "        if graph[a][b]==INF:\n",
    "            print(\"INFINITY\", end=\" \")\n",
    "        else:\n",
    "            print(graph[a][b], end=\" \")\n",
    "    print() # 출발노드 바뀔때마다 행 변경"
   ]
  },
  {
   "attachments": {},
   "cell_type": "markdown",
   "metadata": {},
   "source": [
    "#### 2. 미래 도시\n",
    "- Try\n",
    "  - 1->K->X 최단 거리 = (1->K 최단 거리) + (K->X 최단 거리)"
   ]
  },
  {
   "cell_type": "code",
   "execution_count": 7,
   "metadata": {},
   "outputs": [
    {
     "name": "stdout",
     "output_type": "stream",
     "text": [
      "-1\n"
     ]
    }
   ],
   "source": [
    "# 입력\n",
    "n, m = map(int, input().split())\n",
    "\n",
    "INF = int(1e9)\n",
    "graph = [[INF]*(n+1) for i in range(n+1)]\n",
    "for i in range(m):\n",
    "    a,b = map(int,input().split())\n",
    "    graph[a][b]=1; graph[b][a]=1\n",
    "\n",
    "X,K = map(int, input().split())\n",
    "\n",
    "# 자기 자신에서 자기 자신으로 갈 때\n",
    "for a in range(n+1):\n",
    "    for b in range(n+1):\n",
    "        if a==b:\n",
    "            graph[a][b]=0\n",
    "\n",
    "# 플로이드 워셜 알고리즘 (k를 거쳐 1->x)\n",
    "for k in range(n+1):\n",
    "    for a in range(n+1):\n",
    "        for b in range(n+1):\n",
    "            graph[a][b] = min(graph[a][b], graph[a][k] + graph[k][b])\n",
    "\n",
    "if graph[1][K] + graph[K][X] >= INF:\n",
    "    print(-1)\n",
    "else:\n",
    "    print(graph[1][K] + graph[K][X])\n",
    "\n"
   ]
  },
  {
   "attachments": {},
   "cell_type": "markdown",
   "metadata": {},
   "source": [
    "#### 3. 전보\n",
    "- Try"
   ]
  },
  {
   "cell_type": "code",
   "execution_count": 11,
   "metadata": {},
   "outputs": [
    {
     "name": "stdout",
     "output_type": "stream",
     "text": [
      "2   4\n"
     ]
    }
   ],
   "source": [
    "n, m, c = map(int, input().split())\n",
    "\n",
    "graph = [[] for i in range(n+1)]\n",
    "for _ in range(m):\n",
    "    x,y,z = map(int, input().split())\n",
    "    graph[x].append((y,z))\n",
    "\n",
    "INF = int(1e9)\n",
    "distance = [INF]*(n+1) # <- n+1개 생성해야 한다. (노드 번호와 맞추기 위해)\n",
    "\n",
    "import heapq\n",
    "def dijkstra(start):\n",
    "    \n",
    "    # 우선순위 큐 생성 및 시작(0,start) 생성\n",
    "    q = []\n",
    "    heapq.heappush(q, (0, start))\n",
    "    distance[start] = 0 # <- 시작 노드에 대한 거리 0으로 설정 필요\n",
    "\n",
    "    while q:\n",
    "        # 현재 노드\n",
    "        dist, now = heapq.heappop(q)\n",
    "\n",
    "        if distance[now] < dist: # <- 현재 노드에서의 거리보다 기존 거리가 짧은 경우 Pass\n",
    "            continue\n",
    "\n",
    "        # 현재 노드와 연결된 노드 -> 비용 갱신 \n",
    "        for i in graph[now]:\n",
    "            cost = dist + i[1]\n",
    "            if distance[i[0]] > cost:\n",
    "                distance[i[0]] = cost\n",
    "                heapq.heappush(q, (cost, i[0])) # <- 갱신된 정보만 입력!!\n",
    "\n",
    "        # 연결된 노드에 대한 정보 큐에 삽입: <- 연결된 노드에 대한 정보 전부 삽입할 필요 X\n",
    "        # for i in graph[now]:\n",
    "        #    heapq.heappush(q, (i[1], i[0]))\n",
    "\n",
    "dijkstra(c)\n",
    "\n",
    "# 출력\n",
    "result = 0; result2 = 0\n",
    "for i in distance:\n",
    "    if i>=INF:\n",
    "        pass\n",
    "    else:\n",
    "        result += 1\n",
    "        result2 = max(i, result2) # <- 도시들이 모두 메시지를 받는 데까지 걸리는 시간 -> 가장 큰 비용을 가지는 노드의 비용\n",
    "\n",
    "print(result-1, \" \", result2) # <- 시작노드는 제외\n"
   ]
  }
 ],
 "metadata": {
  "kernelspec": {
   "display_name": "Python 3",
   "language": "python",
   "name": "python3"
  },
  "language_info": {
   "codemirror_mode": {
    "name": "ipython",
    "version": 3
   },
   "file_extension": ".py",
   "mimetype": "text/x-python",
   "name": "python",
   "nbconvert_exporter": "python",
   "pygments_lexer": "ipython3",
   "version": "3.10.0"
  },
  "orig_nbformat": 4
 },
 "nbformat": 4,
 "nbformat_minor": 2
}
