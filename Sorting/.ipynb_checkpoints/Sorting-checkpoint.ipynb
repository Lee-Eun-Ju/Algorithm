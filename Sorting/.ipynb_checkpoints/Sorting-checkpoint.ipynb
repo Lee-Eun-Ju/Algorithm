{
 "cells": [
  {
   "cell_type": "markdown",
   "id": "9cdfaa81",
   "metadata": {},
   "source": [
    "## Sorting\n",
    "\n",
    "### 1. 기준에 따라 데이터를 정렬"
   ]
  },
  {
   "cell_type": "markdown",
   "id": "0339e56d",
   "metadata": {},
   "source": [
    "#### * 정렬 알고리즘 개요\n",
    "\n",
    "- 정렬: 데이터를 특정한 기준에 따라서 순서대로 나열 (이진 탐색의 전처리)\n",
    "- 정렬 알고리즘 종류: 선택, 삽입, 퀵, 계수"
   ]
  },
  {
   "cell_type": "markdown",
   "id": "a45a3093",
   "metadata": {},
   "source": [
    "#### 1) 선택 정렬\n",
    "\n",
    "- 매번 가장 작은 것을 선택   \n",
    "  : 가장 작은 데이터를 선택해 맨 앞에 있는 데이터와 바꾸고,   \n",
    "    그 다음 작은 데이터를 선택해 앞에서 두 번째 데이터와 바꾸는 과정   \n",
    "    \n",
    "    \n",
    "- 스와프(Swap) 소스코드"
   ]
  },
  {
   "cell_type": "code",
   "execution_count": 1,
   "id": "97be5168",
   "metadata": {},
   "outputs": [
    {
     "data": {
      "text/plain": [
       "[5, 3]"
      ]
     },
     "execution_count": 1,
     "metadata": {},
     "output_type": "execute_result"
    }
   ],
   "source": [
    "array = [3,5]\n",
    "array[0], array[1] = array[1], array[0]\n",
    "array"
   ]
  },
  {
   "cell_type": "code",
   "execution_count": null,
   "id": "7b5ffb4c",
   "metadata": {},
   "outputs": [],
   "source": [
    "array = [7,5,9,0,3,1,6,2,4,8]\n",
    "\n",
    "for i in range(len(array)):\n",
    "    min_array = array[(i+1):len(array)].min()\n",
    "    array[i], \n",
    "    "
   ]
  },
  {
   "cell_type": "markdown",
   "id": "9b6f95d1",
   "metadata": {},
   "source": [
    "#### 2) 삽입 정렬"
   ]
  },
  {
   "cell_type": "code",
   "execution_count": null,
   "id": "7f2ae986",
   "metadata": {},
   "outputs": [],
   "source": []
  },
  {
   "cell_type": "markdown",
   "id": "533d9fef",
   "metadata": {},
   "source": [
    "#### 3) 퀵 정렬"
   ]
  },
  {
   "cell_type": "code",
   "execution_count": null,
   "id": "711cb6a7",
   "metadata": {},
   "outputs": [],
   "source": []
  },
  {
   "cell_type": "markdown",
   "id": "b6834e69",
   "metadata": {},
   "source": [
    "#### 4) 계수 정렬"
   ]
  },
  {
   "cell_type": "code",
   "execution_count": null,
   "id": "e3d1d50c",
   "metadata": {},
   "outputs": [],
   "source": []
  },
  {
   "cell_type": "markdown",
   "id": "5145a012",
   "metadata": {},
   "source": [
    "#### * 파이썬의 정렬 라이브러리"
   ]
  },
  {
   "cell_type": "code",
   "execution_count": null,
   "id": "57ae36a3",
   "metadata": {},
   "outputs": [],
   "source": []
  },
  {
   "cell_type": "markdown",
   "id": "59dcac75",
   "metadata": {},
   "source": [
    "### 2. 위에서 아래로\n",
    "#### Try"
   ]
  },
  {
   "cell_type": "code",
   "execution_count": null,
   "id": "b4f4ac01",
   "metadata": {},
   "outputs": [],
   "source": []
  },
  {
   "cell_type": "markdown",
   "id": "34ba0f99",
   "metadata": {},
   "source": [
    "#### Answer"
   ]
  },
  {
   "cell_type": "code",
   "execution_count": null,
   "id": "0df992b8",
   "metadata": {},
   "outputs": [],
   "source": []
  },
  {
   "cell_type": "markdown",
   "id": "ad7df43d",
   "metadata": {},
   "source": [
    "### 3. 성적이 낮은 순서로 학생 출력하기\n",
    "#### Try"
   ]
  },
  {
   "cell_type": "code",
   "execution_count": null,
   "id": "298be49b",
   "metadata": {},
   "outputs": [],
   "source": []
  },
  {
   "cell_type": "markdown",
   "id": "d1627469",
   "metadata": {},
   "source": [
    "#### Answer"
   ]
  },
  {
   "cell_type": "code",
   "execution_count": null,
   "id": "9499ea10",
   "metadata": {},
   "outputs": [],
   "source": []
  },
  {
   "cell_type": "markdown",
   "id": "40e17653",
   "metadata": {},
   "source": [
    "### 4. 두 배열의 원소 교체\n",
    "#### Try"
   ]
  },
  {
   "cell_type": "code",
   "execution_count": null,
   "id": "b8ef2d70",
   "metadata": {},
   "outputs": [],
   "source": []
  },
  {
   "cell_type": "markdown",
   "id": "f1d60b13",
   "metadata": {},
   "source": [
    "#### Answer"
   ]
  },
  {
   "cell_type": "code",
   "execution_count": null,
   "id": "f50e94a4",
   "metadata": {},
   "outputs": [],
   "source": []
  }
 ],
 "metadata": {
  "kernelspec": {
   "display_name": "Python 3",
   "language": "python",
   "name": "python3"
  },
  "language_info": {
   "codemirror_mode": {
    "name": "ipython",
    "version": 3
   },
   "file_extension": ".py",
   "mimetype": "text/x-python",
   "name": "python",
   "nbconvert_exporter": "python",
   "pygments_lexer": "ipython3",
   "version": "3.8.8"
  }
 },
 "nbformat": 4,
 "nbformat_minor": 5
}
