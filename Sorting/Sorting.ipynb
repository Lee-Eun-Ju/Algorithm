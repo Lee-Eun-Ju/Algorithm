{
 "cells": [
  {
   "cell_type": "code",
   "execution_count": 1,
   "id": "b0b95d93",
   "metadata": {},
   "outputs": [
    {
     "data": {
      "text/html": [
       "<style>.container { width:90% !important; }</style>"
      ],
      "text/plain": [
       "<IPython.core.display.HTML object>"
      ]
     },
     "metadata": {},
     "output_type": "display_data"
    }
   ],
   "source": [
    "#창 맞추기위함\n",
    "from IPython.core.display import display, HTML\n",
    "display(HTML(\"<style>.container { width:90% !important; }</style>\"))"
   ]
  },
  {
   "cell_type": "markdown",
   "id": "9cdfaa81",
   "metadata": {},
   "source": [
    "## Sorting\n",
    "\n",
    "### 1. 기준에 따라 데이터를 정렬"
   ]
  },
  {
   "cell_type": "markdown",
   "id": "0339e56d",
   "metadata": {},
   "source": [
    "#### * 정렬 알고리즘 개요\n",
    "\n",
    "- 정렬: 데이터를 특정한 기준에 따라서 순서대로 나열 (이진 탐색의 전처리)\n",
    "- 정렬 알고리즘 종류: 선택, 삽입, 퀵, 계수"
   ]
  },
  {
   "cell_type": "markdown",
   "id": "a45a3093",
   "metadata": {},
   "source": [
    "#### 1) 선택 정렬\n",
    "\n",
    "- 매번 가장 작은 것을 선택해 앞으로 보내는 과정을 N-1번 반복   \n",
    "  : 가장 작은 데이터를 선택해 맨 앞에 있는 데이터와 바꾸고,   \n",
    "    그 다음 작은 데이터를 선택해 앞에서 두 번째 데이터와 바꾸는 과정   \n",
    "  : 특정 리스트에서 가장 작은 데이터를 찾는 일에 유용\n",
    "    \n",
    "- 스와프(Swap) 소스코드   \n",
    "  : 특정한 리스트가 주어졌을 때, 두 변수의 위치를 변경하는 작업"
   ]
  },
  {
   "cell_type": "code",
   "execution_count": 1,
   "id": "97be5168",
   "metadata": {},
   "outputs": [
    {
     "data": {
      "text/plain": [
       "[5, 3]"
      ]
     },
     "execution_count": 1,
     "metadata": {},
     "output_type": "execute_result"
    }
   ],
   "source": [
    "array = [3,5]\n",
    "array[0], array[1] = array[1], array[0]\n",
    "array"
   ]
  },
  {
   "cell_type": "code",
   "execution_count": 1,
   "id": "7b5ffb4c",
   "metadata": {},
   "outputs": [
    {
     "name": "stdout",
     "output_type": "stream",
     "text": [
      "[0, 1, 2, 3, 4, 5, 6, 7, 8, 9]\n"
     ]
    }
   ],
   "source": [
    "array = [7,5,9,0,3,1,6,2,4,8]\n",
    "\n",
    "for i in range(len(array)):\n",
    "    min_index = i\n",
    "\n",
    "    # i번째 자리에 (i,n) 중 min()값을 보내기\n",
    "    for j in range(i+1, len(array)):\n",
    "        if array[min_index]>array[j]:\n",
    "            min_index = j\n",
    "    array[i], array[min_index] = array[min_index], array[i]\n",
    "\n",
    "print(array)  "
   ]
  },
  {
   "cell_type": "markdown",
   "id": "9b6f95d1",
   "metadata": {},
   "source": [
    "#### 2) 삽입 정렬\n",
    "\n",
    "- 데이터를 하나씩 확인하며, 각 데이터를 적절한 위치에 삽입  \n",
    "  : 데이터가 거의 정렬되어 있을 때, 훨씬 효율적  \n",
    "  : 삽입 정렬시, 그 앞까지의 데이터는 이미 정렬되어 있다고 가정 (정렬이 이루어진 원소는 항상 오름차순)  \n",
    "  : 두 번째 데이터부터 시작  "
   ]
  },
  {
   "cell_type": "code",
   "execution_count": 2,
   "id": "7f2ae986",
   "metadata": {},
   "outputs": [
    {
     "name": "stdout",
     "output_type": "stream",
     "text": [
      "[0, 1, 2, 3, 4, 5, 6, 7, 8, 9]\n"
     ]
    }
   ],
   "source": [
    "array = [7,5,9,0,3,1,6,2,4,8]\n",
    "\n",
    "for i in range(len(array)):\n",
    "\n",
    "    # 인덱스 i부터 1까지 감소하며 반복하는 문법 : range(start, end, step)\n",
    "    for j in range(i,0,-1):\n",
    "        if array[j] < array[j-1]:\n",
    "            array[j], array[j-1] = array[j-1], array[j]\n",
    "        # 자신보다 작은 데이터가 없으면, stop \n",
    "        else:\n",
    "            break\n",
    "\n",
    "print(array)"
   ]
  },
  {
   "cell_type": "markdown",
   "id": "533d9fef",
   "metadata": {},
   "source": [
    "#### 3) 퀵 정렬\n",
    "\n",
    "- 기준을 설정한 후, 기준보다 큰 데이터와 작은 데이터의 위치를 변경  \n",
    "- 이미 데이터가 정렬된 경우에는 매우 느리게 동작  \n",
    "- 기준 설정 : 피벗 = 교환하기 위한 기준으로 퀵 정렬 수행 전 미리 명시 필요 \n",
    "- 리스트 분할 : 호어 분할 방식 = 리스트에서 첫 번째 데이터를 피벗으로 결정"
   ]
  },
  {
   "cell_type": "markdown",
   "id": "76adb008",
   "metadata": {},
   "source": [
    "PART1. \n",
    "- STEP1. 왼쪽에서 기준 데이터보다 큰 데이터 선택, 오른쪽에서 기준 데이터보다 작은 데이터 선택 후 위치 변경  \n",
    "- STEP2. 작은 데이터 인덱스 < 큰 데이터 인덱스 가 되는 시점부터는, 작은 데이터와 피벗의 위치를 변경\n",
    "- STEP3. 분할 완료 : 피벗의 왼쪽에는 작은 데이터가 위치, 오른쪽에는 큰 데이터가 위치\n",
    "\n",
    "PART 2.\n",
    "- 현재 피벗의 왼쪽 리스트에서 PART1 과정을 반복\n",
    "\n",
    "PART 3.\n",
    "- 현재 피벗의 오른쪽 리스트에서 PART1 과정을 반복"
   ]
  },
  {
   "cell_type": "markdown",
   "id": "be5fd987",
   "metadata": {},
   "source": [
    "- 퀵 정렬 : 재귀 함수의 동작원리와 동일\n",
    "- 퀵 정렬 끝나는 조건 : 현재 리스트의 데이터 개수가 1개인 경우"
   ]
  },
  {
   "cell_type": "code",
   "execution_count": 3,
   "id": "711cb6a7",
   "metadata": {},
   "outputs": [
    {
     "name": "stdout",
     "output_type": "stream",
     "text": [
      "[0, 1, 2, 3, 4, 5, 6, 7, 8, 9]\n"
     ]
    }
   ],
   "source": [
    "array = [7,5,9,0,3,1,6,2,4,8]\n",
    "\n",
    "def quick_sort(array,start,end):\n",
    "    # 원소가 한 개인 경우 종료\n",
    "    if start >= end:\n",
    "        return\n",
    "    \n",
    "    pivot = start\n",
    "    left = start+1 # 큰 데이터 찾기\n",
    "    right = end # 작은 데이터 찾기\n",
    "    \n",
    "    # 작은 데이터 인덱스 < 큰 데이터 인덱스 가 되는 시점까지\n",
    "    while left <=right:\n",
    "        \n",
    "        # 큰 데이터 찾은 경우 정지\n",
    "        while left<=end and array[left]<=array[pivot]:\n",
    "            left += 1\n",
    "        # 작은 데이터 찾은 경우 정지\n",
    "        while right>start and array[right]>=array[pivot]:\n",
    "            right -= 1\n",
    "        \n",
    "        if left > right: \n",
    "            array[right], array[pivot] = array[pivot], array[right]\n",
    "        else:\n",
    "            array[left], array[right] = array[right], array[left]\n",
    "    \n",
    "    quick_sort(array, start, right-1) # PART2\n",
    "    quick_sort(array,right+1, end) # PART3\n",
    "\n",
    "quick_sort(array,0,len(array)-1)\n",
    "print(array)\n",
    "\n",
    "\n",
    "\n",
    "\n"
   ]
  },
  {
   "cell_type": "code",
   "execution_count": 7,
   "id": "abc13770",
   "metadata": {},
   "outputs": [
    {
     "name": "stdout",
     "output_type": "stream",
     "text": [
      "[0, 1, 2, 3, 4, 5, 6, 7, 8, 9]\n"
     ]
    }
   ],
   "source": [
    "array = [7,5,9,0,3,1,6,2,4,8]\n",
    "\n",
    "def quick_sort(array):\n",
    "    if len(array) <=1:\n",
    "        return array\n",
    "    \n",
    "    pivot=array[0]\n",
    "    tail=array[1:]\n",
    "\n",
    "    left_side = [x for x in tail if x<=pivot]\n",
    "    right_side = [y for y in tail if y>pivot]\n",
    "\n",
    "    return quick_sort(left_side) + [pivot] + quick_sort(right_side)\n",
    "\n",
    "print(quick_sort(array))"
   ]
  },
  {
   "cell_type": "markdown",
   "id": "b6834e69",
   "metadata": {},
   "source": [
    "#### 4) 계수 정렬\n",
    "- 특정 조건이 부합할 때만 사용할 수 있으나, 매우 빠른 정렬 알고리즘\n",
    "- 모든 범위를 담을 수 있는 크기의 리스트 선언 후, 그 안에 정렬 정보를 담기\n",
    "- 데이터의 크기 범위가 제한되어 정수 형태로 표현할 수 있을 때 (max-min<1000000) 계수정렬 사용"
   ]
  },
  {
   "cell_type": "code",
   "execution_count": 8,
   "id": "e3d1d50c",
   "metadata": {},
   "outputs": [
    {
     "name": "stdout",
     "output_type": "stream",
     "text": [
      "0 0 1 1 2 2 3 4 5 5 6 7 8 9 9 "
     ]
    }
   ],
   "source": [
    "array = [7,5,9,0,3,1,6,2,9,1,4,8,0,5,2]\n",
    "count = [0]*(max(array)+1) # 0도 포함\n",
    "\n",
    "for i in range(len(array)):\n",
    "    count[array[i]] +=1\n",
    "\n",
    "for i in range(len(count)): # count의 index가\n",
    "    for j in range(count[i]): # 몇번 포함되어 있는가\n",
    "        print(i, end=\" \")"
   ]
  },
  {
   "cell_type": "markdown",
   "id": "5145a012",
   "metadata": {},
   "source": [
    "#### * 파이썬의 정렬 라이브러리"
   ]
  },
  {
   "cell_type": "code",
   "execution_count": 10,
   "id": "57ae36a3",
   "metadata": {},
   "outputs": [
    {
     "name": "stdout",
     "output_type": "stream",
     "text": [
      "[0, 1, 2, 3, 4, 5, 6, 7, 8, 9]\n",
      "[0, 1, 2, 3, 4, 5, 6, 7, 8, 9]\n",
      "[('바나나', 2), ('당근', 3), ('사과', 5)]\n"
     ]
    }
   ],
   "source": [
    "array = [7,5,9,0,3,1,6,2,4,8]\n",
    "\n",
    "# sorted : 입력(리스트, 딕셔너리, 집합) => 출력(리스트)\n",
    "result= sorted(array); print(result)\n",
    "\n",
    "# sort : 리스트 객체의 내장함수 (바로 정렬 수행)\n",
    "array.sort(); print(array)\n",
    "\n",
    "# key를 활용한 정렬 (key값은 하나의 함수가 되야 한다)\n",
    "array = [(\"바나나\",2), (\"사과\",5), (\"당근\",3)]\n",
    "def setting(data):\n",
    "    return data[1]\n",
    "result = sorted(array, key=setting)\n",
    "print(result)"
   ]
  },
  {
   "cell_type": "markdown",
   "id": "59dcac75",
   "metadata": {},
   "source": [
    "### 2. 위에서 아래로\n",
    "#### Try"
   ]
  },
  {
   "cell_type": "code",
   "execution_count": 13,
   "id": "b4f4ac01",
   "metadata": {},
   "outputs": [
    {
     "name": "stdout",
     "output_type": "stream",
     "text": [
      "27 15 12 "
     ]
    }
   ],
   "source": [
    "n = int(input()) \n",
    "\n",
    "result = []\n",
    "for i in range(n):\n",
    "    result.append(int(input()))\n",
    "\n",
    "result.sort(reverse=True)\n",
    "for i in range(n):\n",
    "    print(result[i], end=\" \")\n",
    "     "
   ]
  },
  {
   "cell_type": "markdown",
   "id": "ad7df43d",
   "metadata": {},
   "source": [
    "### 3. 성적이 낮은 순서로 학생 출력하기\n",
    "#### Try"
   ]
  },
  {
   "cell_type": "code",
   "execution_count": 15,
   "id": "298be49b",
   "metadata": {},
   "outputs": [
    {
     "name": "stdout",
     "output_type": "stream",
     "text": [
      "이순신 홍길동 "
     ]
    }
   ],
   "source": [
    "n = int(input())\n",
    "array = []\n",
    "\n",
    "for i in range(n):\n",
    "    x = list(input().split())\n",
    "    array.append((x[0], int(x[1])))\n",
    "\n",
    "array.sort(key=lambda x: x[1])\n",
    "\n",
    "for i in range(n):\n",
    "    print(array[i][0], end=\" \")"
   ]
  },
  {
   "cell_type": "markdown",
   "id": "40e17653",
   "metadata": {},
   "source": [
    "### 4. 두 배열의 원소 교체\n",
    "#### Try"
   ]
  },
  {
   "cell_type": "code",
   "execution_count": 18,
   "id": "b8ef2d70",
   "metadata": {},
   "outputs": [
    {
     "name": "stdout",
     "output_type": "stream",
     "text": [
      "26\n"
     ]
    }
   ],
   "source": [
    "n, k = map(int, input().split())\n",
    "a = list(map(int, input().split()))\n",
    "b = list(map(int, input().split()))\n",
    "\n",
    "a.sort()\n",
    "b.sort(reverse=True)\n",
    "\n",
    "for i in range(k):\n",
    "\n",
    "    # a가 b보다 큰 경우의 수를 고려\n",
    "    if a[i] < b[i]: \n",
    "        a[i] = b[i]\n",
    "    else:\n",
    "        break\n",
    "\n",
    "print(sum(a))"
   ]
  },
  {
   "cell_type": "markdown",
   "id": "f1d60b13",
   "metadata": {},
   "source": [
    "#### Answer"
   ]
  },
  {
   "cell_type": "code",
   "execution_count": null,
   "id": "f50e94a4",
   "metadata": {},
   "outputs": [],
   "source": []
  }
 ],
 "metadata": {
  "kernelspec": {
   "display_name": "Python 3",
   "language": "python",
   "name": "python3"
  },
  "language_info": {
   "codemirror_mode": {
    "name": "ipython",
    "version": 3
   },
   "file_extension": ".py",
   "mimetype": "text/x-python",
   "name": "python",
   "nbconvert_exporter": "python",
   "pygments_lexer": "ipython3",
   "version": "3.8.8"
  },
  "vscode": {
   "interpreter": {
    "hash": "12267be072c5c9ec35e8eb4b5c31284dc223e41abe9a640bca78ed7ada319265"
   }
  }
 },
 "nbformat": 4,
 "nbformat_minor": 5
}
