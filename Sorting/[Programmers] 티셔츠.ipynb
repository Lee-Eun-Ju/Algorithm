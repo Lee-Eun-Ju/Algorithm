{
 "cells": [
  {
   "attachments": {},
   "cell_type": "markdown",
   "metadata": {},
   "source": [
    "### 티셔츠\n",
    "\n",
    "- Try"
   ]
  },
  {
   "cell_type": "code",
   "execution_count": null,
   "metadata": {},
   "outputs": [],
   "source": [
    "def solution(people, tshirts):\n",
    "    \n",
    "    answer = 0\n",
    "    people.sort()\n",
    "    tshirts.sort()\n",
    "    \n",
    "    from collections import deque\n",
    "    _p = deque(people)\n",
    "    _t = deque(tshirts)\n",
    "\n",
    "    for i in _p:\n",
    "        for j in _t:\n",
    "            if i<=j:\n",
    "                answer += 1\n",
    "                _t.popleft() \n",
    "                break\n",
    "\n",
    "    return answer"
   ]
  },
  {
   "attachments": {},
   "cell_type": "markdown",
   "metadata": {},
   "source": [
    "- Answer"
   ]
  },
  {
   "cell_type": "code",
   "execution_count": null,
   "metadata": {},
   "outputs": [],
   "source": [
    "def solution(people, tshirts):\n",
    "    people.sort()\n",
    "    tshirts.sort()\n",
    "    p, t, answer = 0,0,0\n",
    "    \n",
    "    #작은 사람부터 작은 옷부터 입히기\n",
    "    while p<len(people) and t<len(tshirts):\n",
    "        if tshirts[t]>=people[p]:\n",
    "            answer += 1\n",
    "            p += 1\n",
    "        t += 1 #해당 옷을 입을 수 없다면 다음 옷 탐색\n",
    "\n",
    "    return answer"
   ]
  }
 ],
 "metadata": {
  "language_info": {
   "name": "python"
  },
  "orig_nbformat": 4
 },
 "nbformat": 4,
 "nbformat_minor": 2
}
