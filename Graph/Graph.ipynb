{
 "cells": [
  {
   "attachments": {},
   "cell_type": "markdown",
   "metadata": {},
   "source": [
    "## Graph\n",
    "\n",
    "### 1. 다양한 그래프 알고리즘"
   ]
  },
  {
   "attachments": {},
   "cell_type": "markdown",
   "metadata": {},
   "source": [
    "#### 1) 이미 배운 내용을 훑어보자\n",
    "\n",
    "- 그래프 알고리즘의 유형 : DFA/BFS, 최단 경로, 그외(서로소 집합, 신장트리, 위상정렬)\n",
    "- 그래프 : 노드와 노드 사이에 연결된 간선의 정보를 가지고 있는 자료구조 (서로 다른 개체가 연결되어 있다 => 그래프 알고리즘!)\n",
    "- 트리 : 그래프 자료구조 중 하나"
   ]
  },
  {
   "attachments": {},
   "cell_type": "markdown",
   "metadata": {},
   "source": [
    "- 그래프 vs 트리\n",
    "  - 그래프 : 방향/무방향 그래프, 순환/비순환, 루트노드 없음, 부모 자식 관계 없음, 네트워크 모델\n",
    "  - 트리 : 방향 그래프, 비순환, 루트노드 존재, 부모 자식 관계, 계층모델  \n",
    "\n",
    "- 그래프의 구현 방법\n",
    "  - 인접 행렬 : 2차원 배열을 사용하는 방식 (플로이드 워셜 알고리즘)\n",
    "  - 인접 리스트 : 리스트를 사용하는 방식 (다익스트라 최단 경로 알고리즘)"
   ]
  },
  {
   "attachments": {},
   "cell_type": "markdown",
   "metadata": {},
   "source": [
    "#### 2) 서로소 집합\n",
    "\n",
    "- 서로소 집합 : 공통 원소가 없는 두 집합\n",
    "- 서로소 집합 자료구조(union-find 자료구조) : 서로소 부분 집합들로 나누어진 원소들의 데이터를 처리하기 위한 자료구조 (union, find로 연산 조작)\n",
    "  - union : 2개의 원소가 포함된 집합을 하나의 집합으로 합치는 연산\n",
    "  - find : 특정 원소가 속한 집합이 어떤 집합인지 알려주는 연산 => 두 집합이 서로소 관계인지 확인할 수 있다\n",
    "- 서로소 집합 구현(트리구조 이용)\n",
    "  - STEP1. union(합집합) 연산을 확인하여, 서로 연결된 두 노드 A, B를 확인\n",
    "    - I. A와 B의 루트 노드 A', B'를 각각 찾는다 (루트노드: 부모가 없는 최상단의 노드)\n",
    "    - II. A'를 B'의 부모노드로 설정한다. (실제로는 더 번호가 작은 원소가 부모노드가 되도록)\n",
    "  - STEP2. 모든 union 연산을 처리할 때까지 1번 과정을 반복\n",
    "  - 각 원소는 노드, 같은 집합에 속한다는 정보는 간선으로 표현하여 연결성 확인 가능\n",
    "  - 루트 노드를 알기 위해서는 부모테이블을 통해 거슬러 올라가야 한다"
   ]
  },
  {
   "cell_type": "code",
   "execution_count": 3,
   "metadata": {},
   "outputs": [
    {
     "name": "stdout",
     "output_type": "stream",
     "text": [
      "1 1 1 1 5 5 1 1 2 1 5 5 "
     ]
    }
   ],
   "source": [
    "# 특정 원소가 속한 집합을 찾기 (루트노드 찾기)\n",
    "def find_parent(parent, x):\n",
    "    # 루트노드가 아닌 경우, 재귀적으로 호출\n",
    "    if parent[x] != x:\n",
    "        return find_parent(parent, parent[x])\n",
    "    # 루트노드가 맞다면, 해당 노드 x 반환\n",
    "    return x\n",
    "\n",
    "# 두 원소가 속한 집합을 합치기\n",
    "def union_parent(parent,a,b):\n",
    "    a = find_parent(parent,a) #a가 속한 집합(루트노드)\n",
    "    b = find_parent(parent,b) #b가 속한 집합(루트노드)\n",
    "    if a<b:\n",
    "        parent[b]=a\n",
    "    else:\n",
    "        parent[a]=b\n",
    "\n",
    "\n",
    "# 노드개수, 간선개수(union 연산개수)\n",
    "v, e = map(int, input().split())\n",
    "\n",
    "# 부모테이블 초기화 및 자기자신을 부모노드로 설정\n",
    "parent = [0]*(v+1) \n",
    "for i in range(1,v+1):\n",
    "    parent[i] = i\n",
    "\n",
    "# union 연산\n",
    "for i in range(e):\n",
    "    a,b = map(int, input().split())\n",
    "    union_parent(parent,a,b)\n",
    "\n",
    "\n",
    "# 각 원소가 속한 집합 => 루트노드가 같은 원소끼리 동일 집합 \n",
    "for i in range(1,v+1):\n",
    "    print(find_parent(parent,i), end=\" \")\n",
    "# 부모테이블 출력\n",
    "for i in range(1,v+1):\n",
    "    print(parent[i], end=\" \")"
   ]
  },
  {
   "attachments": {},
   "cell_type": "markdown",
   "metadata": {},
   "source": [
    "- 경로 압축기법 : find함수의 비효율성을 최적화\n",
    "  - 루트노드를 찾기 위해 계속해서 부모 노드를 거슬러 올라가야 함\n",
    "  - find함수를 재귀적으로 호출해 부모 테이블값을 갱신"
   ]
  },
  {
   "cell_type": "code",
   "execution_count": null,
   "metadata": {},
   "outputs": [],
   "source": [
    "def find_parent(parent, x):\n",
    "    if parent[x]!= x:\n",
    "        parent[x] = find_parent(parent, parent[x])\n",
    "    return parent[x]"
   ]
  },
  {
   "cell_type": "code",
   "execution_count": null,
   "metadata": {},
   "outputs": [],
   "source": [
    "# 경로 압축기법을 활용한 특정 원소가 속한 집합을 찾기 (루트노드 찾기)\n",
    "def find_parent(parent, x):\n",
    "    if parent[x]!= x:\n",
    "        parent[x] = find_parent(parent, parent[x])\n",
    "    return parent[x]\n",
    "\n",
    "def union_parent(parent,a,b):\n",
    "    a = find_parent(parent,a) \n",
    "    b = find_parent(parent,b) \n",
    "    if a<b:\n",
    "        parent[b]=a\n",
    "    else:\n",
    "        parent[a]=b\n",
    "\n",
    "\n",
    "v, e = map(int, input().split())\n",
    "parent = [0]*(v+1) \n",
    "for i in range(1,v+1):\n",
    "    parent[i] = i\n",
    "\n",
    "# union 연산\n",
    "for i in range(e):\n",
    "    a,b = map(int, input().split())\n",
    "    union_parent(parent,a,b)\n",
    "\n",
    "for i in range(1,v+1):\n",
    "    print(find_parent(parent,i), end=\" \")\n",
    "for i in range(1,v+1):\n",
    "    print(parent[i], end=\" \")"
   ]
  },
  {
   "attachments": {},
   "cell_type": "markdown",
   "metadata": {},
   "source": [
    "- 서로소 집합의 사용\n",
    "  - 무방향 그래프 내에서 사이클 판별할 때 사용 (방향 그래프에서는 DFS 이용)\n",
    "  - STEP1. 각 간선을 확인하며 두 노드의 루트 노드를 확인\n",
    "    - I. 루트 노드가 다르다면, 두 노드에 대해 union 연산\n",
    "    - II. 루트 노드가 같다면, 사이클 발생\n",
    "  - STEP2. 그래프에 포함된 모든 간선에 대해 1번 과정 반복"
   ]
  },
  {
   "cell_type": "code",
   "execution_count": 12,
   "metadata": {},
   "outputs": [
    {
     "name": "stdout",
     "output_type": "stream",
     "text": [
      "True\n"
     ]
    }
   ],
   "source": [
    "def find_parent(parent,x):\n",
    "    if parent[x]!=x:\n",
    "        parent[x] = find_parent(parent, parent[x])\n",
    "    return parent[x]\n",
    "\n",
    "def union_parent(parent, a, b):\n",
    "    a= find_parent(parent,a)\n",
    "    b= find_parent(parent,b)\n",
    "    if a<b:\n",
    "        parent[b]=a\n",
    "    else:\n",
    "        parent[a]=b\n",
    "\n",
    "v,e = map(int,input().split())\n",
    "parent = [0]*(v+1)\n",
    "for i in range(1,v+1):\n",
    "    parent[i]=i\n",
    "cycle = False #사이클 발생 여부\n",
    "\n",
    "for i in range(e):\n",
    "    a,b = map(int, input().split())\n",
    "    \n",
    "    #사이클 발생 시 종료\n",
    "    if find_parent(parent,a)==find_parent(parent,b):\n",
    "        cycle=True\n",
    "        break\n",
    "    #루트노드가 다르다면 union연산\n",
    "    else:\n",
    "        union_parent(parent,a,b)\n",
    "\n",
    "print(cycle)"
   ]
  },
  {
   "attachments": {},
   "cell_type": "markdown",
   "metadata": {},
   "source": [
    "#### 3) 신장 트리\n",
    "\n",
    "- 신장 트리 : 하나의 그래프가 있을 때, 모든 노드를 포함하면서(트리성립조건) 사이클이 존재하지 않는 부분 그래프\n",
    "- 최소 신장 트리 알고리즘 : 신장 트리 중 최소 비용으로 만들 수 있는 신장트리를 찾는 알고리즘\n",
    "  - 최소 비용으로 모든 노드를 연결할 수 있도록 찾는다. (Ex. 도시A와 B가 이동가능하도록 연결)\n",
    "- 크루스칼 알고리즘 : 최소 신장트리 알고리즘 중 대표적인 알고리즘 (그리디 알고리즘으로 분류)\n",
    "  - STEP1. 간선데이터를 비용에 따라 오름차순 정렬\n",
    "  - STEP2. 간선을 하나씩 확인하며 현재의 간선이 사이클을 발생시키는지 확인\n",
    "    - I. 사이클이 발생하지 않는 경우, 최소 신장 트리에 포함\n",
    "    - II. 사이클이 발생하는 경우, 최소 신장 트리에 포함시키지 않는다\n",
    "  - STEP3. 모든 간선에 대해 2번의 과정을 반복\n",
    "  - 최종적으로, 신장트리에 포함되는 간선의 개수는 '노드개수-1'이다."
   ]
  },
  {
   "cell_type": "code",
   "execution_count": 14,
   "metadata": {},
   "outputs": [
    {
     "name": "stdout",
     "output_type": "stream",
     "text": [
      "159\n"
     ]
    }
   ],
   "source": [
    "def find_parent(parent,x):\n",
    "    if parent[x]!=x:\n",
    "        parent[x] = find_parent(parent,parent[x])\n",
    "    return parent[x]\n",
    "\n",
    "def union_parent(parent,a,b):\n",
    "    a= find_parent(parent,a)\n",
    "    b= find_parent(parent,b)\n",
    "    if a<b:\n",
    "        parent[b]=a\n",
    "    else:\n",
    "        parent[a]=b\n",
    "\n",
    "v,e= map(int, input().split())\n",
    "parent= [0]*(v+1)\n",
    "for i in range(1,v+1):\n",
    "    parent[i]= i\n",
    "\n",
    "\n",
    "# 간선리스트와 최종비용 담을 변수\n",
    "edges = []\n",
    "result = 0\n",
    "\n",
    "# 간선에 대한 정보를 입력\n",
    "for _ in range(e):\n",
    "    a,b,cost = map(int,input().split())\n",
    "    # 비용으로 정렬하기 위해 첫번째 원소를 비용으로 설정\n",
    "    edges.append((cost,a,b))\n",
    "\n",
    "# 비용순으로 간선 정렬\n",
    "edges.sort()\n",
    "\n",
    "# 간선을 하나씩 확인하며 사이클 발생시키지 않는 집합 생성\n",
    "for edge in edges:\n",
    "    cost,a,b = edge\n",
    "    if find_parent(parent,a)!=find_parent(parent,b):\n",
    "        union_parent(parent,a,b)\n",
    "        result += cost\n",
    "\n",
    "print(result)"
   ]
  },
  {
   "attachments": {},
   "cell_type": "markdown",
   "metadata": {},
   "source": [
    "#### 4) 위상 정렬\n",
    "\n",
    "- 위상 정렬: 정렬 알고리즘의 일종으로 방향그래프의 모든 노드를 \"방향성에 거스르지 않도록 순서대로 나열하는 것\"\n",
    "  - 즉, 모든 선후 관계를 지키는 전체 순서 계산 ex) 선수과목을 고려한 학습 순서 설정\n",
    "  - 진입차수: 특정 노드로 들어오는 간선의 개수 ex) 선수과목이 2개인 과목의 진입차수는 2\n",
    "\n",
    "- 위상 정렬 알고리즘\n",
    "  - STEP1. 진입차수가 0인 노드를 큐에 넣는다\n",
    "  - STEP2. 큐가 빌때까지 과정 반복\n",
    "    - I. 큐에서 원소를 꺼내 해당 노드에서 출발하는 간선을 그래프에서 제거\n",
    "    - II. 새롭게 진입차수가 0이 된 노드를 큐에 넣기 \n",
    "  - 큐에서 빠져나간 노드를 순서대로 출력하면, 위상 정렬!\n",
    "  - 이때, 모든 원소를 방문하기 전 큐가 비면 사이클이 존재"
   ]
  },
  {
   "cell_type": "code",
   "execution_count": 1,
   "metadata": {},
   "outputs": [
    {
     "name": "stdout",
     "output_type": "stream",
     "text": [
      "1 2 5 3 6 4 7 "
     ]
    }
   ],
   "source": [
    "from collections import deque\n",
    "\n",
    "v,e= map(int,input().split())\n",
    "# 모든 노드에 대한 진입차수 초기화\n",
    "indegree = [0]*(v+1)\n",
    "# 각 노드에 연결된 간선 정보를 담는 리스트 초기화\n",
    "graph = [[] for i in range(v+1)]\n",
    "\n",
    "# 간선 정보와 진입차수 입력\n",
    "for _ in range(e):\n",
    "    a,b = map(int, input().split())\n",
    "    graph[a].append(b) #a->b로 이동\n",
    "    indegree[b] +=1 #b에 대한 진입차수 +1\n",
    "\n",
    "# 위상 정렬 함수\n",
    "def topology_sort():\n",
    "    result =[] #알고리즘 수행 결과\n",
    "    q = deque() #큐 실행\n",
    "\n",
    "    # 진입차수가 0인 노드를 큐에 입력 (초기)\n",
    "    for i in range(1,v+1):\n",
    "        if indegree[i]==0:\n",
    "            q.append(i)\n",
    "    \n",
    "    # 큐가 빌 때까지 반복\n",
    "    while q:\n",
    "        # 선입선출, 큐에서 원소 꺼내기\n",
    "        now = q.popleft()\n",
    "        result.append(now) \n",
    "\n",
    "        # 해당 노드와 연결된 노드의 진입차수 1씩 제거\n",
    "        for i in graph[now]:\n",
    "            indegree[i] -= 1\n",
    "            # 새롭게 진입차수가 0이 된 노드 큐에 입력\n",
    "            if indegree[i]==0:\n",
    "                q.append(i)\n",
    "\n",
    "    # 위장 정렬 함수 출력\n",
    "    for i in result:\n",
    "        print(i, end=\" \")\n",
    "\n",
    "topology_sort()"
   ]
  },
  {
   "attachments": {},
   "cell_type": "markdown",
   "metadata": {},
   "source": [
    "### 2. 팀 결성\n",
    "- Try"
   ]
  },
  {
   "cell_type": "code",
   "execution_count": 2,
   "metadata": {},
   "outputs": [
    {
     "name": "stdout",
     "output_type": "stream",
     "text": [
      "NO\n",
      "NO\n",
      "YES\n"
     ]
    }
   ],
   "source": [
    "def find_parent(parent,x):\n",
    "    if parent[x]!=x:\n",
    "        parent[x]=find_parent(parent,parent[x]) #parent[x]에 대해 find_parent\n",
    "    return parent[x]\n",
    "\n",
    "def union_parent(parent,a,b):\n",
    "    a= find_parent(parent,a)\n",
    "    b= find_parent(parent,b)\n",
    "    if a<b:\n",
    "        parent[b]=a\n",
    "    else:\n",
    "        parent[a]=b\n",
    "\n",
    "n,m = map(int, input().split())\n",
    "parent = [0]*(n+1)\n",
    "for i in range(1,n+1):\n",
    "    parent[i]=i\n",
    "\n",
    "for _ in range(m):\n",
    "    k, a, b = map(int,input().split())\n",
    "    if k==0:\n",
    "        union_parent(parent,a,b)\n",
    "    else:\n",
    "        if find_parent(parent,a)==find_parent(parent,b):\n",
    "            print(\"YES\")\n",
    "        else:\n",
    "            print(\"NO\")"
   ]
  },
  {
   "attachments": {},
   "cell_type": "markdown",
   "metadata": {},
   "source": [
    "### 3. 도시 분할 계획\n",
    "- Try\n",
    "\n",
    "** HINT : 최소 신장 트리를 찾은 뒤, 최소 신장 트리를 구성하는 간선 중 가장 비용이 큰 간선을 제거"
   ]
  },
  {
   "cell_type": "code",
   "execution_count": 7,
   "metadata": {},
   "outputs": [
    {
     "name": "stdout",
     "output_type": "stream",
     "text": [
      "8\n"
     ]
    }
   ],
   "source": [
    "def find_parent(parent,x):\n",
    "    if parent[x]!=x:\n",
    "        parent[x]=find_parent(parent,parent[x])\n",
    "    return parent[x]\n",
    "\n",
    "def union_parent(parent,a,b):\n",
    "    a= find_parent(parent,a)\n",
    "    b= find_parent(parent,b)\n",
    "    if a<b:\n",
    "        parent[b]=a\n",
    "    else:\n",
    "        parent[a]=b\n",
    "\n",
    "\n",
    "n,m = map(int, input().split())\n",
    "# ---- 부모테이블에 대한 정보가 필요 ----\n",
    "parent = [0]*(n+1)\n",
    "for i in range(1,n+1):\n",
    "    parent[i]=i\n",
    "\n",
    "edges = [] # 간선 정보\n",
    "for _ in range(m):\n",
    "    a,b,c = map(int, input().split())\n",
    "    edges.append((c,a,b))\n",
    "edges.sort()\n",
    "\n",
    "result = 0 # 비용 총합\n",
    "result_big = [] # 가장 큰 비용 기록\n",
    "\n",
    "for edge in edges:\n",
    "    c,a,b = edge\n",
    "    if find_parent(parent,a)!=find_parent(parent,b):\n",
    "        union_parent(parent,a,b)\n",
    "        result += c\n",
    "        result_big.append(c) #edges를 비용에 따라 오름차순정렬했으므로 result_big=c 라고 표현해도 된다.\n",
    "\n",
    "print(result-max(result_big))   \n"
   ]
  },
  {
   "attachments": {},
   "cell_type": "markdown",
   "metadata": {},
   "source": [
    "### 4. 커리큘럼\n",
    "- Answer"
   ]
  },
  {
   "cell_type": "code",
   "execution_count": 12,
   "metadata": {},
   "outputs": [
    {
     "name": "stdout",
     "output_type": "stream",
     "text": [
      "10\n",
      "20\n",
      "14\n",
      "18\n",
      "17\n"
     ]
    }
   ],
   "source": [
    "from collections import deque\n",
    "import copy # 리스트 변수의 값을 복사하는 연산\n",
    "\n",
    "\n",
    "# 강의 개수 / 진입차수 / 간선정보 담을 리스트\n",
    "n = int(input())\n",
    "indegree = [0]*(n+1) \n",
    "graph = [[] for i in range(n+1)]\n",
    "# 각 강의 시간을 0으로 초기화 -> 동시에 들을 수 있는 강의 중 max값을 찾을 예정\n",
    "time = [0]*(n+1)\n",
    "\n",
    "\n",
    "# input: 해당 강의 시간 - 강의 들어야하는 번호들 - (-1)\n",
    "for i in range(1,n+1):\n",
    "    data = list(map(int,input().split()))\n",
    "    time[i] = data[0]\n",
    "    for x in data[1:-1]:\n",
    "        indegree[i] +=1 #진입차수 +1\n",
    "        graph[x].append(i) # i강의는 x강의를 선수해야 한다(x->i)\n",
    "\n",
    "\n",
    "def topology_sort():\n",
    "    result = copy.deepcopy(time) #알고리즘 수행 결과를 담을 리스트(초기: time리스트 변수의 값을 복사)\n",
    "    q = deque()\n",
    "\n",
    "    # 진입차수가 0인 노드를 큐에 삽입\n",
    "    for i in range(1,n+1):\n",
    "        if indegree[i]==0:\n",
    "            q.append(i)\n",
    "    \n",
    "    # 큐가 빌 때까지 반복\n",
    "    while q:\n",
    "        now = q.popleft() # 큐에서 원소 꺼내기\n",
    "        for i in graph[now]:\n",
    "            indegree[i] -= 1 # 현재 노드와 연결된 노드들의 진입차수를 -1 (graph[x].append(i)로 보관하는 이유)\n",
    "            result[i] = max(result[i], result[now]+time[i]) # 기존 해당노드 수강시간 vs 큐에서 꺼낸 노드 수강시간+해당노드 수강시간\n",
    "            # 진입차수가 0이 되는 노드를 큐에 삽입\n",
    "            if indegree[i]==0:\n",
    "                q.append(i)\n",
    "\n",
    "    for i in range(1,n+1):\n",
    "        print(result[i])\n",
    "\n",
    "topology_sort()\n"
   ]
  },
  {
   "cell_type": "code",
   "execution_count": null,
   "metadata": {},
   "outputs": [],
   "source": []
  }
 ],
 "metadata": {
  "kernelspec": {
   "display_name": "Python 3",
   "language": "python",
   "name": "python3"
  },
  "language_info": {
   "codemirror_mode": {
    "name": "ipython",
    "version": 3
   },
   "file_extension": ".py",
   "mimetype": "text/x-python",
   "name": "python",
   "nbconvert_exporter": "python",
   "pygments_lexer": "ipython3",
   "version": "3.10.0"
  },
  "orig_nbformat": 4
 },
 "nbformat": 4,
 "nbformat_minor": 2
}
