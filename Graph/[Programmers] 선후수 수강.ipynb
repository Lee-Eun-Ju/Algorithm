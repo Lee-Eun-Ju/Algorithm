{
 "cells": [
  {
   "attachments": {},
   "cell_type": "markdown",
   "metadata": {},
   "source": [
    "## 선후수 수강"
   ]
  },
  {
   "attachments": {},
   "cell_type": "markdown",
   "metadata": {},
   "source": [
    "- Try"
   ]
  },
  {
   "cell_type": "code",
   "execution_count": null,
   "metadata": {},
   "outputs": [],
   "source": [
    "from collections import defaultdict, deque\n",
    "\n",
    "#선수과목 기록\n",
    "graph = defaultdict(list) \n",
    "for i in range(len(s1)):\n",
    "    graph[s1[i]].append(s2[i])\n",
    "for i in graph.keys():\n",
    "    graph[i].sort()\n",
    "\n",
    "#선수과목 개수\n",
    "data = {x:0 for x in s1+s2}\n",
    "for i,j in graph.items():\n",
    "    for x in j:\n",
    "        data[x] += 1"
   ]
  }
 ],
 "metadata": {
  "language_info": {
   "name": "python"
  },
  "orig_nbformat": 4
 },
 "nbformat": 4,
 "nbformat_minor": 2
}
