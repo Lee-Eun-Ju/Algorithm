{
 "cells": [
  {
   "cell_type": "code",
   "execution_count": 1,
   "metadata": {},
   "outputs": [
    {
     "data": {
      "text/html": [
       "<style>.container { width:90% !important; }</style>"
      ],
      "text/plain": [
       "<IPython.core.display.HTML object>"
      ]
     },
     "metadata": {},
     "output_type": "display_data"
    }
   ],
   "source": [
    "#창 맞추기위함\n",
    "from IPython.core.display import display, HTML\n",
    "display(HTML(\"<style>.container { width:90% !important; }</style>\"))"
   ]
  },
  {
   "cell_type": "markdown",
   "metadata": {},
   "source": [
    "## 이진 탐색\n",
    "\n",
    "### 1. 범위를 반씩 좁혀가는 탐색\n",
    "- 리스트 내에 데이터를 매우 빠르게 탐색하는 \"이진 탐색\""
   ]
  },
  {
   "cell_type": "markdown",
   "metadata": {},
   "source": [
    "\n",
    "#### 1) 순차 탐색\n",
    "- 리스트 안에 있는 특정 데이터를 찾기 위해, 앞에서부터 데이터를 하나씩 차례대로 확인하는 방법\n",
    "- 특정 값의 원소 유무 / 원소의 개수 등 순차 탐색 수행"
   ]
  },
  {
   "cell_type": "code",
   "execution_count": 2,
   "metadata": {},
   "outputs": [
    {
     "name": "stdout",
     "output_type": "stream",
     "text": [
      "5 Dongbin\n",
      "Hanul Jonggu Dongbin Taeil Sangwook\n",
      "3\n"
     ]
    }
   ],
   "source": [
    "def sequential_search(n, target, array):\n",
    "    for i in range(n):\n",
    "        if array[i]==target:\n",
    "            return i+1\n",
    "        \n",
    "input_data = input().split()\n",
    "n = int(input_data[0])\n",
    "target = input_data[1]\n",
    "array = input().split()\n",
    "\n",
    "print(sequential_search(n,target,array))    "
   ]
  },
  {
   "cell_type": "markdown",
   "metadata": {},
   "source": [
    "### 2) 이진 탐색 : 반으로 쪼개면서 탐색하기\n",
    "\n",
    "- 배열 내부의 데이터가 정렬되어 있어야만 사용할 수 있는 알고리즘\n",
    "- 탐색하고자 하는 데이터가 절반씩 줄어든다는 점에서 퀵 정렬과 공통점\n",
    "- 변수 3개 (시작점, 끝점, 중간점)을 사용하여 찾으려는 데이터와 중간점 위치의 데이터를 반복적으로 비교해서 찾는 방법\n",
    "  - [ STEP 1 ] 시작점과 끝점을 확인 후, 중간점 지정 (중간점이 실수일 때, 소수점 이하를 버림)  \n",
    "  - [ STEP 2 ] 중간점의 값과 찾고자 하는 값을 비교 후, 끝점 또는 시작점을 변경\n",
    "  - [ STEP 3 ] 이를 반복하며 찾고자 하는 값과 동일한 경우, 탐색 종료  \n",
    "  \n"
   ]
  },
  {
   "cell_type": "code",
   "execution_count": 1,
   "metadata": {},
   "outputs": [
    {
     "name": "stdout",
     "output_type": "stream",
     "text": [
      "4\n"
     ]
    }
   ],
   "source": [
    "# 재귀 함수로 구현\n",
    "\n",
    "def binary_search(array, target, start, end):\n",
    "    if start > end:\n",
    "        return None\n",
    "    \n",
    "    mid = (start+end)//2\n",
    "    if array[mid]==target:\n",
    "        return mid\n",
    "    elif array[mid]>target:\n",
    "        return binary_search(array, target, start, mid-1)\n",
    "    else:\n",
    "        return binary_search(array, target, mid+1, end)\n",
    "\n",
    "n, target = list(map(int, input().split()))\n",
    "array = list(map(int, input().split()))\n",
    "\n",
    "result = binary_search(array,target,0,n-1)\n",
    "if result == None:\n",
    "    print(\"원소가 존재하지 않습니다\")\n",
    "else:\n",
    "    print(result+1)\n",
    "\n"
   ]
  },
  {
   "cell_type": "code",
   "execution_count": 2,
   "metadata": {},
   "outputs": [
    {
     "name": "stdout",
     "output_type": "stream",
     "text": [
      "4\n"
     ]
    }
   ],
   "source": [
    "# 반복문 구현\n",
    "\n",
    "def binary_search(array, target, start, end):\n",
    "    while start<=end:\n",
    "        mid = (start+end)//2\n",
    "        if array[mid]==target:\n",
    "            return mid\n",
    "        elif array[mid]>target:\n",
    "            end = mid-1\n",
    "        else:\n",
    "            start = mid+1\n",
    "    return None\n",
    "\n",
    "n, target = list(map(int, input().split()))\n",
    "array = list(map(int, input().split()))\n",
    "\n",
    "result = binary_search(array,target,0,n-1)\n",
    "if result == None:\n",
    "    print(\"원소가 존재하지 않습니다\")\n",
    "else:\n",
    "    print(result+1)"
   ]
  },
  {
   "cell_type": "markdown",
   "metadata": {},
   "source": [
    "### 3) 트리 자료구조\n",
    "\n",
    "- 트리 자료구조 : 노드와 노드의 연결로 표현 (데이터베이스 시스템에서 많은 양의 데이터를 관리하기 위한 목적)\n",
    "- 노드 : 정보의 단위로서 어떠한 정보를 가지고 있는 개체\n",
    "\n",
    "* 트리 자료구조의 특징\n",
    "  - 트리: 부모 노드와 자식 노드의 관계로 표현\n",
    "  - 루트 노드: 최상단 노드\n",
    "  - 단말 노드: 최하단 노드\n",
    "  - 서브 트리: 트리에서 일부를 떠어낸 트리 구조\n",
    "  - 파일시스템과 같은 계층적이고 정렬된 데이터를 다루기 적합"
   ]
  },
  {
   "cell_type": "markdown",
   "metadata": {},
   "source": [
    "### 4) 이진 탐색 트리\n",
    "\n",
    "- 이진 탐색 트리: 이진 탐색이 동작할 수 있도록, 효율적 탐색이 가능한 자료구조\n",
    "- 이진 탐색 트리의 특징 (왼쪽 자식 노드 < 부모 노드 < 오른쪽 자식 노드)\n",
    "  - 부모 노드보다 왼쪽 자식 노드가 작다.\n",
    "  - 부모 노드보다 오른쪽 자식 노드가 크다."
   ]
  },
  {
   "cell_type": "code",
   "execution_count": 3,
   "metadata": {},
   "outputs": [],
   "source": [
    "# 빠르게 입력받기\n",
    "import sys\n",
    "input_data = sys.stdin.readline().rstrip()\n",
    "print(input_data)"
   ]
  },
  {
   "cell_type": "markdown",
   "metadata": {},
   "source": [
    "## 2. 부품 찾기\n",
    "\n",
    "- Try"
   ]
  },
  {
   "cell_type": "code",
   "execution_count": 11,
   "metadata": {},
   "outputs": [
    {
     "name": "stdout",
     "output_type": "stream",
     "text": [
      "no yes no yes no "
     ]
    }
   ],
   "source": [
    "N = int(input())\n",
    "array_n = list(map(int, input().split()))\n",
    "\n",
    "M = int(input())\n",
    "array_m = list(map(int, input().split()))\n",
    "\n",
    "# 보유 제품 정렬\n",
    "array_m.sort()\n",
    "for m in array_m:\n",
    "    start = 0; end = N-1 # 찾아야 할 때마다, start, end 새로 고침\n",
    "    while start <=end:    \n",
    "        mid = (start+end)//2  # start, end가 변함에 따라 mid 변화\n",
    "        if array_n[mid]==m:\n",
    "            print(\"yes\", end=\" \")\n",
    "            break\n",
    "        elif array_n[mid]<m:\n",
    "            start = mid +1\n",
    "        else:\n",
    "            end = mid -1\n",
    "    print(\"no\", end=\" \") # => yes일 때도 no가 출력된다"
   ]
  },
  {
   "cell_type": "markdown",
   "metadata": {},
   "source": [
    "- Answer (이진 탐색 알고리즘)"
   ]
  },
  {
   "cell_type": "code",
   "execution_count": 12,
   "metadata": {},
   "outputs": [
    {
     "name": "stdout",
     "output_type": "stream",
     "text": [
      "no yes yes "
     ]
    }
   ],
   "source": [
    "# 함수 이용\n",
    "\n",
    "def binary_search(array, target, start, end):\n",
    "    while start <=end:    \n",
    "        mid = (start+end)//2  # start, end가 변함에 따라 mid 변화\n",
    "        if array[mid]==target:\n",
    "            return mid\n",
    "        elif array[mid]<m:\n",
    "            start = mid +1\n",
    "        else:\n",
    "            end = mid -1\n",
    "    return None\n",
    "\n",
    "N = int(input())\n",
    "array_n = list(map(int, input().split()))\n",
    "array_n.sort()\n",
    "\n",
    "M = int(input())\n",
    "array_m = list(map(int, input().split()))\n",
    "\n",
    "for m in array_m:\n",
    "    result = binary_search(array_n, m, 0, N-1)\n",
    "    if result==None:\n",
    "        print(\"no\", end=\" \")\n",
    "    else:\n",
    "        print(\"yes\", end=\" \")"
   ]
  },
  {
   "cell_type": "markdown",
   "metadata": {},
   "source": [
    "- Answer (계수 정렬)\n",
    "  : 모든 원소의 번호를 포함할 수 있는 크기의 리스트 생성 후, 존재 여부 확인"
   ]
  },
  {
   "cell_type": "code",
   "execution_count": 13,
   "metadata": {},
   "outputs": [
    {
     "name": "stdout",
     "output_type": "stream",
     "text": [
      "no yes yes "
     ]
    }
   ],
   "source": [
    "n = int(input())\n",
    "array = [0]*1000001\n",
    "\n",
    "# 가게에 있는 부품 번호(인덱스)의 값을 1로 처리\n",
    "for i in input().split():\n",
    "    array[int(i)]=1\n",
    "\n",
    "m = int(input())\n",
    "x = list(map(int, input().split()))\n",
    "\n",
    "for i in x:\n",
    "    if array[i]==1:\n",
    "        print(\"yes\", end=\" \")\n",
    "    else:\n",
    "        print(\"no\", end=\" \")"
   ]
  },
  {
   "cell_type": "markdown",
   "metadata": {},
   "source": [
    "- Answer (집합 자료형) : 단순히 특정 수가 한 번이라도 등장했는지 검사"
   ]
  },
  {
   "cell_type": "code",
   "execution_count": 14,
   "metadata": {},
   "outputs": [
    {
     "name": "stdout",
     "output_type": "stream",
     "text": [
      "no yes yes "
     ]
    }
   ],
   "source": [
    "n = int(input())\n",
    "\n",
    "# set() : 집합자료형을 초기화 - 단순히 특정 데이터 존재하는지 확인할 때 효과적\n",
    "array = set(map(int, input().split()))\n",
    "\n",
    "m = int(input())\n",
    "x = list(map(int, input().split()))\n",
    "\n",
    "for i in x:\n",
    "    if i in array:\n",
    "        print(\"yes\", end=\" \")\n",
    "    else:\n",
    "        print(\"no\", end=\" \")"
   ]
  },
  {
   "cell_type": "markdown",
   "metadata": {},
   "source": [
    "## 3. 떡볶이 떡 만들기 \n",
    "\n",
    "- Try"
   ]
  },
  {
   "cell_type": "code",
   "execution_count": 36,
   "metadata": {},
   "outputs": [
    {
     "name": "stdout",
     "output_type": "stream",
     "text": [
      "3\n"
     ]
    }
   ],
   "source": [
    "n, m = map(int, input().split())\n",
    "array = list(map(int, input().split()))\n",
    "start = 0; end = max(array)-1\n",
    "\n",
    "while start<=end:\n",
    "    mid = (start+end)//2\n",
    "    total = sum(array) - n*mid\n",
    "    \n",
    "    if total==m:\n",
    "        result = mid\n",
    "        break\n",
    "    elif total<m:\n",
    "        end = mid-1\n",
    "    else:\n",
    "        start = mid+1\n",
    "    \n",
    "print(result)\n",
    "\n"
   ]
  },
  {
   "cell_type": "markdown",
   "metadata": {},
   "source": [
    "- Answer"
   ]
  },
  {
   "cell_type": "code",
   "execution_count": 40,
   "metadata": {},
   "outputs": [
    {
     "name": "stdout",
     "output_type": "stream",
     "text": [
      "15\n"
     ]
    }
   ],
   "source": [
    "n, m = map(int, input().split())\n",
    "array = list(map(int, input().split()))\n",
    "start = 0; end = max(array) # 5cm를 1cm씩 나누었을 때, 자르는 구간은 총 5개\n",
    "\n",
    "while start<=end:\n",
    "    mid = (start+end)//2\n",
    "    \n",
    "    total =0\n",
    "    for x in array:\n",
    "        if x>mid: # x<mid일 때, x-mid가 음수값이 된다. 하지만 우리는 0으로 처리해야 하므로 x>mid인 경우에만 계산\n",
    "            total += x-mid\n",
    "    \n",
    "    if total<m:\n",
    "        end = mid-1\n",
    "    else:\n",
    "        # 떡의 양이 처음으로 충분해졌을 때, result 기록 \n",
    "        result = mid\n",
    "        start = mid +1 # start를 이동시키지 않으면, while문 계속 작동 (start를 오른쪽으로 옮기면, 떡의 양이 부족해지므로 result가 변화될 가능성 X)\n",
    "    \n",
    "print(result)\n"
   ]
  }
 ],
 "metadata": {
  "kernelspec": {
   "display_name": "Python 3",
   "language": "python",
   "name": "python3"
  },
  "language_info": {
   "codemirror_mode": {
    "name": "ipython",
    "version": 3
   },
   "file_extension": ".py",
   "mimetype": "text/x-python",
   "name": "python",
   "nbconvert_exporter": "python",
   "pygments_lexer": "ipython3",
   "version": "3.10.0"
  }
 },
 "nbformat": 4,
 "nbformat_minor": 2
}
