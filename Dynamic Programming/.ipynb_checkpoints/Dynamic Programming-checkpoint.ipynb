{
 "cells": [
  {
   "cell_type": "code",
   "execution_count": 1,
   "metadata": {},
   "outputs": [
    {
     "data": {
      "text/html": [
       "<style>.container { width:90% !important; }</style>"
      ],
      "text/plain": [
       "<IPython.core.display.HTML object>"
      ]
     },
     "metadata": {},
     "output_type": "display_data"
    }
   ],
   "source": [
    "#창 맞추기위함\n",
    "from IPython.core.display import display, HTML\n",
    "display(HTML(\"<style>.container { width:90% !important; }</style>\"))"
   ]
  },
  {
   "cell_type": "markdown",
   "metadata": {},
   "source": [
    "## 다이나믹 프로그래밍\n",
    "\n",
    "#### 1. 다이나믹 프로그래밍 - 중복되는 연산을 줄이자"
   ]
  },
  {
   "cell_type": "markdown",
   "metadata": {},
   "source": [
    "- 컴퓨터 : 연산 속도, 메모리 공간에 한계 => 효율적인 알고리즘 작성 필요\n",
    "- 다이나믹 프로그래밍 (동적 계획법) : 메모리 공간을 약간 더 사용하면, 연산 속도를 비약적으로 증가시키는 방법\n"
   ]
  },
  {
   "cell_type": "markdown",
   "metadata": {},
   "source": [
    "- Ex) 피보나치 수열 : 이전 두 항의 합을 현재의 항으로 설정하는 수열\n",
    "  - n번째 항 = (n-1)번째 항 + (n-2)번째 항\n",
    "  - 1번째 항, 2번째 항 = 1, 1"
   ]
  },
  {
   "cell_type": "code",
   "execution_count": 1,
   "metadata": {},
   "outputs": [
    {
     "name": "stdout",
     "output_type": "stream",
     "text": [
      "3\n"
     ]
    }
   ],
   "source": [
    "# 재귀함수를 이용한 피보나치 수열\n",
    "\n",
    "def fibo(x):\n",
    "    if x==1 or x==2:\n",
    "        return 1\n",
    "    return fibo(x-1)+fibo(x-2)\n",
    "\n",
    "print(fibo(4))"
   ]
  },
  {
   "cell_type": "markdown",
   "metadata": {},
   "source": [
    "- fibo(n)에서 n이 커질수록 수행 시간이 기하급수적으로 증가\n",
    "- 다이나믹 프로그래밍을 사용하여 해결\n",
    "  - 단, 다음의 조건을 만족\n",
    "  - (1) 큰 문제를 작은 문제로 나눌 수 있다\n",
    "  - (2) 작은 문제에서 구한 정답은 그것을 포함하는 큰 문제에서도 동일하다"
   ]
  },
  {
   "cell_type": "markdown",
   "metadata": {},
   "source": [
    "- 메모이제이션 기법 (다이나믹 프로그래밍을 구현하는 방법 중 한 종류)\n",
    "  - 한 번 구한 결과를 메모리 공간에 메모해두고 (값을 저장하므로 \"캐싱\"이라고도 함)\n",
    "  - 같은 식을 다시 호출하면 메모한 결과를 그대로 가져오는 기법"
   ]
  },
  {
   "cell_type": "code",
   "execution_count": 3,
   "metadata": {},
   "outputs": [
    {
     "name": "stdout",
     "output_type": "stream",
     "text": [
      "218922995834555169026\n"
     ]
    }
   ],
   "source": [
    "# 메모리제이션(다이나믹 프로그래밍)을 활용한 피보나치 수열\n",
    "d = [0]*100\n",
    "\n",
    "def fibo(x):\n",
    "    if x==1 or x==2:\n",
    "        return 1\n",
    "    \n",
    "    # 계산한 문제라면, 해당 값을 그대로 반환\n",
    "    if d[x]!=0:\n",
    "        return d[x]\n",
    "    \n",
    "    d[x] = fibo(x-1) + fibo(x-2) # 계산 결과를 메모리(리스트)에 저장\n",
    "    return d[x]\n",
    "\n",
    "print(fibo(99))"
   ]
  },
  {
   "cell_type": "markdown",
   "metadata": {},
   "source": [
    "- 분할 정복 알고리즘 vs 다이나믹 프로그래밍\n",
    "  - 분할 정복 알고리즘 : 퀵 정렬, 기준 원소의 자리가 변경된 이후에 변경되지 않고 다시 처리되지도 않는다\n",
    "  - 다이나믹 프로그래밍 : 메모이제이션, 한 번 해결했던 문제를 다시 해결하고자 한다 (문제들이 서로 영향을 미치고 있다)"
   ]
  },
  {
   "cell_type": "code",
   "execution_count": 4,
   "metadata": {},
   "outputs": [
    {
     "name": "stdout",
     "output_type": "stream",
     "text": [
      "f(6) f(5) f(4) f(3) f(2) f(1) f(2) f(3) f(4) 8\n"
     ]
    }
   ],
   "source": [
    "# 호출되는 함수\n",
    "d = [0]*100\n",
    "\n",
    "def pibo(x):\n",
    "    print('f('+str(x)+')', end=\" \")\n",
    "    if x==1 or x==2:\n",
    "        return 1\n",
    "    if d[x]!=0:\n",
    "        return d[x]\n",
    "    d[x] = pibo(x-1)+pibo(x-2)\n",
    "    return d[x]\n",
    "\n",
    "print(pibo(6))"
   ]
  },
  {
   "cell_type": "markdown",
   "metadata": {
    "vscode": {
     "languageId": "plaintext"
    }
   },
   "source": [
    "- 탑다운 방식 : (재귀함수 이용) 큰 문제를 해결하기 위해 작은 문제 호출\n",
    "- 보텀업 방식 : (반복문 이용) 작은 문제부터 차근차근 답을 도출"
   ]
  },
  {
   "cell_type": "code",
   "execution_count": 5,
   "metadata": {},
   "outputs": [
    {
     "name": "stdout",
     "output_type": "stream",
     "text": [
      "218922995834555169026\n"
     ]
    }
   ],
   "source": [
    "d = [0]*100\n",
    "\n",
    "d[1]=1;d[2]=1\n",
    "n=99\n",
    "\n",
    "for i in range(3,n+1):\n",
    "    d[i] = d[i-1] + d[i-2]\n",
    "print(d[n])"
   ]
  },
  {
   "cell_type": "markdown",
   "metadata": {},
   "source": [
    "#### 2. 1로 만들기\n",
    "- Answer : 아직 이해를 못했댱,,,"
   ]
  },
  {
   "cell_type": "code",
   "execution_count": 8,
   "metadata": {},
   "outputs": [
    {
     "name": "stdout",
     "output_type": "stream",
     "text": [
      "0\n"
     ]
    }
   ],
   "source": [
    "x = int(input())\n",
    "d = [0]*30001\n",
    "\n",
    "for i in range(2, x+1):\n",
    "    "
   ]
  },
  {
   "cell_type": "markdown",
   "metadata": {},
   "source": [
    "#### 3. 개미 전사\n",
    "- Answer \n",
    "  - (i-1)번째 창고를 털 것인가? vs (i-2)번째 창고와 i번째 창고를 털 것인가?\n",
    "  - 왼쪽부터 선택해가며, 두 선택지 중 max인 값을 선택한다.\n",
    "  - x[i]에 저장되는 것은 지금까지 선택한 결과에 대한 식량의 양\n"
   ]
  },
  {
   "cell_type": "code",
   "execution_count": 22,
   "metadata": {},
   "outputs": [
    {
     "name": "stdout",
     "output_type": "stream",
     "text": [
      "8\n"
     ]
    }
   ],
   "source": [
    "n = int(input())\n",
    "array = list(map(int, input().split()))\n",
    "\n",
    "d = [0]*100\n",
    "\n",
    "d[0] = array[0]\n",
    "d[1] = max(array[0], array[1])\n",
    "for i in range(2, n):\n",
    "    d[i] = max(d[i-1], d[i-2]+array[i])\n",
    "print(d[n-1])"
   ]
  },
  {
   "cell_type": "markdown",
   "metadata": {},
   "source": [
    "#### 4. 바닥 공사\n",
    "- Try"
   ]
  },
  {
   "cell_type": "code",
   "execution_count": 24,
   "metadata": {},
   "outputs": [
    {
     "name": "stdout",
     "output_type": "stream",
     "text": [
      "12\n"
     ]
    }
   ],
   "source": [
    "n = int(input())\n",
    "d = [0]*100\n",
    "\n",
    "d[0] =0\n",
    "d[1] =1\n",
    "\n",
    "# 왼쪽부터 차례대로 채운다는 규율이 제대로 지켜지지 않았다. \n",
    "# => 해당 규율에 따르면 앞뒤로 바뀔 수 있는 경우의 수는 고려하지 않아도 된다.\n",
    "for i in range(2, n+1):\n",
    "    if i%2==0:\n",
    "        d[i] = (d[i-1]+2)*2 # 기존생각: 2cm가 증가한 경우, 두가지의 경우의 수만 존재 * 앞뒤로 바뀔 수 있는 경우의 수\n",
    "    else:\n",
    "        d[i] = d[i-1]*2 # 기존생각: 1cm가 증가한 경우, 하나의 경우의 수만 존재 * 앞뒤로 바뀔 수 있는 경우의 수\n",
    "\n",
    "print(d[n]%796796)"
   ]
  },
  {
   "cell_type": "markdown",
   "metadata": {},
   "source": [
    "- Answer"
   ]
  },
  {
   "cell_type": "code",
   "execution_count": 27,
   "metadata": {},
   "outputs": [
    {
     "name": "stdout",
     "output_type": "stream",
     "text": [
      "5\n"
     ]
    }
   ],
   "source": [
    "n = int(input())\n",
    "d = [0]*1001\n",
    "\n",
    "d[1] =1\n",
    "d[2] =3 #1cm를 추가할 때와 2cm를 추가할 때가 다르므로 초기값 지정 필요\n",
    "\n",
    "for i in range(3, n+1):\n",
    "    d[i] = (d[i-1] + d[i-2]*2)%796796\n",
    "\n",
    "print(d[n])"
   ]
  },
  {
   "cell_type": "markdown",
   "metadata": {},
   "source": [
    "#### 5. 효율적인 화폐 구성\n",
    "- Try"
   ]
  },
  {
   "cell_type": "code",
   "execution_count": 41,
   "metadata": {},
   "outputs": [
    {
     "name": "stdout",
     "output_type": "stream",
     "text": [
      "1\n"
     ]
    }
   ],
   "source": [
    "n,m = map(int, input().split())\n",
    "array=[]\n",
    "for i in range(n):\n",
    "    array.append(int(input()))\n",
    "array.sort()\n",
    "\n",
    "d=[0]*100\n",
    "\n",
    "# 화폐 하나만으로 M을 충족할 수 있는 경우\n",
    "for i in range(0,m+1):\n",
    "    for j in array:\n",
    "        if i==j:\n",
    "            d[i]=1\n",
    "\n",
    "# 그 외 차례대로 만들어가기\n",
    "for i in range(0,m+1): # => 위의 경우와 중복되는 처리를 해버리며, 화폐단위부터 작업을 시작해야 하는데 이경우 만들어지지 않는 화폐가 없어진다.\n",
    "                       # 즉, j부터 화폐 생성을 해 나가야 한다.\n",
    "    for j in array:\n",
    "        if d[i+j]==0:\n",
    "            d[i+j] = d[i] +1\n",
    "        if d[i+j]!=0:\n",
    "            d[i+j] = min(d[i+j], d[i]+1)\n",
    "\n",
    "if d[m]==0:\n",
    "    print(-1)\n",
    "else:\n",
    "    print(d[m])"
   ]
  },
  {
   "cell_type": "markdown",
   "metadata": {},
   "source": [
    "- 큰 단위가 작은 단위의 배수가 아니므로, 가장 큰 화폐부터 처리하는 방법으로 해결하지 못하고 \"다이나믹 프로그래밍\"을 이용\n",
    "- 적은 금액부터 큰 금액까지 차례대로 만들 수 있는 최소한의 화폐 개수 탐색\n",
    "- 만들 수 있는 경우 : min(금액 i를 만들 수 있는 최소한의 화폐개수, 금액 i-k(화폐단위)를 만들 수 있는 최소한의 화폐개수 + 1) "
   ]
  },
  {
   "cell_type": "code",
   "execution_count": 38,
   "metadata": {},
   "outputs": [
    {
     "name": "stdout",
     "output_type": "stream",
     "text": [
      "5\n"
     ]
    }
   ],
   "source": [
    "n,m = map(int, input().split())\n",
    "array=[]\n",
    "for i in range(n):\n",
    "    array.append(int(input()))\n",
    "array.sort()\n",
    "\n",
    "# 10001로 설정할 시 0일 때 아닐때를 구별할 필요가 없어진다 \n",
    "# m+1까지만 리스트 생성하면 된다\n",
    "d=[10001]*(m+1) \n",
    "\n",
    "# 각 화폐마다 만들어갈 수 있는 금액에 대해 생성\n",
    "d[0]=0\n",
    "for i in range(n):\n",
    "    for j in range(array[i], m+1):\n",
    "        d[j] = min(d[j], d[j-array[i]]+1)\n",
    "\n",
    "\n",
    "if d[m]==10001:\n",
    "    print(-1)\n",
    "else:\n",
    "    print(d[m])"
   ]
  },
  {
   "cell_type": "code",
   "execution_count": null,
   "metadata": {},
   "outputs": [],
   "source": []
  }
 ],
 "metadata": {
  "kernelspec": {
   "display_name": "Python 3",
   "language": "python",
   "name": "python3"
  },
  "language_info": {
   "codemirror_mode": {
    "name": "ipython",
    "version": 3
   },
   "file_extension": ".py",
   "mimetype": "text/x-python",
   "name": "python",
   "nbconvert_exporter": "python",
   "pygments_lexer": "ipython3",
   "version": "3.8.8"
  }
 },
 "nbformat": 4,
 "nbformat_minor": 2
}
