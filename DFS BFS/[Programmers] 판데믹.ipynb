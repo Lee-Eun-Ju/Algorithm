{
 "cells": [
  {
   "attachments": {},
   "cell_type": "markdown",
   "metadata": {},
   "source": [
    "## 판데믹"
   ]
  },
  {
   "attachments": {},
   "cell_type": "markdown",
   "metadata": {},
   "source": [
    "- Try"
   ]
  },
  {
   "cell_type": "code",
   "execution_count": null,
   "metadata": {},
   "outputs": [],
   "source": [
    "def solution(rows, columns, max_virus, queries):\n",
    " \n",
    "    result = [[0 for _ in range(columns)] for _ in range(rows)]\n",
    "    queries.reverse()\n",
    "\n",
    "    def virus_plus(i,j,result,done):\n",
    "        if 0<=i and i<rows and 0<=j and j<columns:\n",
    "                                        # 최대 1번만 증식\n",
    "            if result[i][j]<max_virus and [i,j] not in done:\n",
    "                done.append([i,j])\n",
    "\n",
    "            elif result[i][j] == max_virus and [i,j] not in done:\n",
    "                done.append([i,j])\n",
    "                virus_plus(i-1,j,result,done) #상\n",
    "                virus_plus(i+1,j,result,done) #하\n",
    "                virus_plus(i,j-1,result,done) #좌\n",
    "                virus_plus(i,j+1,result,done) #우\n",
    "                done.remove([i,j])\n",
    "        return done\n",
    "    \n",
    "    while queries:\n",
    "\n",
    "        i,j = queries[-1]\n",
    "        i -= 1; j -= 1\n",
    "        done = []\n",
    "\n",
    "        done = virus_plus(i,j,result,done)\n",
    "        for x,y in done:\n",
    "            result[x][y] += 1\n",
    "        queries.pop()\n",
    "\n",
    "    return result"
   ]
  }
 ],
 "metadata": {
  "language_info": {
   "name": "python"
  },
  "orig_nbformat": 4
 },
 "nbformat": 4,
 "nbformat_minor": 2
}
